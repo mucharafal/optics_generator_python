{
 "cells": [
  {
   "cell_type": "code",
   "execution_count": 1,
   "metadata": {},
   "outputs": [],
   "source": [
    "import ptc_twiss.madx_configuration as configuration\n",
    "import ptc_twiss.matrix_indexes as indexes\n",
    "import ptc_twiss.transporter as ptc_twiss_transporter_builder\n",
    "import visualization.visualize as plotter\n",
    "import data.grid_configuration as buc\n",
    "import data.particles_generator as pg\n",
    "import os\n",
    "import matplotlib.pyplot as plt\n",
    "import seaborn as sns\n",
    "from data.parameters_names import ParametersNames as Parameters"
   ]
  },
  {
   "cell_type": "code",
   "execution_count": 2,
   "metadata": {},
   "outputs": [],
   "source": [
    "plt.style.use([\"ggplot\"])"
   ]
  },
  {
   "cell_type": "markdown",
   "metadata": {},
   "source": [
    "Change below path for path to unziped folder"
   ]
  },
  {
   "cell_type": "code",
   "execution_count": 3,
   "metadata": {},
   "outputs": [],
   "source": [
    "path_to_project = \"/home/rafalmucha/Pobrane/optic\"\n",
    "\n",
    "optic_folder_name = \"2016\"\n",
    "\n",
    "ptc_twiss_script_file_name = \"ptc_twiss_script.madx\"\n",
    "\n",
    "xml_file_name = \"configuration_reconst_beam1.xml\"\n",
    "item_number = 2\n",
    "\n",
    "serialized_approximator_file_name = \"parametrization_cpp_code.root\"\n",
    "approximator_name = \"ip5_to_station_220_h_2_lhcb1\"\n",
    "\n",
    "name_of_folder_with_sources = \"optics_generator_python\""
   ]
  },
  {
   "cell_type": "code",
   "execution_count": 4,
   "metadata": {},
   "outputs": [],
   "source": [
    "s = 219.55\n",
    "item_number = 2\n",
    "path_to_xml_file = os.path.join(path_to_project, optic_folder_name, xml_file_name)\n",
    "twiss_configuration = configuration.TwissConfiguration.get_configuration_from_file(path_to_xml_file, item_number, s)\n",
    "twiss_transporter = ptc_twiss_transporter_builder.get_transporter(twiss_configuration)"
   ]
  },
  {
   "cell_type": "code",
   "execution_count": 5,
   "metadata": {},
   "outputs": [],
   "source": [
    "x_mean = 0\n",
    "sigma_x = 0\n",
    "theta_x_mean = 0\n",
    "sigma_theta_x = 0\n",
    "y_mean = 0\n",
    "sigma_y = 0\n",
    "theta_y_mean = 0\n",
    "sigma_theta_y = 0\n",
    "pt_mean = -0.01\n",
    "sigma_pt = 0.01\n",
    "\n",
    "x_resolution = 1\n",
    "theta_x_resolution = 1\n",
    "y_resolution = 1\n",
    "theta_y_resolution = 1\n",
    "pt_resolution = 11\n",
    "\n",
    "grid_configuration = buc.GridConfiguration.from_sigma(x_mean, sigma_x, x_resolution,\n",
    "                                                       theta_x_mean, sigma_theta_x, theta_x_resolution,\n",
    "                                                       y_mean, sigma_y, y_resolution,\n",
    "                                                       theta_y_mean, sigma_theta_y, theta_y_resolution,\n",
    "                                                        pt_mean, sigma_pt, pt_resolution)"
   ]
  },
  {
   "cell_type": "code",
   "execution_count": 6,
   "metadata": {},
   "outputs": [],
   "source": [
    "particles = pg.generate_from_range(grid_configuration)"
   ]
  },
  {
   "cell_type": "code",
   "execution_count": 7,
   "metadata": {},
   "outputs": [],
   "source": [
    "title_sufix = \"2017 nominal, twiss\""
   ]
  },
  {
   "cell_type": "code",
   "execution_count": 8,
   "metadata": {},
   "outputs": [],
   "source": [
    "transporter = ptc_twiss_transporter_builder.get_transporter(twiss_configuration)"
   ]
  },
  {
   "cell_type": "code",
   "execution_count": null,
   "metadata": {},
   "outputs": [],
   "source": [
    "segments = transporter(particles)"
   ]
  },
  {
   "cell_type": "code",
   "execution_count": null,
   "metadata": {},
   "outputs": [],
   "source": [
    "matrix = segments[\"end\"]"
   ]
  },
  {
   "cell_type": "code",
   "execution_count": null,
   "metadata": {},
   "outputs": [],
   "source": [
    "f, axes = plt.subplots(1, 2)\n",
    "\n",
    "fig = plt.gcf()\n",
    "fig.set_size_inches(20,10)\n",
    "\n",
    "mapping = indexes.ptc_twiss\n",
    "\n",
    "plotter.plot_from_one_matrix(Parameters.PT, Parameters.D_Y, matrix, title_sufix=title_sufix, ax=axes[0])\n",
    "axes = plotter.plot_from_one_matrix(Parameters.PT, Parameters.D_X, matrix, title_sufix=title_sufix, ax=axes[1])"
   ]
  },
  {
   "cell_type": "code",
   "execution_count": null,
   "metadata": {},
   "outputs": [],
   "source": []
  }
 ],
 "metadata": {
  "kernelspec": {
   "display_name": "Python 3",
   "language": "python",
   "name": "python3"
  },
  "language_info": {
   "codemirror_mode": {
    "name": "ipython",
    "version": 3
   },
   "file_extension": ".py",
   "mimetype": "text/x-python",
   "name": "python",
   "nbconvert_exporter": "python",
   "pygments_lexer": "ipython3",
   "version": "3.7.4"
  }
 },
 "nbformat": 4,
 "nbformat_minor": 2
}
