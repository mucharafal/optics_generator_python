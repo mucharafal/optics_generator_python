{
 "cells": [
  {
   "cell_type": "code",
   "execution_count": 1,
   "metadata": {},
   "outputs": [
    {
     "name": "stdout",
     "output_type": "stream",
     "text": [
      "Welcome to JupyROOT 6.18/00\n"
     ]
    }
   ],
   "source": [
    "import ptc_twiss.madx_configuration as twiss_configuration\n",
    "import ptc_twiss.matrix_indexes as twiss_indexes\n",
    "import ptc_twiss.optics_parameters as twiss_optics_parameters\n",
    "import ptc_track.madx_configuration as track_configuration\n",
    "import ptc_track.matrix_indexes as track_indexes\n",
    "import ptc_track.optics_parameters as track_optics_parameters\n",
    "import visualization.optics_parameter_visualisation as plotter\n",
    "import approximator.runner as app_runner\n",
    "import approximator.optics_parameters as app_op\n",
    "import approximator.matrix_indexes as app_indexes\n",
    "import data.bunch_configuration as buc\n",
    "import os\n",
    "import matplotlib.pyplot as plt\n",
    "import seaborn as sns"
   ]
  },
  {
   "cell_type": "code",
   "execution_count": 2,
   "metadata": {},
   "outputs": [],
   "source": [
    "sns.set_style(\"whitegrid\")"
   ]
  },
  {
   "cell_type": "markdown",
   "metadata": {},
   "source": [
    "Change below path for path to unziped folder"
   ]
  },
  {
   "cell_type": "code",
   "execution_count": 3,
   "metadata": {},
   "outputs": [],
   "source": [
    "path_to_project = \"/home/rafalmucha/Pobrane/optic\"\n",
    "folder_name = \"2017_matched\"\n",
    "script_file_name = \"inputmadx_matched.madx\"\n",
    "xml_file_name = \"configuration_reco_beam1_test.xml\""
   ]
  },
  {
   "cell_type": "code",
   "execution_count": 4,
   "metadata": {},
   "outputs": [],
   "source": [
    "path_to_script = os.path.join(path_to_project, folder_name, script_file_name)\n",
    "s = 219.55\n",
    "twiss_configuration = twiss_configuration.TwissConfiguration(path_to_script, s)"
   ]
  },
  {
   "cell_type": "code",
   "execution_count": 5,
   "metadata": {},
   "outputs": [],
   "source": [
    "path_to_configuration = os.path.join(path_to_project, folder_name)\n",
    "path_to_xml_file = os.path.join(path_to_project, folder_name, xml_file_name)\n",
    "item_number = 0\n",
    "track_configuration = track_configuration.TrackConfiguration(path_to_xml_file, item_number, path_to_configuration)"
   ]
  },
  {
   "cell_type": "code",
   "execution_count": 6,
   "metadata": {},
   "outputs": [],
   "source": [
    "parametrisation_file_name = \"parametrization_6500GeV_0p4_185_reco_test_fet.root\"\n",
    "approximator_name = \"ip5_to_station_220_h_2_lhcb1\"\n",
    "path_to_file = os.path.join(path_to_project, folder_name, parametrisation_file_name)\n",
    "source_folder_name = \"optics_generator_python\"\n",
    "path_to_sources = os.path.join(path_to_project, source_folder_name)\n",
    "approximator_fet = app_runner.get_approximator(path_to_sources, path_to_file, approximator_name)"
   ]
  },
  {
   "cell_type": "code",
   "execution_count": 7,
   "metadata": {},
   "outputs": [],
   "source": [
    "parametrisation_file_name = \"parametrization_6500GeV_0p4_185_reco_test_fit.root\"\n",
    "approximator_name = \"ip5_to_station_220_h_2_lhcb1\"\n",
    "path_to_file = os.path.join(path_to_project, folder_name, parametrisation_file_name)\n",
    "source_folder_name = \"optics_generator_python\"\n",
    "path_to_sources = os.path.join(path_to_project, source_folder_name)\n",
    "approximator_fit = app_runner.get_approximator(path_to_sources, path_to_file, approximator_name)"
   ]
  },
  {
   "cell_type": "code",
   "execution_count": 8,
   "metadata": {},
   "outputs": [],
   "source": [
    "parametrisation_file_name = \"parametrization_6500GeV_0p4_185_reco_test_old.root\"\n",
    "approximator_name = \"ip5_to_station_220_h_2_lhcb1\"\n",
    "path_to_file = os.path.join(path_to_project, folder_name, parametrisation_file_name)\n",
    "source_folder_name = \"optics_generator_python\"\n",
    "path_to_sources = os.path.join(path_to_project, source_folder_name)\n",
    "approximator_old = app_runner.get_approximator(path_to_sources, path_to_file, approximator_name)"
   ]
  },
  {
   "cell_type": "code",
   "execution_count": 9,
   "metadata": {},
   "outputs": [],
   "source": [
    "x_mean = 0\n",
    "sigma_x = 0\n",
    "theta_x_mean = 160e-6 + 150e-6\n",
    "sigma_theta_x = 0\n",
    "y_mean = -1.5e-3\n",
    "sigma_y = 0\n",
    "theta_y_mean = 0\n",
    "sigma_theta_y = 0\n",
    "pt_mean = -0.1\n",
    "sigma_pt = 0.1\n",
    "\n",
    "x_resolution = 1\n",
    "theta_x_resolution = 1\n",
    "y_resolution = 1\n",
    "theta_y_resolution = 1\n",
    "pt_resolution = 1\n",
    "\n",
    "bunch_configuration = buc.BunchConfiguration.from_sigma(x_mean, sigma_x, x_resolution,\n",
    "                                                       theta_x_mean, sigma_theta_x, theta_x_resolution,\n",
    "                                                       y_mean, sigma_y, y_resolution,\n",
    "                                                       theta_y_mean, sigma_theta_y, theta_y_resolution,\n",
    "                                                        pt_mean, sigma_pt, pt_resolution)"
   ]
  },
  {
   "cell_type": "code",
   "execution_count": 10,
   "metadata": {},
   "outputs": [],
   "source": [
    "title_sufix = r\"2017 matched, $\\xi=0$, set delta p and XA\"\n",
    "transporter1 = \"ptc_twiss\"\n",
    "transporter2 = \"ptc_track\"\n",
    "transporter3 = \"app_fet\"\n",
    "transporter4 = \"app_fit\"\n",
    "transporter5 = \"app_old\"\n",
    "transporter6 = \"app_160\"\n",
    "transporter7 = \"prototype_total\""
   ]
  },
  {
   "cell_type": "code",
   "execution_count": 11,
   "metadata": {},
   "outputs": [],
   "source": [
    "optical_functions_dx = {\n",
    "    transporter1: (twiss_optics_parameters.compute_d_x, twiss_configuration),\n",
    "#     transporter2: (track_optics_parameters.compute_d_x, track_configuration),\n",
    "#     transporter3: (app_op.compute_d_x, approximator_fet),\n",
    "#     transporter4: (app_op.compute_d_x, approximator_fit),\n",
    "#     transporter5: (app_op.compute_d_x, approximator_old),\n",
    "#     transporter6: (app_op.compute_d_x, approximator_160)\n",
    "}\n",
    "optical_functions_dy = {\n",
    "#     transporter1: (twiss_optics_parameters.compute_d_y, twiss_configuration),\n",
    "    transporter2: (track_optics_parameters.compute_d_y, track_configuration),\n",
    "    transporter3: (app_op.compute_d_y, approximator_fet),\n",
    "    transporter4: (app_op.compute_d_y, approximator_fit),\n",
    "    transporter5: (app_op.compute_d_y, approximator_old),\n",
    "#     transporter6: (app_op.compute_d_y, approximator_160)\n",
    "}\n",
    "optical_functions_lx = {\n",
    "#     transporter1: (twiss_optics_parameters.compute_l_x, twiss_configuration),\n",
    "    transporter2: (track_optics_parameters.compute_l_x, track_configuration),\n",
    "    transporter3: (app_op.compute_l_x, approximator_fet),\n",
    "    transporter4: (app_op.compute_l_x, approximator_fit),\n",
    "    transporter5: (app_op.compute_l_x, approximator_old),\n",
    "#     transporter6: (app_op.compute_l_x, approximator_160)\n",
    "}\n",
    "optical_functions_ly = {\n",
    "#     transporter1: (twiss_optics_parameters.compute_l_y, twiss_configuration),\n",
    "    transporter2: (track_optics_parameters.compute_l_y, track_configuration),\n",
    "    transporter3: (app_op.compute_l_y, approximator_fet),\n",
    "    transporter4: (app_op.compute_l_y, approximator_fit),\n",
    "    transporter5: (app_op.compute_l_y, approximator_old),\n",
    "#     transporter6: (app_op.compute_l_y, approximator_160)\n",
    "}"
   ]
  },
  {
   "cell_type": "code",
   "execution_count": 12,
   "metadata": {},
   "outputs": [
    {
     "name": "stdout",
     "output_type": "stream",
     "text": [
      "(13,)\n",
      "(13,)\n",
      "(13,)\n",
      "(13,)\n",
      "(13,)\n",
      "(13,)\n",
      "(13,)\n",
      "(13,)\n",
      "(13,)\n",
      "(13,)\n",
      "(13,)\n",
      "(13,)\n",
      "(13,)\n",
      "(13,)\n",
      "(13,)\n",
      "(13,)\n",
      "(13,)\n",
      "(13,)\n",
      "(13,)\n",
      "(13,)\n",
      "(13,)\n",
      "(13,)\n",
      "(13,)\n",
      "(13,)\n",
      "(13,)\n",
      "(13,)\n",
      "(13,)\n",
      "(13,)\n",
      "(13,)\n",
      "(13,)\n",
      "(13,)\n",
      "(13,)\n",
      "(13,)\n",
      "(13,)\n",
      "(13,)\n",
      "(13,)\n",
      "(13,)\n",
      "(13,)\n",
      "(13,)\n",
      "(13,)\n",
      "(13,)\n",
      "(13,)\n",
      "(13,)\n",
      "(13,)\n",
      "(13,)\n",
      "(13,)\n",
      "(13,)\n",
      "(13,)\n",
      "(0,)\n"
     ]
    },
    {
     "ename": "IndexError",
     "evalue": "index 3 is out of bounds for axis 0 with size 2",
     "output_type": "error",
     "traceback": [
      "\u001b[0;31m---------------------------------------------------------------------------\u001b[0m",
      "\u001b[0;31mIndexError\u001b[0m                                Traceback (most recent call last)",
      "\u001b[0;32m<ipython-input-12-7a6ad107ec15>\u001b[0m in \u001b[0;36m<module>\u001b[0;34m\u001b[0m\n\u001b[0;32m----> 1\u001b[0;31m \u001b[0mplotter\u001b[0m\u001b[0;34m.\u001b[0m\u001b[0mplot_optical_functions\u001b[0m\u001b[0;34m(\u001b[0m\u001b[0mbunch_configuration\u001b[0m\u001b[0;34m,\u001b[0m \u001b[0moptical_functions_dx\u001b[0m\u001b[0;34m,\u001b[0m \u001b[0;34m\"pt\"\u001b[0m\u001b[0;34m,\u001b[0m \u001b[0;34m\"D x\"\u001b[0m\u001b[0;34m,\u001b[0m \u001b[0mtitle_sufix\u001b[0m\u001b[0;34m,\u001b[0m \u001b[0mplot_size\u001b[0m\u001b[0;34m=\u001b[0m\u001b[0;36m5\u001b[0m\u001b[0;34m)\u001b[0m\u001b[0;34m\u001b[0m\u001b[0;34m\u001b[0m\u001b[0m\n\u001b[0m",
      "\u001b[0;32m~/Pobrane/optic/optics_generator_python/src/visualization/optics_parameter_visualisation.py\u001b[0m in \u001b[0;36mplot_optical_functions\u001b[0;34m(bunch_configuration, optics_functions_with_configurations, vector_x_name, optic_parameter_name, title, plot_size, plot_axes, plot_x_pos, plot_y_pos, plot_function, custom_mapping, x_axis_configuration, y_axis_configuration)\u001b[0m\n\u001b[1;32m    127\u001b[0m                                                    \u001b[0mvector_x_name\u001b[0m\u001b[0;34m,\u001b[0m \u001b[0moptic_parameter_name\u001b[0m\u001b[0;34m,\u001b[0m \u001b[0mtitle\u001b[0m\u001b[0;34m,\u001b[0m \u001b[0mplot_size\u001b[0m\u001b[0;34m,\u001b[0m\u001b[0;34m\u001b[0m\u001b[0;34m\u001b[0m\u001b[0m\n\u001b[1;32m    128\u001b[0m                                                    \u001b[0mplot_axes\u001b[0m\u001b[0;34m,\u001b[0m \u001b[0mplot_x_pos\u001b[0m\u001b[0;34m,\u001b[0m \u001b[0mplot_y_pos\u001b[0m\u001b[0;34m,\u001b[0m \u001b[0mplot_function\u001b[0m\u001b[0;34m,\u001b[0m \u001b[0mcustom_mapping\u001b[0m\u001b[0;34m,\u001b[0m\u001b[0;34m\u001b[0m\u001b[0;34m\u001b[0m\u001b[0m\n\u001b[0;32m--> 129\u001b[0;31m                                                    x_axis_configuration, y_axis_configuration)\n\u001b[0m\u001b[1;32m    130\u001b[0m \u001b[0;34m\u001b[0m\u001b[0m\n\u001b[1;32m    131\u001b[0m \u001b[0;34m\u001b[0m\u001b[0m\n",
      "\u001b[0;32m~/Pobrane/optic/optics_generator_python/src/visualization/optics_parameter_visualisation.py\u001b[0m in \u001b[0;36mplot_optical_functions_with_different_datasets\u001b[0;34m(bunch_configurations, optics_functions_with_configurations, vector_x_name, optic_parameter_name, title, plot_size, plot_axes, plot_x_pos, plot_y_pos, plot_function, custom_mapping, x_axis_configuration, y_axis_configuration)\u001b[0m\n\u001b[1;32m    164\u001b[0m             \u001b[0mkey\u001b[0m \u001b[0;34m=\u001b[0m \u001b[0mdataset_name\u001b[0m \u001b[0;34m+\u001b[0m \u001b[0mtransporter_name\u001b[0m\u001b[0;34m\u001b[0m\u001b[0;34m\u001b[0m\u001b[0m\n\u001b[1;32m    165\u001b[0m             datasets[key] = create_dataset(optics_functions_with_configurations[transporter_name],\n\u001b[0;32m--> 166\u001b[0;31m                                            bunch_configuration)\n\u001b[0m\u001b[1;32m    167\u001b[0m \u001b[0;34m\u001b[0m\u001b[0m\n\u001b[1;32m    168\u001b[0m     visualize.plot_with_turn(vector_x_name, optic_parameter_name, \"transporters\", datasets, title,\n",
      "\u001b[0;32m~/Pobrane/optic/optics_generator_python/src/visualization/optics_parameter_visualisation.py\u001b[0m in \u001b[0;36mcreate_dataset\u001b[0;34m(configuration, bunch_configuration)\u001b[0m\n\u001b[1;32m    155\u001b[0m     \u001b[0;32mdef\u001b[0m \u001b[0mcreate_dataset\u001b[0m\u001b[0;34m(\u001b[0m\u001b[0mconfiguration\u001b[0m\u001b[0;34m,\u001b[0m \u001b[0mbunch_configuration\u001b[0m\u001b[0;34m)\u001b[0m\u001b[0;34m:\u001b[0m\u001b[0;34m\u001b[0m\u001b[0;34m\u001b[0m\u001b[0m\n\u001b[1;32m    156\u001b[0m         \u001b[0moptical_function\u001b[0m\u001b[0;34m,\u001b[0m \u001b[0mtransporter_configuration\u001b[0m \u001b[0;34m=\u001b[0m \u001b[0mconfiguration\u001b[0m\u001b[0;34m\u001b[0m\u001b[0;34m\u001b[0m\u001b[0m\n\u001b[0;32m--> 157\u001b[0;31m         \u001b[0mresult_matrix\u001b[0m \u001b[0;34m=\u001b[0m \u001b[0moptical_function\u001b[0m\u001b[0;34m(\u001b[0m\u001b[0mtransporter_configuration\u001b[0m\u001b[0;34m,\u001b[0m \u001b[0mbunch_configuration\u001b[0m\u001b[0;34m)\u001b[0m\u001b[0;34m\u001b[0m\u001b[0;34m\u001b[0m\u001b[0m\n\u001b[0m\u001b[1;32m    158\u001b[0m         \u001b[0;32mreturn\u001b[0m \u001b[0mresult_matrix\u001b[0m\u001b[0;34m,\u001b[0m \u001b[0mcustom_mapping\u001b[0m\u001b[0;34m\u001b[0m\u001b[0;34m\u001b[0m\u001b[0m\n\u001b[1;32m    159\u001b[0m \u001b[0;34m\u001b[0m\u001b[0m\n",
      "\u001b[0;32m~/Pobrane/optic/optics_generator_python/src/ptc_twiss/optics_parameters.py\u001b[0m in \u001b[0;36mcompute_d_x\u001b[0;34m(madx_configuration, bunch_configuration)\u001b[0m\n\u001b[1;32m     32\u001b[0m     \u001b[0;34m:\u001b[0m\u001b[0;32mreturn\u001b[0m\u001b[0;34m:\u001b[0m \u001b[0mmatrix\u001b[0m \u001b[0;32mwith\u001b[0m \u001b[0mcolumns\u001b[0m\u001b[0;34m:\u001b[0m \u001b[0mx\u001b[0m\u001b[0;34m,\u001b[0m \u001b[0mtheta_x\u001b[0m\u001b[0;34m,\u001b[0m \u001b[0my\u001b[0m\u001b[0;34m,\u001b[0m \u001b[0mtheta_y\u001b[0m\u001b[0;34m,\u001b[0m \u001b[0mpt\u001b[0m\u001b[0;34m,\u001b[0m \u001b[0mD\u001b[0m \u001b[0mx\u001b[0m\u001b[0;34m\u001b[0m\u001b[0;34m\u001b[0m\u001b[0m\n\u001b[1;32m     33\u001b[0m     \"\"\"\n\u001b[0;32m---> 34\u001b[0;31m     \u001b[0;32mreturn\u001b[0m \u001b[0m__compute_optical_function\u001b[0m\u001b[0;34m(\u001b[0m\u001b[0mmadx_configuration\u001b[0m\u001b[0;34m,\u001b[0m \u001b[0mbunch_configuration\u001b[0m\u001b[0;34m,\u001b[0m \u001b[0;34m\"D x\"\u001b[0m\u001b[0;34m)\u001b[0m\u001b[0;34m\u001b[0m\u001b[0;34m\u001b[0m\u001b[0m\n\u001b[0m\u001b[1;32m     35\u001b[0m \u001b[0;34m\u001b[0m\u001b[0m\n\u001b[1;32m     36\u001b[0m \u001b[0;34m\u001b[0m\u001b[0m\n",
      "\u001b[0;32m~/Pobrane/optic/optics_generator_python/src/ptc_twiss/optics_parameters.py\u001b[0m in \u001b[0;36m__compute_optical_function\u001b[0;34m(madx_configuration, bunch_configuration, optical_function_name)\u001b[0m\n\u001b[1;32m     54\u001b[0m     \"\"\"\n\u001b[1;32m     55\u001b[0m     \u001b[0mparticles\u001b[0m \u001b[0;34m=\u001b[0m \u001b[0mptg\u001b[0m\u001b[0;34m.\u001b[0m\u001b[0mgenerate_from_range\u001b[0m\u001b[0;34m(\u001b[0m\u001b[0mmadx_configuration\u001b[0m\u001b[0;34m,\u001b[0m \u001b[0mbunch_configuration\u001b[0m\u001b[0;34m)\u001b[0m\u001b[0;34m\u001b[0m\u001b[0;34m\u001b[0m\u001b[0m\n\u001b[0;32m---> 56\u001b[0;31m     \u001b[0mresult\u001b[0m \u001b[0;34m=\u001b[0m \u001b[0mprepare_matrix\u001b[0m\u001b[0;34m(\u001b[0m\u001b[0mparticles\u001b[0m\u001b[0;34m,\u001b[0m \u001b[0moptical_function_name\u001b[0m\u001b[0;34m)\u001b[0m\u001b[0;34m\u001b[0m\u001b[0;34m\u001b[0m\u001b[0m\n\u001b[0m\u001b[1;32m     57\u001b[0m     \u001b[0;32mreturn\u001b[0m \u001b[0mresult\u001b[0m\u001b[0;34m\u001b[0m\u001b[0;34m\u001b[0m\u001b[0m\n\u001b[1;32m     58\u001b[0m \u001b[0;34m\u001b[0m\u001b[0m\n",
      "\u001b[0;32m~/Pobrane/optic/optics_generator_python/src/ptc_twiss/optics_parameters.py\u001b[0m in \u001b[0;36mprepare_matrix\u001b[0;34m(particles, parameter_name)\u001b[0m\n\u001b[1;32m    108\u001b[0m     \u001b[0mend_parameters\u001b[0m \u001b[0;34m=\u001b[0m \u001b[0mparticles\u001b[0m\u001b[0;34m[\u001b[0m\u001b[0;34m\"end\"\u001b[0m\u001b[0;34m]\u001b[0m\u001b[0;34m\u001b[0m\u001b[0;34m\u001b[0m\u001b[0m\n\u001b[1;32m    109\u001b[0m     \u001b[0mresult_matrix\u001b[0m \u001b[0;34m=\u001b[0m \u001b[0mbegin_parameters\u001b[0m\u001b[0;34m.\u001b[0m\u001b[0mT\u001b[0m\u001b[0;34m[\u001b[0m\u001b[0mtmi\u001b[0m\u001b[0;34m.\u001b[0m\u001b[0mptc_twiss\u001b[0m\u001b[0;34m[\u001b[0m\u001b[0;34m\"x\"\u001b[0m\u001b[0;34m]\u001b[0m\u001b[0;34m]\u001b[0m\u001b[0;34m.\u001b[0m\u001b[0mreshape\u001b[0m\u001b[0;34m(\u001b[0m\u001b[0;34m(\u001b[0m\u001b[0;34m-\u001b[0m\u001b[0;36m1\u001b[0m\u001b[0;34m,\u001b[0m \u001b[0;36m1\u001b[0m\u001b[0;34m)\u001b[0m\u001b[0;34m)\u001b[0m\u001b[0;34m\u001b[0m\u001b[0;34m\u001b[0m\u001b[0m\n\u001b[0;32m--> 110\u001b[0;31m     \u001b[0mresult_matrix\u001b[0m \u001b[0;34m=\u001b[0m \u001b[0mnp\u001b[0m\u001b[0;34m.\u001b[0m\u001b[0mappend\u001b[0m\u001b[0;34m(\u001b[0m\u001b[0mresult_matrix\u001b[0m\u001b[0;34m,\u001b[0m \u001b[0mbegin_parameters\u001b[0m\u001b[0;34m.\u001b[0m\u001b[0mT\u001b[0m\u001b[0;34m[\u001b[0m\u001b[0mtmi\u001b[0m\u001b[0;34m.\u001b[0m\u001b[0mptc_twiss\u001b[0m\u001b[0;34m[\u001b[0m\u001b[0;34m\"theta x\"\u001b[0m\u001b[0;34m]\u001b[0m\u001b[0;34m]\u001b[0m\u001b[0;34m.\u001b[0m\u001b[0mreshape\u001b[0m\u001b[0;34m(\u001b[0m\u001b[0;34m(\u001b[0m\u001b[0;34m-\u001b[0m\u001b[0;36m1\u001b[0m\u001b[0;34m,\u001b[0m \u001b[0;36m1\u001b[0m\u001b[0;34m)\u001b[0m\u001b[0;34m)\u001b[0m\u001b[0;34m,\u001b[0m \u001b[0maxis\u001b[0m\u001b[0;34m=\u001b[0m\u001b[0;36m1\u001b[0m\u001b[0;34m)\u001b[0m\u001b[0;34m\u001b[0m\u001b[0;34m\u001b[0m\u001b[0m\n\u001b[0m\u001b[1;32m    111\u001b[0m     \u001b[0mresult_matrix\u001b[0m \u001b[0;34m=\u001b[0m \u001b[0mnp\u001b[0m\u001b[0;34m.\u001b[0m\u001b[0mappend\u001b[0m\u001b[0;34m(\u001b[0m\u001b[0mresult_matrix\u001b[0m\u001b[0;34m,\u001b[0m \u001b[0mbegin_parameters\u001b[0m\u001b[0;34m.\u001b[0m\u001b[0mT\u001b[0m\u001b[0;34m[\u001b[0m\u001b[0mtmi\u001b[0m\u001b[0;34m.\u001b[0m\u001b[0mptc_twiss\u001b[0m\u001b[0;34m[\u001b[0m\u001b[0;34m\"y\"\u001b[0m\u001b[0;34m]\u001b[0m\u001b[0;34m]\u001b[0m\u001b[0;34m.\u001b[0m\u001b[0mreshape\u001b[0m\u001b[0;34m(\u001b[0m\u001b[0;34m(\u001b[0m\u001b[0;34m-\u001b[0m\u001b[0;36m1\u001b[0m\u001b[0;34m,\u001b[0m \u001b[0;36m1\u001b[0m\u001b[0;34m)\u001b[0m\u001b[0;34m)\u001b[0m\u001b[0;34m,\u001b[0m \u001b[0maxis\u001b[0m\u001b[0;34m=\u001b[0m\u001b[0;36m1\u001b[0m\u001b[0;34m)\u001b[0m\u001b[0;34m\u001b[0m\u001b[0;34m\u001b[0m\u001b[0m\n\u001b[1;32m    112\u001b[0m     \u001b[0mresult_matrix\u001b[0m \u001b[0;34m=\u001b[0m \u001b[0mnp\u001b[0m\u001b[0;34m.\u001b[0m\u001b[0mappend\u001b[0m\u001b[0;34m(\u001b[0m\u001b[0mresult_matrix\u001b[0m\u001b[0;34m,\u001b[0m \u001b[0mbegin_parameters\u001b[0m\u001b[0;34m.\u001b[0m\u001b[0mT\u001b[0m\u001b[0;34m[\u001b[0m\u001b[0mtmi\u001b[0m\u001b[0;34m.\u001b[0m\u001b[0mptc_twiss\u001b[0m\u001b[0;34m[\u001b[0m\u001b[0;34m\"theta y\"\u001b[0m\u001b[0;34m]\u001b[0m\u001b[0;34m]\u001b[0m\u001b[0;34m.\u001b[0m\u001b[0mreshape\u001b[0m\u001b[0;34m(\u001b[0m\u001b[0;34m(\u001b[0m\u001b[0;34m-\u001b[0m\u001b[0;36m1\u001b[0m\u001b[0;34m,\u001b[0m \u001b[0;36m1\u001b[0m\u001b[0;34m)\u001b[0m\u001b[0;34m)\u001b[0m\u001b[0;34m,\u001b[0m \u001b[0maxis\u001b[0m\u001b[0;34m=\u001b[0m\u001b[0;36m1\u001b[0m\u001b[0;34m)\u001b[0m\u001b[0;34m\u001b[0m\u001b[0;34m\u001b[0m\u001b[0m\n",
      "\u001b[0;31mIndexError\u001b[0m: index 3 is out of bounds for axis 0 with size 2"
     ]
    },
    {
     "data": {
      "text/plain": [
       "<Figure size 360x360 with 0 Axes>"
      ]
     },
     "metadata": {},
     "output_type": "display_data"
    }
   ],
   "source": [
    "plotter.plot_optical_functions(bunch_configuration, optical_functions_dx, \"pt\", \"D x\", title_sufix, plot_size=5)"
   ]
  },
  {
   "cell_type": "code",
   "execution_count": null,
   "metadata": {},
   "outputs": [],
   "source": [
    "plotter.plot_optical_functions(bunch_configuration, optical_functions_dy, \"pt\", \"D y\", title_sufix, plot_size=5)"
   ]
  },
  {
   "cell_type": "code",
   "execution_count": null,
   "metadata": {},
   "outputs": [],
   "source": [
    "plotter.plot_optical_functions(bunch_configuration, optical_functions_lx, \"pt\", \"L x\", title_sufix, plot_size=5)"
   ]
  },
  {
   "cell_type": "code",
   "execution_count": null,
   "metadata": {},
   "outputs": [],
   "source": [
    "plotter.plot_optical_functions(bunch_configuration, optical_functions_ly, \"pt\", \"L y\", title_sufix, plot_size=5)"
   ]
  },
  {
   "cell_type": "code",
   "execution_count": null,
   "metadata": {},
   "outputs": [],
   "source": [
    "f, axes = plt.subplots(2, 2)\n",
    "\n",
    "fig = plt.gcf()\n",
    "fig.set_size_inches(20,20)\n",
    "\n",
    "plotter.plot_optical_functions(bunch_configuration, optical_functions_dx, \"pt\", \"D x\", title_sufix, plot_axes=axes, plot_x_pos=0, plot_y_pos=0, plot_size=20)\n",
    "plotter.plot_optical_functions(bunch_configuration, optical_functions_dy, \"pt\", \"D y\", title_sufix, plot_axes=axes, plot_x_pos=0, plot_y_pos=1, plot_size=20)\n",
    "plotter.plot_optical_functions(bunch_configuration, optical_functions_lx, \"pt\", \"L x\", title_sufix, plot_axes=axes, plot_x_pos=1, plot_y_pos=0, plot_size=20)\n",
    "plotter.plot_optical_functions(bunch_configuration, optical_functions_ly, \"pt\", \"L y\", title_sufix, plot_axes=axes, plot_x_pos=1, plot_y_pos=1, plot_size=20)"
   ]
  },
  {
   "cell_type": "code",
   "execution_count": null,
   "metadata": {},
   "outputs": [],
   "source": [
    "import comparators.optics_parameters as compare_optics\n",
    "import importlib\n",
    "import pandas as pd\n",
    "importlib.reload(compare_optics)"
   ]
  },
  {
   "cell_type": "code",
   "execution_count": null,
   "metadata": {},
   "outputs": [],
   "source": [
    "compare_optics.visualize_diff_d_x(bunch_configuration, approximator_fet, track_configuration, \"pt\")"
   ]
  },
  {
   "cell_type": "code",
   "execution_count": null,
   "metadata": {},
   "outputs": [],
   "source": [
    "sns.lineplot(data=pd.DataFrame({\"pt\": d_x.T[4], \"error\": d_x.T[5]}), x = \"pt\", y=\"error\")"
   ]
  },
  {
   "cell_type": "code",
   "execution_count": null,
   "metadata": {},
   "outputs": [],
   "source": []
  }
 ],
 "metadata": {
  "kernelspec": {
   "display_name": "Python 3",
   "language": "python",
   "name": "python3"
  },
  "language_info": {
   "codemirror_mode": {
    "name": "ipython",
    "version": 3
   },
   "file_extension": ".py",
   "mimetype": "text/x-python",
   "name": "python",
   "nbconvert_exporter": "python",
   "pygments_lexer": "ipython3",
   "version": "3.7.4"
  }
 },
 "nbformat": 4,
 "nbformat_minor": 2
}
