{
 "cells": [
  {
   "cell_type": "code",
   "execution_count": 1,
   "metadata": {},
   "outputs": [
    {
     "name": "stdout",
     "output_type": "stream",
     "text": [
      "Welcome to JupyROOT 6.18/00\n"
     ]
    }
   ],
   "source": [
    "import ptc_twiss.madx_configuration as twiss_conf\n",
    "import ptc_twiss.matrix_indexes as twiss_indexes\n",
    "import ptc_twiss.optics_parameters as twiss_optics_parameters\n",
    "import ptc_twiss.particles_trajectory_generator as twiss_ptg\n",
    "import ptc_track.madx_configuration as track_conf\n",
    "import ptc_track.matrix_indexes as track_indexes\n",
    "import ptc_track.optics_parameters as track_optics_parameters\n",
    "import ptc_track.particles_trajectory_generator as track_ptg\n",
    "import visualization.optics_parameter_visualisation as plotter\n",
    "import approximator.runner as app_runner\n",
    "import approximator.optics_parameters as app_op\n",
    "import approximator.matrix_indexes as app_indexes\n",
    "import approximator.particles_trajectory_generator as app_ptg\n",
    "import data.bunch_configuration as buc\n",
    "import os\n",
    "import matplotlib.pyplot as plt\n",
    "import seaborn as sns\n",
    "import comparators.transport as transport\n",
    "import models.train_model as tram\n",
    "import models.approximator as stub_app"
   ]
  },
  {
   "cell_type": "code",
   "execution_count": 2,
   "metadata": {},
   "outputs": [],
   "source": [
    "sns.set_style(\"whitegrid\")"
   ]
  },
  {
   "cell_type": "code",
   "execution_count": 3,
   "metadata": {},
   "outputs": [],
   "source": [
    "path_to_project = \"/eos/user/r/rmucha/SWAN_projects\"\n",
    "folder_name = \"2017_matched\"\n",
    "script_file_name = \"inputmadx_matched.madx\"\n",
    "xml_file_name = \"configuration_reco_beam1.xml\""
   ]
  },
  {
   "cell_type": "code",
   "execution_count": 4,
   "metadata": {},
   "outputs": [],
   "source": [
    "path_to_script = os.path.join(path_to_project, folder_name, script_file_name)\n",
    "s = 219.55\n",
    "twiss_configuration = twiss_conf.TwissConfiguration(path_to_script, s)"
   ]
  },
  {
   "cell_type": "code",
   "execution_count": 5,
   "metadata": {},
   "outputs": [],
   "source": [
    "path_to_configuration = os.path.join(path_to_project, folder_name)\n",
    "path_to_xml_file = os.path.join(path_to_project, folder_name, xml_file_name)\n",
    "item_number = 0\n",
    "track_configuration = track_conf.TrackConfiguration(path_to_xml_file, item_number, path_to_configuration)"
   ]
  },
  {
   "cell_type": "code",
   "execution_count": 6,
   "metadata": {},
   "outputs": [],
   "source": [
    "parametrisation_file_name = \"new_parametrization_6500GeV_0p4_total.root\"\n",
    "approximator_name = \"ip5_to_station_220_h_2_lhcb1\"\n",
    "path_to_file = os.path.join(path_to_project, folder_name, parametrisation_file_name)\n",
    "source_folder_name = \"optics_generator_python\"\n",
    "path_to_sources = os.path.join(path_to_project, source_folder_name)\n",
    "approximator = app_runner.get_approximator(path_to_sources, path_to_file, approximator_name)"
   ]
  },
  {
   "cell_type": "code",
   "execution_count": 7,
   "metadata": {},
   "outputs": [],
   "source": [
    "parametrisation_file_name = \"new_parametrization_6500GeV_0p4_120.root\"\n",
    "approximator_name = \"ip5_to_station_220_h_2_lhcb1\"\n",
    "path_to_file = os.path.join(path_to_project, folder_name, parametrisation_file_name)\n",
    "source_folder_name = \"optics_generator_python\"\n",
    "path_to_sources = os.path.join(path_to_project, source_folder_name)\n",
    "approximator_120 = app_runner.get_approximator(path_to_sources, path_to_file, approximator_name)"
   ]
  },
  {
   "cell_type": "code",
   "execution_count": 8,
   "metadata": {},
   "outputs": [],
   "source": [
    "parametrisation_file_name = \"new_parametrization_6500GeV_0p4_140.root\"\n",
    "approximator_name = \"ip5_to_station_220_h_2_lhcb1\"\n",
    "path_to_file = os.path.join(path_to_project, folder_name, parametrisation_file_name)\n",
    "source_folder_name = \"optics_generator_python\"\n",
    "path_to_sources = os.path.join(path_to_project, source_folder_name)\n",
    "approximator_140 = app_runner.get_approximator(path_to_sources, path_to_file, approximator_name)"
   ]
  },
  {
   "cell_type": "code",
   "execution_count": 9,
   "metadata": {},
   "outputs": [],
   "source": [
    "parametrisation_file_name = \"new_parametrization_6500GeV_0p4_160.root\"\n",
    "approximator_name = \"ip5_to_station_220_h_2_lhcb1\"\n",
    "path_to_file = os.path.join(path_to_project, folder_name, parametrisation_file_name)\n",
    "source_folder_name = \"optics_generator_python\"\n",
    "path_to_sources = os.path.join(path_to_project, source_folder_name)\n",
    "approximator_160 = app_runner.get_approximator(path_to_sources, path_to_file, approximator_name)"
   ]
  },
  {
   "cell_type": "code",
   "execution_count": 11,
   "metadata": {},
   "outputs": [],
   "source": [
    "# Parameters of training\n",
    "x_mean = 0.0\n",
    "sigma_x = 4e-3\n",
    "theta_x_mean = 0.000\n",
    "sigma_theta_x = 1.3e-3\n",
    "y_mean = 0.0\n",
    "sigma_y = 4e-3\n",
    "theta_y_mean = 0.00\n",
    "sigma_theta_y = 1.3e-3\n",
    "pt_mean = -0.15\n",
    "sigma_pt = 0.2\n",
    "\n",
    "number_of_x_values = 1\n",
    "number_of_theta_x_values = 1\n",
    "number_of_y_values = 1\n",
    "number_of_theta_y_values = 1\n",
    "number_of_pt_values = 10000\n",
    "\n",
    "bunch_configuration = buc.BunchConfiguration.from_sigma(x_mean, sigma_x, number_of_x_values,\n",
    "                                                        theta_x_mean, sigma_theta_x, number_of_theta_x_values,\n",
    "                                                        y_mean, sigma_y, number_of_y_values,\n",
    "                                                        theta_y_mean, sigma_theta_y, number_of_theta_y_values,\n",
    "                                                        pt_mean, sigma_pt, number_of_pt_values)\n",
    "\n",
    "home = \"/eos/user/r/rmucha/SWAN_projects\"\n",
    "prototype_approximator = tram.train_prototype(bunch_configuration, track_configuration, home)"
   ]
  },
  {
   "cell_type": "code",
   "execution_count": 12,
   "metadata": {},
   "outputs": [],
   "source": [
    "title_sufix = r\"2017 matched, $\\xi=0$, set delta p and XA\"\n",
    "transporter1 = \"ptc_twiss\"\n",
    "transporter2 = \"ptc_track\"\n",
    "transporter3 = \"app_total\"\n",
    "# transporter4 = \"approximator_120\"\n",
    "# transporter5 = \"approximator_140\"\n",
    "transporter6 = \"app_160\"\n",
    "transporter7 = \"prototype_total\""
   ]
  },
  {
   "cell_type": "code",
   "execution_count": 13,
   "metadata": {},
   "outputs": [],
   "source": [
    "transporters = {\n",
    "#     transporter1: (twiss_ptg.generate_from_range, twiss_configuration, twiss_indexes.ptc_twiss),\n",
    "    transporter2: (track_ptg.generate_from_range, track_configuration, track_indexes.ptc_track),\n",
    "    transporter3: (app_ptg.generate_from_range, approximator, app_indexes.indexes),\n",
    "#     transporter4: (app_op.compute_d_x, approximator_120),\n",
    "#     transporter5: (app_op.compute_d_x, approximator_140),\n",
    "#     transporter6: (app_ptg.generate_from_range, approximator_160, app_indexes.indexes)\n",
    "    transporter7: (app_ptg.generate_from_range, prototype_approximator, app_indexes.indexes)\n",
    "}"
   ]
  },
  {
   "cell_type": "code",
   "execution_count": 14,
   "metadata": {},
   "outputs": [],
   "source": [
    "x_mean = 0\n",
    "sigma_x = 0\n",
    "theta_x_mean = 140e-6 + 150e-6\n",
    "sigma_theta_x = 0\n",
    "y_mean = -1.5e-3\n",
    "sigma_y = 0\n",
    "theta_y_mean = 0\n",
    "sigma_theta_y = 0\n",
    "pt_mean = -0.1\n",
    "sigma_pt = 0.1\n",
    "\n",
    "x_resolution = 1\n",
    "theta_x_resolution = 1\n",
    "y_resolution = 1\n",
    "theta_y_resolution = 1\n",
    "pt_resolution = 21\n",
    "\n",
    "bunch_configuration = buc.BunchConfiguration.from_sigma(x_mean, sigma_x, x_resolution,\n",
    "                                                       theta_x_mean, sigma_theta_x, theta_x_resolution,\n",
    "                                                       y_mean, sigma_y, y_resolution,\n",
    "                                                       theta_y_mean, sigma_theta_y, theta_y_resolution,\n",
    "                                                        pt_mean, sigma_pt, pt_resolution)"
   ]
  },
  {
   "cell_type": "code",
   "execution_count": 15,
   "metadata": {
    "scrolled": true
   },
   "outputs": [
    {
     "data": {
      "image/png": "[encoded data removed]",
      "text/plain": [
       "<Figure size 432x288 with 1 Axes>"
      ]
     },
     "metadata": {},
     "output_type": "display_data"
    }
   ],
   "source": [
    "transport.compare(bunch_configuration, transporters, \"x\", \"pt\", title_sufix=r\"-0.2 < $\\xi < 0$\") #scatterplot don't work!!!"
   ]
  },
  {
   "cell_type": "code",
   "execution_count": 16,
   "metadata": {},
   "outputs": [
    {
     "name": "stdout",
     "output_type": "stream",
     "text": [
      "             x             pt\n",
      "0   173.525486 -199712.394400\n",
      "1    85.767732 -189712.394400\n",
      "2     5.448125 -179712.394400\n",
      "3    81.598706 -169712.394400\n",
      "4   128.738122 -159712.394400\n",
      "5   139.069367 -149712.394400\n",
      "6   112.043199 -139712.394400\n",
      "7    54.044141 -129712.394400\n",
      "8    22.944737 -119712.394400\n",
      "9   103.123624 -109712.394400\n",
      "10  169.408715  -99712.394420\n",
      "11  206.325247  -89712.394420\n",
      "12  202.937188  -79712.394420\n",
      "13  155.346931  -69712.394420\n",
      "14   68.418348  -59712.394420\n",
      "15   43.167436  -49712.394420\n",
      "16  155.792202  -39712.394420\n",
      "17  239.388364  -29712.394420\n",
      "18  262.429915  -19712.394420\n",
      "19  199.559233   -9712.394422\n",
      "20   42.770392     287.605578\n"
     ]
    }
   ],
   "source": [
    "k = transport.compare_heatmap(bunch_configuration, (transporter2, (track_ptg.generate_from_range, track_configuration, track_indexes.ptc_track)), (transporter3, (app_ptg.generate_from_range, approximator, app_indexes.indexes)), \"x\", \"pt\") #scatterplot don't work!!!"
   ]
  },
  {
   "cell_type": "code",
   "execution_count": null,
   "metadata": {},
   "outputs": [],
   "source": [
    "import importlib\n",
    "importlib.reload(transport)"
   ]
  },
  {
   "cell_type": "code",
   "execution_count": null,
   "metadata": {},
   "outputs": [],
   "source": [
    "sns.kdeplot(k)"
   ]
  },
  {
   "cell_type": "code",
   "execution_count": null,
   "metadata": {},
   "outputs": [],
   "source": []
  }
 ],
 "metadata": {
  "kernelspec": {
   "display_name": "Python 3",
   "language": "python",
   "name": "python3"
  },
  "language_info": {
   "codemirror_mode": {
    "name": "ipython",
    "version": 3
   },
   "file_extension": ".py",
   "mimetype": "text/x-python",
   "name": "python",
   "nbconvert_exporter": "python",
   "pygments_lexer": "ipython3",
   "version": "3.6.5"
  }
 },
 "nbformat": 4,
 "nbformat_minor": 2
}
