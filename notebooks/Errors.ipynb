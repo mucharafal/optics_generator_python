{
 "cells": [
  {
   "cell_type": "code",
   "execution_count": 1,
   "metadata": {},
   "outputs": [],
   "source": [
    "import os\n",
    "import matplotlib.pyplot as plt\n",
    "import seaborn as sns"
   ]
  },
  {
   "cell_type": "code",
   "execution_count": 2,
   "metadata": {},
   "outputs": [
    {
     "data": {
      "text/plain": [
       "'/home/jakub/Desktop/optic_files/optics_generator_python/notebooks'"
      ]
     },
     "execution_count": 2,
     "metadata": {},
     "output_type": "execute_result"
    }
   ],
   "source": [
    "os.getcwd()"
   ]
  },
  {
   "cell_type": "code",
   "execution_count": 3,
   "metadata": {},
   "outputs": [],
   "source": [
    "# os.chdir('/home/jakub/Desktop/optic_files/optics_generator_python/src')"
   ]
  },
  {
   "cell_type": "code",
   "execution_count": 4,
   "metadata": {},
   "outputs": [
    {
     "name": "stdout",
     "output_type": "stream",
     "text": [
      "Welcome to JupyROOT 6.18/04\n"
     ]
    }
   ],
   "source": [
    "import ptc_twiss.madx_configuration as ptc_twiss_conf\n",
    "import ptc_twiss.optical_functions as twiss_optics_parameters\n",
    "import ptc_twiss.transporter as twiss_ptg\n",
    "import ptc_track.madx_configuration as ptc_track_conf\n",
    "import ptc_track.optical_functions as track_optics_parameters\n",
    "import ptc_track.transporter as track_ptg\n",
    "import visualization.optics_parameter_visualisation as plotter\n",
    "import approximator.runner as approximator_runner\n",
    "import approximator.optical_functions as app_op\n",
    "import approximator.transporter as app_ptg\n",
    "import data.grid_configuration as buc\n",
    "import data.particles_generator as pg\n",
    "import comparators.transport as transport\n",
    "import models.train_model as tram\n",
    "import models.approximator as stub_app\n",
    "import matplotlib.pyplot as plt\n",
    "from data.parameters_names import ParametersNames as Parameters"
   ]
  },
  {
   "cell_type": "code",
   "execution_count": 5,
   "metadata": {},
   "outputs": [],
   "source": [
    "sns.set_style(\"whitegrid\")"
   ]
  },
  {
   "cell_type": "code",
   "execution_count": 6,
   "metadata": {},
   "outputs": [],
   "source": [
    "path_to_project = \"/home/jakub/Desktop/optic_files\"\n",
    "\n",
    "optic_folder_name = \"2016\"\n",
    "\n",
    "ptc_twiss_script_file_name = \"ptc_twiss_script.madx\"\n",
    "\n",
    "xml_file_name = \"configuration_reconst_beam1.xml\"\n",
    "item_number = 2\n",
    "\n",
    "serialized_approximator_file_name = \"parametrization_cpp_code.root\"\n",
    "approximator_name = \"ip5_to_station_220_h_2_lhcb1\"\n",
    "\n",
    "name_of_folder_with_sources = \"optics_generator_python\""
   ]
  },
  {
   "cell_type": "code",
   "execution_count": 7,
   "metadata": {},
   "outputs": [],
   "source": [
    "path_to_script = os.path.join(path_to_project, optic_folder_name, ptc_twiss_script_file_name)\n",
    "s = 219.55\n",
    "twiss_configuration = ptc_twiss_conf.TwissConfiguration(path_to_script, s)\n",
    "twiss_transporter = twiss_ptg.get_transporter(twiss_configuration)"
   ]
  },
  {
   "cell_type": "code",
   "execution_count": 8,
   "metadata": {},
   "outputs": [],
   "source": [
    "path_to_optic = os.path.join(path_to_project, optic_folder_name)\n",
    "path_to_xml_file = os.path.join(path_to_project, optic_folder_name, xml_file_name)\n",
    "track_configuration = ptc_track_conf.TrackConfiguration(path_to_xml_file, item_number, path_to_optic)\n",
    "track_transporter = track_ptg.get_transporter(track_configuration)"
   ]
  },
  {
   "cell_type": "code",
   "execution_count": 9,
   "metadata": {},
   "outputs": [],
   "source": [
    "# path_to_sources = os.path.join(path_to_project, name_of_folder_with_sources)\n",
    "# path_to_approximator = os.path.join(path_to_optic, serialized_approximator_file_name)\n",
    "# approximator = approximator_runner.get_approximator(path_to_sources, path_to_approximator, approximator_name)\n",
    "# approximator_transporter = app_ptg.get_transporter(approximator)"
   ]
  },
  {
   "cell_type": "code",
   "execution_count": null,
   "metadata": {},
   "outputs": [],
   "source": []
  },
  {
   "cell_type": "code",
   "execution_count": 10,
   "metadata": {},
   "outputs": [],
   "source": [
    "# Parameters of training\n",
    "# x_min = x_mean - delta_x\n",
    "# x_max = x_mean + delta_x\n",
    "x_mean = 0.0\n",
    "delta_x = 4e-3\n",
    "theta_x_mean = 0.000\n",
    "delta_theta_x = 1.3e-3\n",
    "y_mean = 0.0\n",
    "delta_y = 4e-3\n",
    "theta_y_mean = 0.00\n",
    "delta_theta_y = 1.3e-3\n",
    "pt_mean = -0.15\n",
    "delta_pt = 0.2\n",
    "\n",
    "number_of_x_values = 1\n",
    "number_of_theta_x_values = 1\n",
    "number_of_y_values = 1\n",
    "number_of_theta_y_values = 1\n",
    "number_of_pt_values = 12000\n",
    "\n",
    "bunch_configuration = buc.GridConfiguration.from_sigma(x_mean, delta_x, number_of_x_values,\n",
    "                                                        theta_x_mean, delta_theta_x, number_of_theta_x_values,\n",
    "                                                        y_mean, delta_y, number_of_y_values,\n",
    "                                                        theta_y_mean, delta_theta_y, number_of_theta_y_values,\n",
    "                                                        pt_mean, delta_pt, number_of_pt_values)\n",
    "particles = pg.generate_from_range(bunch_configuration)"
   ]
  },
  {
   "cell_type": "code",
   "execution_count": 11,
   "metadata": {},
   "outputs": [],
   "source": [
    "title_sufix = r\"2016\"\n",
    "transporter1 = \"ptc_track\"\n",
    "transporter2 = \"approximator\""
   ]
  },
  {
   "cell_type": "code",
   "execution_count": 12,
   "metadata": {},
   "outputs": [],
   "source": [
    "x_mean = 0.0\n",
    "delta_x = 4e-3\n",
    "theta_x_mean = 0.000\n",
    "delta_theta_x = 1.3e-3\n",
    "y_mean = 0.0\n",
    "delta_y = 4e-3\n",
    "theta_y_mean = 0.00\n",
    "delta_theta_y = 1.3e-3\n",
    "pt_mean = -0.15\n",
    "delta_pt = 0.15\n",
    "\n",
    "number_of_x_values = 1\n",
    "number_of_theta_x_values = 1\n",
    "number_of_y_values = 1\n",
    "number_of_theta_y_values = 1\n",
    "number_of_pt_values = 12000\n",
    "\n",
    "bunch_configuration = buc.GridConfiguration.from_sigma(x_mean, delta_x, number_of_x_values,\n",
    "                                                        theta_x_mean, delta_theta_x, number_of_theta_x_values,\n",
    "                                                        y_mean, delta_y, number_of_y_values,\n",
    "                                                        theta_y_mean, delta_theta_y, number_of_theta_y_values,\n",
    "                                                        pt_mean, delta_pt, number_of_pt_values)\n",
    "particles = pg.generate_from_range(bunch_configuration)"
   ]
  },
  {
   "cell_type": "code",
   "execution_count": 13,
   "metadata": {},
   "outputs": [],
   "source": [
    "transporters = {\n",
    "    transporter1: track_transporter,\n",
    "#     transporter2: approximator_transporter\n",
    "}"
   ]
  },
  {
   "cell_type": "code",
   "execution_count": 14,
   "metadata": {
    "scrolled": true
   },
   "outputs": [
    {
     "name": "stdout",
     "output_type": "stream",
     "text": [
      "{}\n"
     ]
    },
    {
     "ename": "ValueError",
     "evalue": "Axis limits cannot be NaN or Inf",
     "output_type": "error",
     "traceback": [
      "\u001b[0;31m---------------------------------------------------------------------------\u001b[0m",
      "\u001b[0;31mValueError\u001b[0m                                Traceback (most recent call last)",
      "\u001b[0;32m<ipython-input-14-f3e3ab5e2e19>\u001b[0m in \u001b[0;36m<module>\u001b[0;34m\u001b[0m\n\u001b[1;32m      4\u001b[0m \u001b[0mtitle_sufix\u001b[0m \u001b[0;34m=\u001b[0m \u001b[0;34m\"2016 optics\\nError over training scope\\nC++ code\"\u001b[0m\u001b[0;34m\u001b[0m\u001b[0;34m\u001b[0m\u001b[0m\n\u001b[1;32m      5\u001b[0m \u001b[0;34m\u001b[0m\u001b[0m\n\u001b[0;32m----> 6\u001b[0;31m \u001b[0maxes\u001b[0m \u001b[0;34m=\u001b[0m \u001b[0mtransport\u001b[0m\u001b[0;34m.\u001b[0m\u001b[0mcompare\u001b[0m\u001b[0;34m(\u001b[0m\u001b[0mparticles\u001b[0m\u001b[0;34m,\u001b[0m \u001b[0mtransporters\u001b[0m\u001b[0;34m,\u001b[0m \u001b[0mParameters\u001b[0m\u001b[0;34m.\u001b[0m\u001b[0mY\u001b[0m\u001b[0;34m,\u001b[0m \u001b[0mParameters\u001b[0m\u001b[0;34m.\u001b[0m\u001b[0mPT\u001b[0m\u001b[0;34m,\u001b[0m \u001b[0mplot_function\u001b[0m\u001b[0;34m=\u001b[0m\u001b[0msns\u001b[0m\u001b[0;34m.\u001b[0m\u001b[0mscatterplot\u001b[0m\u001b[0;34m,\u001b[0m \u001b[0mtitle_sufix\u001b[0m\u001b[0;34m=\u001b[0m\u001b[0mtitle_sufix\u001b[0m\u001b[0;34m)\u001b[0m\u001b[0;34m\u001b[0m\u001b[0;34m\u001b[0m\u001b[0m\n\u001b[0m\u001b[1;32m      7\u001b[0m \u001b[0maxes\u001b[0m\u001b[0;34m.\u001b[0m\u001b[0mset_ylim\u001b[0m\u001b[0;34m(\u001b[0m\u001b[0;34m-\u001b[0m\u001b[0;36m4\u001b[0m\u001b[0;34m,\u001b[0m\u001b[0;36m4\u001b[0m\u001b[0;34m)\u001b[0m\u001b[0;34m\u001b[0m\u001b[0;34m\u001b[0m\u001b[0m\n\u001b[1;32m      8\u001b[0m \u001b[0;31m# axes.set_yticks(list(-12.5 + x * 2.5 for x in range(11)))\u001b[0m\u001b[0;34m\u001b[0m\u001b[0;34m\u001b[0m\u001b[0;34m\u001b[0m\u001b[0m\n",
      "\u001b[0;32m~/Desktop/optic_files/optics_generator_python/src/comparators/transport.py\u001b[0m in \u001b[0;36mcompare\u001b[0;34m(input_dataset, transporters, transported_dimension, depended_value, title_sufix, plot_function, **kwargs)\u001b[0m\n\u001b[1;32m     15\u001b[0m     \u001b[0mprint\u001b[0m\u001b[0;34m(\u001b[0m\u001b[0mcompared\u001b[0m\u001b[0;34m)\u001b[0m\u001b[0;34m\u001b[0m\u001b[0;34m\u001b[0m\u001b[0m\n\u001b[1;32m     16\u001b[0m     axes = visualize.plot_datasets(depended_value, Parameters.get_delta(transported_dimension), \"Compare\", compared,\n\u001b[0;32m---> 17\u001b[0;31m                                    title_sufix, plot_function, s=1, markers=[\"x\"], **kwargs)\n\u001b[0m\u001b[1;32m     18\u001b[0m     \u001b[0;32mreturn\u001b[0m \u001b[0maxes\u001b[0m\u001b[0;34m\u001b[0m\u001b[0;34m\u001b[0m\u001b[0m\n\u001b[1;32m     19\u001b[0m \u001b[0;34m\u001b[0m\u001b[0m\n",
      "\u001b[0;32m~/Desktop/optic_files/optics_generator_python/src/visualization/visualize.py\u001b[0m in \u001b[0;36mplot_datasets\u001b[0;34m(x_name, y_name, legend_title, datasets, title_sufix, plot_function, **additional_plot_function_arguments)\u001b[0m\n\u001b[1;32m     95\u001b[0m     \u001b[0maxes\u001b[0m\u001b[0;34m.\u001b[0m\u001b[0mset_title\u001b[0m\u001b[0;34m(\u001b[0m\u001b[0mtitle\u001b[0m\u001b[0;34m)\u001b[0m\u001b[0;34m\u001b[0m\u001b[0;34m\u001b[0m\u001b[0m\n\u001b[1;32m     96\u001b[0m \u001b[0;34m\u001b[0m\u001b[0m\n\u001b[0;32m---> 97\u001b[0;31m     \u001b[0maxes\u001b[0m\u001b[0;34m.\u001b[0m\u001b[0mset_xlim\u001b[0m\u001b[0;34m(\u001b[0m\u001b[0mframe\u001b[0m\u001b[0;34m[\u001b[0m\u001b[0mx_name\u001b[0m\u001b[0;34m]\u001b[0m\u001b[0;34m.\u001b[0m\u001b[0mmin\u001b[0m\u001b[0;34m(\u001b[0m\u001b[0;34m)\u001b[0m\u001b[0;34m,\u001b[0m \u001b[0mframe\u001b[0m\u001b[0;34m[\u001b[0m\u001b[0mx_name\u001b[0m\u001b[0;34m]\u001b[0m\u001b[0;34m.\u001b[0m\u001b[0mmax\u001b[0m\u001b[0;34m(\u001b[0m\u001b[0;34m)\u001b[0m\u001b[0;34m)\u001b[0m\u001b[0;34m\u001b[0m\u001b[0;34m\u001b[0m\u001b[0m\n\u001b[0m\u001b[1;32m     98\u001b[0m \u001b[0;34m\u001b[0m\u001b[0m\n\u001b[1;32m     99\u001b[0m     \u001b[0;32mreturn\u001b[0m \u001b[0maxes\u001b[0m\u001b[0;34m\u001b[0m\u001b[0;34m\u001b[0m\u001b[0m\n",
      "\u001b[0;32m~/.local/lib/python3.6/site-packages/matplotlib/axes/_base.py\u001b[0m in \u001b[0;36mset_xlim\u001b[0;34m(self, left, right, emit, auto, xmin, xmax)\u001b[0m\n\u001b[1;32m   3239\u001b[0m \u001b[0;34m\u001b[0m\u001b[0m\n\u001b[1;32m   3240\u001b[0m         \u001b[0mself\u001b[0m\u001b[0;34m.\u001b[0m\u001b[0m_process_unit_info\u001b[0m\u001b[0;34m(\u001b[0m\u001b[0mxdata\u001b[0m\u001b[0;34m=\u001b[0m\u001b[0;34m(\u001b[0m\u001b[0mleft\u001b[0m\u001b[0;34m,\u001b[0m \u001b[0mright\u001b[0m\u001b[0;34m)\u001b[0m\u001b[0;34m)\u001b[0m\u001b[0;34m\u001b[0m\u001b[0;34m\u001b[0m\u001b[0m\n\u001b[0;32m-> 3241\u001b[0;31m         \u001b[0mleft\u001b[0m \u001b[0;34m=\u001b[0m \u001b[0mself\u001b[0m\u001b[0;34m.\u001b[0m\u001b[0m_validate_converted_limits\u001b[0m\u001b[0;34m(\u001b[0m\u001b[0mleft\u001b[0m\u001b[0;34m,\u001b[0m \u001b[0mself\u001b[0m\u001b[0;34m.\u001b[0m\u001b[0mconvert_xunits\u001b[0m\u001b[0;34m)\u001b[0m\u001b[0;34m\u001b[0m\u001b[0;34m\u001b[0m\u001b[0m\n\u001b[0m\u001b[1;32m   3242\u001b[0m         \u001b[0mright\u001b[0m \u001b[0;34m=\u001b[0m \u001b[0mself\u001b[0m\u001b[0;34m.\u001b[0m\u001b[0m_validate_converted_limits\u001b[0m\u001b[0;34m(\u001b[0m\u001b[0mright\u001b[0m\u001b[0;34m,\u001b[0m \u001b[0mself\u001b[0m\u001b[0;34m.\u001b[0m\u001b[0mconvert_xunits\u001b[0m\u001b[0;34m)\u001b[0m\u001b[0;34m\u001b[0m\u001b[0;34m\u001b[0m\u001b[0m\n\u001b[1;32m   3243\u001b[0m \u001b[0;34m\u001b[0m\u001b[0m\n",
      "\u001b[0;32m~/.local/lib/python3.6/site-packages/matplotlib/axes/_base.py\u001b[0m in \u001b[0;36m_validate_converted_limits\u001b[0;34m(self, limit, convert)\u001b[0m\n\u001b[1;32m   3156\u001b[0m             if (isinstance(converted_limit, Real)\n\u001b[1;32m   3157\u001b[0m                     and not np.isfinite(converted_limit)):\n\u001b[0;32m-> 3158\u001b[0;31m                 \u001b[0;32mraise\u001b[0m \u001b[0mValueError\u001b[0m\u001b[0;34m(\u001b[0m\u001b[0;34m\"Axis limits cannot be NaN or Inf\"\u001b[0m\u001b[0;34m)\u001b[0m\u001b[0;34m\u001b[0m\u001b[0;34m\u001b[0m\u001b[0m\n\u001b[0m\u001b[1;32m   3159\u001b[0m             \u001b[0;32mreturn\u001b[0m \u001b[0mconverted_limit\u001b[0m\u001b[0;34m\u001b[0m\u001b[0;34m\u001b[0m\u001b[0m\n\u001b[1;32m   3160\u001b[0m \u001b[0;34m\u001b[0m\u001b[0m\n",
      "\u001b[0;31mValueError\u001b[0m: Axis limits cannot be NaN or Inf"
     ]
    },
    {
     "data": {
      "image/png": "[encoded data removed]",
      "text/plain": [
       "<Figure size 360x360 with 1 Axes>"
      ]
     },
     "metadata": {},
     "output_type": "display_data"
    }
   ],
   "source": [
    "fig = plt.gcf()\n",
    "fig.set_size_inches(5, 5)\n",
    "\n",
    "title_sufix = \"2016 optics\\nError over training scope\\nC++ code\"\n",
    "\n",
    "axes = transport.compare(particles, transporters, Parameters.Y, Parameters.PT, plot_function=sns.scatterplot, title_sufix=title_sufix)\n",
    "axes.set_ylim(-4,4)\n",
    "# axes.set_yticks(list(-12.5 + x * 2.5 for x in range(11)))"
   ]
  },
  {
   "cell_type": "code",
   "execution_count": null,
   "metadata": {},
   "outputs": [],
   "source": [
    "f, axes = plt.subplots(2, 2)\n",
    "\n",
    "fig = plt.gcf()\n",
    "fig.set_size_inches(40,20)\n",
    "\n",
    "title_sufix = r\"-450 $\\mu$rad < $\\theta_x < 450 \\mu$rad\"\n",
    "\n",
    "\n",
    "transport.compare(particles, transporters, Parameters.X, Parameters.PT, title_sufix=title_sufix, ax=axes[0][0])\n",
    "transport.compare(particles, transporters, Parameters.THETA_X, Parameters.PT, title_sufix=title_sufix, ax=axes[0][1])\n",
    "transport.compare(particles, transporters, Parameters.Y, Parameters.PT, title_sufix=title_sufix, ax=axes[1][0])\n",
    "transport.compare(particles, transporters, Parameters.THETA_Y, Parameters.PT, title_sufix=title_sufix, ax=axes[1][1])"
   ]
  },
  {
   "cell_type": "code",
   "execution_count": null,
   "metadata": {},
   "outputs": [],
   "source": [
    "fig = plt.gcf()\n",
    "fig.set_size_inches(5, 5)\n",
    "axes = transport.compare(particles, transporters, Parameters.X, Parameters.PT, title_sufix=title_sufix)\n",
    "axes.set_ylim(-2, 2)"
   ]
  },
  {
   "cell_type": "code",
   "execution_count": null,
   "metadata": {},
   "outputs": [],
   "source": [
    "fig = plt.gcf()\n",
    "fig.set_size_inches(5, 5)\n",
    "axes = transport.compare(particles, transporters, Parameters.THTEA_X, Parameters.PT, title_sufix=title_sufix)\n",
    "axes.set_ylim(-10, 10)"
   ]
  },
  {
   "cell_type": "code",
   "execution_count": null,
   "metadata": {},
   "outputs": [],
   "source": [
    "fig = plt.gcf()\n",
    "fig.set_size_inches(5, 5)\n",
    "axes = transport.compare(particles, transporters, Parameters.Y, Parameters.PT, title_sufix=title_sufix)\n",
    "axes.set_ylim(-4, 4)"
   ]
  },
  {
   "cell_type": "code",
   "execution_count": null,
   "metadata": {},
   "outputs": [],
   "source": [
    "fig = plt.gcf()\n",
    "fig.set_size_inches(5, 5)\n",
    "axes = transport.compare(particles, transporters, Parameters.THETA_Y, Parameters.PT, title_sufix=title_sufix)\n",
    "axes.set_ylim(-40, 40)"
   ]
  },
  {
   "cell_type": "code",
   "execution_count": null,
   "metadata": {},
   "outputs": [],
   "source": []
  }
 ],
 "metadata": {
  "kernelspec": {
   "display_name": "Python 3",
   "language": "python",
   "name": "python3"
  },
  "language_info": {
   "codemirror_mode": {
    "name": "ipython",
    "version": 3
   },
   "file_extension": ".py",
   "mimetype": "text/x-python",
   "name": "python",
   "nbconvert_exporter": "python",
   "pygments_lexer": "ipython3",
   "version": "3.6.8"
  },
  "pycharm": {
   "stem_cell": {
    "cell_type": "raw",
    "metadata": {
     "collapsed": false
    },
    "source": []
   }
  }
 },
 "nbformat": 4,
 "nbformat_minor": 2
}
