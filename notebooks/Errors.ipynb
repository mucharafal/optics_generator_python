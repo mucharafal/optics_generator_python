{
 "cells": [
  {
   "cell_type": "code",
   "execution_count": null,
   "metadata": {},
   "outputs": [],
   "source": [
    "import os\n",
    "import seaborn as sns\n",
    "import comparators.transport as transport\n",
    "import matplotlib.pyplot as plt\n",
    "from data.parameters_names import ParametersNames as Parameters\n",
    "from data.grid_configuration import CanonicalCoordinatesGridConfiguration\n",
    "from transporters.madx.ptc_track.configuration import PtcTrackConfiguration\n",
    "from transporters.approximator.configuration import ApproximatorConfiguration"
   ]
  },
  {
   "cell_type": "code",
   "execution_count": null,
   "metadata": {},
   "outputs": [],
   "source": [
    "sns.set_style(\"whitegrid\")"
   ]
  },
  {
   "cell_type": "code",
   "execution_count": null,
   "metadata": {},
   "outputs": [],
   "source": [
    "path_to_optics = \"path_to_folder_with_optic\"\n",
    "\n",
    "xml_file_name = \"configuration_reco_beam1.xml\"\n",
    "approximator_number_in_xml = 2\n",
    "\n",
    "serialized_approximator_file_name = \"parametrization_6500GeV_0p4_185_reco.root\"\n",
    "approximator_name = \"ip5_to_station_220_h_2_lhcb1\""
   ]
  },
  {
   "cell_type": "code",
   "execution_count": null,
   "metadata": {},
   "outputs": [],
   "source": [
    "path_to_xml_file = os.path.join(path_to_optics, xml_file_name)\n",
    "ptc_track_configuration = PtcTrackConfiguration.get_track_configuration_from_xml_file(path_to_xml_file, approximator_number_in_xml)"
   ]
  },
  {
   "cell_type": "code",
   "execution_count": null,
   "metadata": {},
   "outputs": [],
   "source": [
    "path_to_approximator = os.path.join(path_to_optics, serialized_approximator_file_name)\n",
    "approximator_configuration = ApproximatorConfiguration(path_to_approximator, approximator_name)"
   ]
  },
  {
   "cell_type": "code",
   "execution_count": null,
   "metadata": {},
   "outputs": [],
   "source": [
    "x_mean = 0.0\n",
    "delta_x = 4e-3\n",
    "theta_x_mean = 0.000\n",
    "delta_theta_x = 1.3e-3\n",
    "y_mean = 0.0\n",
    "delta_y = 4e-3\n",
    "theta_y_mean = 0.00\n",
    "delta_theta_y = 1.3e-3\n",
    "pt_mean = -0.15\n",
    "delta_pt = 0.15\n",
    "\n",
    "number_of_x_values = 1\n",
    "number_of_theta_x_values = 1\n",
    "number_of_y_values = 1\n",
    "number_of_theta_y_values = 1\n",
    "number_of_pt_values = 12000\n",
    "\n",
    "grid_configuration = CanonicalCoordinatesGridConfiguration.from_delta(x_mean, delta_x, number_of_x_values,\n",
    "                                                        theta_x_mean, delta_theta_x, number_of_theta_x_values,\n",
    "                                                        y_mean, delta_y, number_of_y_values,\n",
    "                                                        theta_y_mean, delta_theta_y, number_of_theta_y_values,\n",
    "                                                        pt_mean, delta_pt, number_of_pt_values)\n",
    "particles = grid_configuration.generate_randomly()"
   ]
  },
  {
   "cell_type": "code",
   "execution_count": null,
   "metadata": {},
   "outputs": [],
   "source": [
    "transporter1 = \"ptc_track\"\n",
    "transporter2 = \"approximator\""
   ]
  },
  {
   "cell_type": "code",
   "execution_count": null,
   "metadata": {},
   "outputs": [],
   "source": [
    "transporters = {\n",
    "    transporter1: ptc_track_configuration,\n",
    "    transporter2: approximator_configuration\n",
    "}"
   ]
  },
  {
   "cell_type": "code",
   "execution_count": null,
   "metadata": {
    "scrolled": true
   },
   "outputs": [],
   "source": [
    "datasets = transport.compare(particles, transporters)"
   ]
  },
  {
   "cell_type": "code",
   "execution_count": null,
   "metadata": {},
   "outputs": [],
   "source": [
    "f, axes = plt.subplots(2, 2)\n",
    "\n",
    "fig = plt.gcf()\n",
    "fig.set_size_inches(40,20)\n",
    "\n",
    "title_sufix = r\"Error over training scope\"\n",
    "\n",
    "transport.plot(datasets, Parameters.X, Parameters.PT, title_sufix=title_sufix, ax=axes[0][0])\n",
    "transport.plot(datasets, Parameters.THETA_X, Parameters.PT, title_sufix=title_sufix, ax=axes[0][1])\n",
    "transport.plot(datasets, Parameters.Y, Parameters.PT, title_sufix=title_sufix, ax=axes[1][0])\n",
    "transport.plot(datasets, Parameters.THETA_Y, Parameters.PT, title_sufix=title_sufix, ax=axes[1][1])"
   ]
  },
  {
   "cell_type": "code",
   "execution_count": null,
   "metadata": {},
   "outputs": [],
   "source": []
  }
 ],
 "metadata": {
  "kernelspec": {
   "display_name": "Python 3",
   "language": "python",
   "name": "python3"
  },
  "language_info": {
   "codemirror_mode": {
    "name": "ipython",
    "version": 3
   },
   "file_extension": ".py",
   "mimetype": "text/x-python",
   "name": "python",
   "nbconvert_exporter": "python",
   "pygments_lexer": "ipython3",
   "version": "3.7.5"
  },
  "pycharm": {
   "stem_cell": {
    "cell_type": "raw",
    "source": [],
    "metadata": {
     "collapsed": false
    }
   }
  }
 },
 "nbformat": 4,
 "nbformat_minor": 2
}