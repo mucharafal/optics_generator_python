{
 "cells": [
  {
   "cell_type": "code",
   "execution_count": 1,
   "metadata": {},
   "outputs": [],
   "source": [
    "import ptc_twiss.madx_configuration as configuration\n",
    "import ptc_twiss.matrix_indexes as indexes\n",
    "import ptc_twiss.particles_trajectory_generator as transporter\n",
    "import visualization.visualize as plotter\n",
    "import data.bunch_configuration as buc\n",
    "import os\n",
    "import matplotlib.pyplot as plt\n",
    "import seaborn as sns"
   ]
  },
  {
   "cell_type": "code",
   "execution_count": 2,
   "metadata": {},
   "outputs": [],
   "source": [
    "sns.set_style(\"whitegrid\")"
   ]
  },
  {
   "cell_type": "markdown",
   "metadata": {},
   "source": [
    "Change below path for path to unziped folder"
   ]
  },
  {
   "cell_type": "code",
   "execution_count": 3,
   "metadata": {},
   "outputs": [],
   "source": [
    "path_to_project = \"/eos/user/r/rmucha/SWAN_projects\""
   ]
  },
  {
   "cell_type": "code",
   "execution_count": 4,
   "metadata": {},
   "outputs": [],
   "source": [
    "folder_name = \"2016\"\n",
    "script_file_name = \"ptc_twiss_script.madx\"\n",
    "path_to_script = os.path.join(path_to_project, folder_name, script_file_name)\n",
    "s = 219.55\n",
    "twiss_configuration = configuration.TwissConfiguration(path_to_script, s)"
   ]
  },
  {
   "cell_type": "code",
   "execution_count": 5,
   "metadata": {},
   "outputs": [],
   "source": [
    "x_mean = 0\n",
    "sigma_x = 0\n",
    "theta_x_mean = 0\n",
    "sigma_theta_x = 0\n",
    "y_mean = 0\n",
    "sigma_y = 0\n",
    "theta_y_mean = 0\n",
    "sigma_theta_y = 0\n",
    "pt_mean = -0.15\n",
    "sigma_pt = 0.15\n",
    "\n",
    "x_resolution = 1\n",
    "theta_x_resolution = 1\n",
    "y_resolution = 1\n",
    "theta_y_resolution = 1\n",
    "pt_resolution = 31\n",
    "\n",
    "bunch_configuration = buc.BunchConfiguration.from_sigma(x_mean, sigma_x, x_resolution,\n",
    "                                                       theta_x_mean, sigma_theta_x, theta_x_resolution,\n",
    "                                                       y_mean, sigma_y, y_resolution,\n",
    "                                                       theta_y_mean, sigma_theta_y, theta_y_resolution,\n",
    "                                                        pt_mean, sigma_pt, pt_resolution)"
   ]
  },
  {
   "cell_type": "code",
   "execution_count": 6,
   "metadata": {},
   "outputs": [],
   "source": [
    "title_sufix = \"2016, ptc_twiss\""
   ]
  },
  {
   "cell_type": "code",
   "execution_count": 8,
   "metadata": {},
   "outputs": [],
   "source": [
    "segments = transporter.generate_from_range(madx_configuration=twiss_configuration, bunch_configuration=bunch_configuration)"
   ]
  },
  {
   "cell_type": "code",
   "execution_count": 9,
   "metadata": {},
   "outputs": [],
   "source": [
    "matrix = segments[\"end\"]"
   ]
  },
  {
   "cell_type": "code",
   "execution_count": 14,
   "metadata": {},
   "outputs": [
    {
     "ename": "AttributeError",
     "evalue": "'Line2D' object has no property 's'",
     "output_type": "error",
     "traceback": [
      "\u001b[0;31m---------------------------------------------------------------------------\u001b[0m",
      "\u001b[0;31mAttributeError\u001b[0m                            Traceback (most recent call last)",
      "\u001b[0;32m<ipython-input-14-6a0fa266a68f>\u001b[0m in \u001b[0;36m<module>\u001b[0;34m\u001b[0m\n\u001b[1;32m      6\u001b[0m \u001b[0mmapping\u001b[0m \u001b[0;34m=\u001b[0m \u001b[0mindexes\u001b[0m\u001b[0;34m.\u001b[0m\u001b[0mptc_twiss\u001b[0m\u001b[0;34m\u001b[0m\u001b[0m\n\u001b[1;32m      7\u001b[0m \u001b[0;34m\u001b[0m\u001b[0m\n\u001b[0;32m----> 8\u001b[0;31m \u001b[0mplotter\u001b[0m\u001b[0;34m.\u001b[0m\u001b[0mplot_from_one_matrix\u001b[0m\u001b[0;34m(\u001b[0m\u001b[0;34m\"pt\"\u001b[0m\u001b[0;34m,\u001b[0m \u001b[0;34m\"D y\"\u001b[0m\u001b[0;34m,\u001b[0m \u001b[0mmatrix\u001b[0m\u001b[0;34m,\u001b[0m \u001b[0mmapping\u001b[0m\u001b[0;34m,\u001b[0m \u001b[0maxes\u001b[0m\u001b[0;34m,\u001b[0m \u001b[0;36m0\u001b[0m\u001b[0;34m,\u001b[0m \u001b[0mtitle_sufix\u001b[0m\u001b[0;34m=\u001b[0m\u001b[0mtitle_sufix\u001b[0m\u001b[0;34m)\u001b[0m\u001b[0;34m\u001b[0m\u001b[0m\n\u001b[0m\u001b[1;32m      9\u001b[0m \u001b[0mplotter\u001b[0m\u001b[0;34m.\u001b[0m\u001b[0mplot_from_one_matrix\u001b[0m\u001b[0;34m(\u001b[0m\u001b[0;34m\"pt\"\u001b[0m\u001b[0;34m,\u001b[0m \u001b[0;34m\"D x\"\u001b[0m\u001b[0;34m,\u001b[0m \u001b[0mmatrix\u001b[0m\u001b[0;34m,\u001b[0m \u001b[0mmapping\u001b[0m\u001b[0;34m,\u001b[0m \u001b[0maxes\u001b[0m\u001b[0;34m,\u001b[0m \u001b[0;36m1\u001b[0m\u001b[0;34m,\u001b[0m \u001b[0mtitle_sufix\u001b[0m\u001b[0;34m=\u001b[0m\u001b[0mtitle_sufix\u001b[0m\u001b[0;34m)\u001b[0m\u001b[0;34m\u001b[0m\u001b[0m\n",
      "\u001b[0;32m~/SWAN_projects/optics_generator_python/src/visualization/visualize.py\u001b[0m in \u001b[0;36mplot_from_one_matrix\u001b[0;34m(x_name, y_name, matrix, mapping, plot_axes, plot_x_pos, plot_y_pos, title_sufix, x_name_prefix, y_name_prefix, plot_function, color, marker, x_axis_configuration, y_axis_configuration)\u001b[0m\n\u001b[1;32m     14\u001b[0m                                   \u001b[0mtitle_sufix\u001b[0m\u001b[0;34m,\u001b[0m \u001b[0mx_name_prefix\u001b[0m\u001b[0;34m,\u001b[0m \u001b[0my_name_prefix\u001b[0m\u001b[0;34m,\u001b[0m\u001b[0;34m\u001b[0m\u001b[0m\n\u001b[1;32m     15\u001b[0m                                   \u001b[0mplot_function\u001b[0m\u001b[0;34m,\u001b[0m \u001b[0mcolor\u001b[0m\u001b[0;34m,\u001b[0m \u001b[0mmarker\u001b[0m\u001b[0;34m,\u001b[0m\u001b[0;34m\u001b[0m\u001b[0m\n\u001b[0;32m---> 16\u001b[0;31m                                   x_axis_configuration, y_axis_configuration)\n\u001b[0m\u001b[1;32m     17\u001b[0m \u001b[0;34m\u001b[0m\u001b[0m\n\u001b[1;32m     18\u001b[0m \u001b[0;34m\u001b[0m\u001b[0m\n",
      "\u001b[0;32m~/SWAN_projects/optics_generator_python/src/visualization/visualize.py\u001b[0m in \u001b[0;36mplot_from_two_matrices\u001b[0;34m(x_name, y_name, x_matrix, y_matrix, x_matrix_mapping, y_matrix_mapping, plot_axes, plot_x_pos, plot_y_pos, title_sufix, x_name_prefix, y_name_prefix, plot_function, color, marker, x_axis_configuration, y_axis_configuration)\u001b[0m\n\u001b[1;32m     48\u001b[0m     \u001b[0;32melif\u001b[0m \u001b[0mplot_y_pos\u001b[0m \u001b[0;34m==\u001b[0m \u001b[0;34m-\u001b[0m\u001b[0;36m1\u001b[0m\u001b[0;34m:\u001b[0m\u001b[0;34m\u001b[0m\u001b[0m\n\u001b[1;32m     49\u001b[0m         axes = plot_function(x=x_full_name, y=y_full_name, data=frame, ax=plot_axes[plot_x_pos], palette=[color],\n\u001b[0;32m---> 50\u001b[0;31m                              markers=[marker], s=1)\n\u001b[0m\u001b[1;32m     51\u001b[0m     \u001b[0;32melse\u001b[0m\u001b[0;34m:\u001b[0m\u001b[0;34m\u001b[0m\u001b[0m\n\u001b[1;32m     52\u001b[0m         axes = plot_function(x=x_full_name, y=y_full_name, data=frame, ax=plot_axes[plot_x_pos][plot_y_pos],\n",
      "\u001b[0;32m/cvmfs/sft.cern.ch/lcg/views/LCG_96python3/x86_64-centos7-gcc8-opt/lib/python3.6/site-packages/seaborn/relational.py\u001b[0m in \u001b[0;36mlineplot\u001b[0;34m(x, y, hue, size, style, data, palette, hue_order, hue_norm, sizes, size_order, size_norm, dashes, markers, style_order, units, estimator, ci, n_boot, sort, err_style, err_kws, legend, ax, **kwargs)\u001b[0m\n\u001b[1;32m   1082\u001b[0m         \u001b[0max\u001b[0m \u001b[0;34m=\u001b[0m \u001b[0mplt\u001b[0m\u001b[0;34m.\u001b[0m\u001b[0mgca\u001b[0m\u001b[0;34m(\u001b[0m\u001b[0;34m)\u001b[0m\u001b[0;34m\u001b[0m\u001b[0m\n\u001b[1;32m   1083\u001b[0m \u001b[0;34m\u001b[0m\u001b[0m\n\u001b[0;32m-> 1084\u001b[0;31m     \u001b[0mp\u001b[0m\u001b[0;34m.\u001b[0m\u001b[0mplot\u001b[0m\u001b[0;34m(\u001b[0m\u001b[0max\u001b[0m\u001b[0;34m,\u001b[0m \u001b[0mkwargs\u001b[0m\u001b[0;34m)\u001b[0m\u001b[0;34m\u001b[0m\u001b[0m\n\u001b[0m\u001b[1;32m   1085\u001b[0m \u001b[0;34m\u001b[0m\u001b[0m\n\u001b[1;32m   1086\u001b[0m     \u001b[0;32mreturn\u001b[0m \u001b[0max\u001b[0m\u001b[0;34m\u001b[0m\u001b[0m\n",
      "\u001b[0;32m/cvmfs/sft.cern.ch/lcg/views/LCG_96python3/x86_64-centos7-gcc8-opt/lib/python3.6/site-packages/seaborn/relational.py\u001b[0m in \u001b[0;36mplot\u001b[0;34m(self, ax, kws)\u001b[0m\n\u001b[1;32m    738\u001b[0m         \u001b[0;31m# function will advance the axes property cycle.\u001b[0m\u001b[0;34m\u001b[0m\u001b[0;34m\u001b[0m\u001b[0m\n\u001b[1;32m    739\u001b[0m \u001b[0;34m\u001b[0m\u001b[0m\n\u001b[0;32m--> 740\u001b[0;31m         \u001b[0mscout\u001b[0m\u001b[0;34m,\u001b[0m \u001b[0;34m=\u001b[0m \u001b[0max\u001b[0m\u001b[0;34m.\u001b[0m\u001b[0mplot\u001b[0m\u001b[0;34m(\u001b[0m\u001b[0;34m[\u001b[0m\u001b[0;34m]\u001b[0m\u001b[0;34m,\u001b[0m \u001b[0;34m[\u001b[0m\u001b[0;34m]\u001b[0m\u001b[0;34m,\u001b[0m \u001b[0;34m**\u001b[0m\u001b[0mkws\u001b[0m\u001b[0;34m)\u001b[0m\u001b[0;34m\u001b[0m\u001b[0m\n\u001b[0m\u001b[1;32m    741\u001b[0m \u001b[0;34m\u001b[0m\u001b[0m\n\u001b[1;32m    742\u001b[0m         \u001b[0morig_color\u001b[0m \u001b[0;34m=\u001b[0m \u001b[0mkws\u001b[0m\u001b[0;34m.\u001b[0m\u001b[0mpop\u001b[0m\u001b[0;34m(\u001b[0m\u001b[0;34m\"color\"\u001b[0m\u001b[0;34m,\u001b[0m \u001b[0mscout\u001b[0m\u001b[0;34m.\u001b[0m\u001b[0mget_color\u001b[0m\u001b[0;34m(\u001b[0m\u001b[0;34m)\u001b[0m\u001b[0;34m)\u001b[0m\u001b[0;34m\u001b[0m\u001b[0m\n",
      "\u001b[0;32m/cvmfs/sft.cern.ch/lcg/views/LCG_96python3/x86_64-centos7-gcc8-opt/lib/python3.6/site-packages/matplotlib/axes/_axes.py\u001b[0m in \u001b[0;36mplot\u001b[0;34m(self, scalex, scaley, data, *args, **kwargs)\u001b[0m\n\u001b[1;32m   1664\u001b[0m         \"\"\"\n\u001b[1;32m   1665\u001b[0m         \u001b[0mkwargs\u001b[0m \u001b[0;34m=\u001b[0m \u001b[0mcbook\u001b[0m\u001b[0;34m.\u001b[0m\u001b[0mnormalize_kwargs\u001b[0m\u001b[0;34m(\u001b[0m\u001b[0mkwargs\u001b[0m\u001b[0;34m,\u001b[0m \u001b[0mmlines\u001b[0m\u001b[0;34m.\u001b[0m\u001b[0mLine2D\u001b[0m\u001b[0;34m.\u001b[0m\u001b[0m_alias_map\u001b[0m\u001b[0;34m)\u001b[0m\u001b[0;34m\u001b[0m\u001b[0m\n\u001b[0;32m-> 1666\u001b[0;31m         \u001b[0mlines\u001b[0m \u001b[0;34m=\u001b[0m \u001b[0;34m[\u001b[0m\u001b[0;34m*\u001b[0m\u001b[0mself\u001b[0m\u001b[0;34m.\u001b[0m\u001b[0m_get_lines\u001b[0m\u001b[0;34m(\u001b[0m\u001b[0;34m*\u001b[0m\u001b[0margs\u001b[0m\u001b[0;34m,\u001b[0m \u001b[0mdata\u001b[0m\u001b[0;34m=\u001b[0m\u001b[0mdata\u001b[0m\u001b[0;34m,\u001b[0m \u001b[0;34m**\u001b[0m\u001b[0mkwargs\u001b[0m\u001b[0;34m)\u001b[0m\u001b[0;34m]\u001b[0m\u001b[0;34m\u001b[0m\u001b[0m\n\u001b[0m\u001b[1;32m   1667\u001b[0m         \u001b[0;32mfor\u001b[0m \u001b[0mline\u001b[0m \u001b[0;32min\u001b[0m \u001b[0mlines\u001b[0m\u001b[0;34m:\u001b[0m\u001b[0;34m\u001b[0m\u001b[0m\n\u001b[1;32m   1668\u001b[0m             \u001b[0mself\u001b[0m\u001b[0;34m.\u001b[0m\u001b[0madd_line\u001b[0m\u001b[0;34m(\u001b[0m\u001b[0mline\u001b[0m\u001b[0;34m)\u001b[0m\u001b[0;34m\u001b[0m\u001b[0m\n",
      "\u001b[0;32m/cvmfs/sft.cern.ch/lcg/views/LCG_96python3/x86_64-centos7-gcc8-opt/lib/python3.6/site-packages/matplotlib/axes/_base.py\u001b[0m in \u001b[0;36m__call__\u001b[0;34m(self, *args, **kwargs)\u001b[0m\n\u001b[1;32m    223\u001b[0m                 \u001b[0mthis\u001b[0m \u001b[0;34m+=\u001b[0m \u001b[0margs\u001b[0m\u001b[0;34m[\u001b[0m\u001b[0;36m0\u001b[0m\u001b[0;34m]\u001b[0m\u001b[0;34m,\u001b[0m\u001b[0;34m\u001b[0m\u001b[0m\n\u001b[1;32m    224\u001b[0m                 \u001b[0margs\u001b[0m \u001b[0;34m=\u001b[0m \u001b[0margs\u001b[0m\u001b[0;34m[\u001b[0m\u001b[0;36m1\u001b[0m\u001b[0;34m:\u001b[0m\u001b[0;34m]\u001b[0m\u001b[0;34m\u001b[0m\u001b[0m\n\u001b[0;32m--> 225\u001b[0;31m             \u001b[0;32myield\u001b[0m \u001b[0;32mfrom\u001b[0m \u001b[0mself\u001b[0m\u001b[0;34m.\u001b[0m\u001b[0m_plot_args\u001b[0m\u001b[0;34m(\u001b[0m\u001b[0mthis\u001b[0m\u001b[0;34m,\u001b[0m \u001b[0mkwargs\u001b[0m\u001b[0;34m)\u001b[0m\u001b[0;34m\u001b[0m\u001b[0m\n\u001b[0m\u001b[1;32m    226\u001b[0m \u001b[0;34m\u001b[0m\u001b[0m\n\u001b[1;32m    227\u001b[0m     \u001b[0;32mdef\u001b[0m \u001b[0mget_next_color\u001b[0m\u001b[0;34m(\u001b[0m\u001b[0mself\u001b[0m\u001b[0;34m)\u001b[0m\u001b[0;34m:\u001b[0m\u001b[0;34m\u001b[0m\u001b[0m\n",
      "\u001b[0;32m/cvmfs/sft.cern.ch/lcg/views/LCG_96python3/x86_64-centos7-gcc8-opt/lib/python3.6/site-packages/matplotlib/axes/_base.py\u001b[0m in \u001b[0;36m_plot_args\u001b[0;34m(self, tup, kwargs)\u001b[0m\n\u001b[1;32m    403\u001b[0m                 \"non-matching shapes is deprecated.\")\n\u001b[1;32m    404\u001b[0m         \u001b[0;32mfor\u001b[0m \u001b[0mj\u001b[0m \u001b[0;32min\u001b[0m \u001b[0mrange\u001b[0m\u001b[0;34m(\u001b[0m\u001b[0mmax\u001b[0m\u001b[0;34m(\u001b[0m\u001b[0mncx\u001b[0m\u001b[0;34m,\u001b[0m \u001b[0mncy\u001b[0m\u001b[0;34m)\u001b[0m\u001b[0;34m)\u001b[0m\u001b[0;34m:\u001b[0m\u001b[0;34m\u001b[0m\u001b[0m\n\u001b[0;32m--> 405\u001b[0;31m             \u001b[0mseg\u001b[0m \u001b[0;34m=\u001b[0m \u001b[0mfunc\u001b[0m\u001b[0;34m(\u001b[0m\u001b[0mx\u001b[0m\u001b[0;34m[\u001b[0m\u001b[0;34m:\u001b[0m\u001b[0;34m,\u001b[0m \u001b[0mj\u001b[0m \u001b[0;34m%\u001b[0m \u001b[0mncx\u001b[0m\u001b[0;34m]\u001b[0m\u001b[0;34m,\u001b[0m \u001b[0my\u001b[0m\u001b[0;34m[\u001b[0m\u001b[0;34m:\u001b[0m\u001b[0;34m,\u001b[0m \u001b[0mj\u001b[0m \u001b[0;34m%\u001b[0m \u001b[0mncy\u001b[0m\u001b[0;34m]\u001b[0m\u001b[0;34m,\u001b[0m \u001b[0mkw\u001b[0m\u001b[0;34m,\u001b[0m \u001b[0mkwargs\u001b[0m\u001b[0;34m)\u001b[0m\u001b[0;34m\u001b[0m\u001b[0m\n\u001b[0m\u001b[1;32m    406\u001b[0m             \u001b[0mret\u001b[0m\u001b[0;34m.\u001b[0m\u001b[0mappend\u001b[0m\u001b[0;34m(\u001b[0m\u001b[0mseg\u001b[0m\u001b[0;34m)\u001b[0m\u001b[0;34m\u001b[0m\u001b[0m\n\u001b[1;32m    407\u001b[0m         \u001b[0;32mreturn\u001b[0m \u001b[0mret\u001b[0m\u001b[0;34m\u001b[0m\u001b[0m\n",
      "\u001b[0;32m/cvmfs/sft.cern.ch/lcg/views/LCG_96python3/x86_64-centos7-gcc8-opt/lib/python3.6/site-packages/matplotlib/axes/_base.py\u001b[0m in \u001b[0;36m_makeline\u001b[0;34m(self, x, y, kw, kwargs)\u001b[0m\n\u001b[1;32m    310\u001b[0m         \u001b[0mdefault_dict\u001b[0m \u001b[0;34m=\u001b[0m \u001b[0mself\u001b[0m\u001b[0;34m.\u001b[0m\u001b[0m_getdefaults\u001b[0m\u001b[0;34m(\u001b[0m\u001b[0mset\u001b[0m\u001b[0;34m(\u001b[0m\u001b[0;34m)\u001b[0m\u001b[0;34m,\u001b[0m \u001b[0mkw\u001b[0m\u001b[0;34m)\u001b[0m\u001b[0;34m\u001b[0m\u001b[0m\n\u001b[1;32m    311\u001b[0m         \u001b[0mself\u001b[0m\u001b[0;34m.\u001b[0m\u001b[0m_setdefaults\u001b[0m\u001b[0;34m(\u001b[0m\u001b[0mdefault_dict\u001b[0m\u001b[0;34m,\u001b[0m \u001b[0mkw\u001b[0m\u001b[0;34m)\u001b[0m\u001b[0;34m\u001b[0m\u001b[0m\n\u001b[0;32m--> 312\u001b[0;31m         \u001b[0mseg\u001b[0m \u001b[0;34m=\u001b[0m \u001b[0mmlines\u001b[0m\u001b[0;34m.\u001b[0m\u001b[0mLine2D\u001b[0m\u001b[0;34m(\u001b[0m\u001b[0mx\u001b[0m\u001b[0;34m,\u001b[0m \u001b[0my\u001b[0m\u001b[0;34m,\u001b[0m \u001b[0;34m**\u001b[0m\u001b[0mkw\u001b[0m\u001b[0;34m)\u001b[0m\u001b[0;34m\u001b[0m\u001b[0m\n\u001b[0m\u001b[1;32m    313\u001b[0m         \u001b[0;32mreturn\u001b[0m \u001b[0mseg\u001b[0m\u001b[0;34m\u001b[0m\u001b[0m\n\u001b[1;32m    314\u001b[0m \u001b[0;34m\u001b[0m\u001b[0m\n",
      "\u001b[0;32m/cvmfs/sft.cern.ch/lcg/views/LCG_96python3/x86_64-centos7-gcc8-opt/lib/python3.6/site-packages/matplotlib/lines.py\u001b[0m in \u001b[0;36m__init__\u001b[0;34m(self, xdata, ydata, linewidth, linestyle, color, marker, markersize, markeredgewidth, markeredgecolor, markerfacecolor, markerfacecoloralt, fillstyle, antialiased, dash_capstyle, solid_capstyle, dash_joinstyle, solid_joinstyle, pickradius, drawstyle, markevery, **kwargs)\u001b[0m\n\u001b[1;32m    402\u001b[0m         \u001b[0;31m# update kwargs before updating data to give the caller a\u001b[0m\u001b[0;34m\u001b[0m\u001b[0;34m\u001b[0m\u001b[0m\n\u001b[1;32m    403\u001b[0m         \u001b[0;31m# chance to init axes (and hence unit support)\u001b[0m\u001b[0;34m\u001b[0m\u001b[0;34m\u001b[0m\u001b[0m\n\u001b[0;32m--> 404\u001b[0;31m         \u001b[0mself\u001b[0m\u001b[0;34m.\u001b[0m\u001b[0mupdate\u001b[0m\u001b[0;34m(\u001b[0m\u001b[0mkwargs\u001b[0m\u001b[0;34m)\u001b[0m\u001b[0;34m\u001b[0m\u001b[0m\n\u001b[0m\u001b[1;32m    405\u001b[0m         \u001b[0mself\u001b[0m\u001b[0;34m.\u001b[0m\u001b[0mpickradius\u001b[0m \u001b[0;34m=\u001b[0m \u001b[0mpickradius\u001b[0m\u001b[0;34m\u001b[0m\u001b[0m\n\u001b[1;32m    406\u001b[0m         \u001b[0mself\u001b[0m\u001b[0;34m.\u001b[0m\u001b[0mind_offset\u001b[0m \u001b[0;34m=\u001b[0m \u001b[0;36m0\u001b[0m\u001b[0;34m\u001b[0m\u001b[0m\n",
      "\u001b[0;32m/cvmfs/sft.cern.ch/lcg/views/LCG_96python3/x86_64-centos7-gcc8-opt/lib/python3.6/site-packages/matplotlib/artist.py\u001b[0m in \u001b[0;36mupdate\u001b[0;34m(self, props)\u001b[0m\n\u001b[1;32m    955\u001b[0m \u001b[0;34m\u001b[0m\u001b[0m\n\u001b[1;32m    956\u001b[0m         \u001b[0;32mwith\u001b[0m \u001b[0mcbook\u001b[0m\u001b[0;34m.\u001b[0m\u001b[0m_setattr_cm\u001b[0m\u001b[0;34m(\u001b[0m\u001b[0mself\u001b[0m\u001b[0;34m,\u001b[0m \u001b[0meventson\u001b[0m\u001b[0;34m=\u001b[0m\u001b[0;32mFalse\u001b[0m\u001b[0;34m)\u001b[0m\u001b[0;34m:\u001b[0m\u001b[0;34m\u001b[0m\u001b[0m\n\u001b[0;32m--> 957\u001b[0;31m             \u001b[0mret\u001b[0m \u001b[0;34m=\u001b[0m \u001b[0;34m[\u001b[0m\u001b[0m_update_property\u001b[0m\u001b[0;34m(\u001b[0m\u001b[0mself\u001b[0m\u001b[0;34m,\u001b[0m \u001b[0mk\u001b[0m\u001b[0;34m,\u001b[0m \u001b[0mv\u001b[0m\u001b[0;34m)\u001b[0m \u001b[0;32mfor\u001b[0m \u001b[0mk\u001b[0m\u001b[0;34m,\u001b[0m \u001b[0mv\u001b[0m \u001b[0;32min\u001b[0m \u001b[0mprops\u001b[0m\u001b[0;34m.\u001b[0m\u001b[0mitems\u001b[0m\u001b[0;34m(\u001b[0m\u001b[0;34m)\u001b[0m\u001b[0;34m]\u001b[0m\u001b[0;34m\u001b[0m\u001b[0m\n\u001b[0m\u001b[1;32m    958\u001b[0m \u001b[0;34m\u001b[0m\u001b[0m\n\u001b[1;32m    959\u001b[0m         \u001b[0;32mif\u001b[0m \u001b[0mlen\u001b[0m\u001b[0;34m(\u001b[0m\u001b[0mret\u001b[0m\u001b[0;34m)\u001b[0m\u001b[0;34m:\u001b[0m\u001b[0;34m\u001b[0m\u001b[0m\n",
      "\u001b[0;32m/cvmfs/sft.cern.ch/lcg/views/LCG_96python3/x86_64-centos7-gcc8-opt/lib/python3.6/site-packages/matplotlib/artist.py\u001b[0m in \u001b[0;36m<listcomp>\u001b[0;34m(.0)\u001b[0m\n\u001b[1;32m    955\u001b[0m \u001b[0;34m\u001b[0m\u001b[0m\n\u001b[1;32m    956\u001b[0m         \u001b[0;32mwith\u001b[0m \u001b[0mcbook\u001b[0m\u001b[0;34m.\u001b[0m\u001b[0m_setattr_cm\u001b[0m\u001b[0;34m(\u001b[0m\u001b[0mself\u001b[0m\u001b[0;34m,\u001b[0m \u001b[0meventson\u001b[0m\u001b[0;34m=\u001b[0m\u001b[0;32mFalse\u001b[0m\u001b[0;34m)\u001b[0m\u001b[0;34m:\u001b[0m\u001b[0;34m\u001b[0m\u001b[0m\n\u001b[0;32m--> 957\u001b[0;31m             \u001b[0mret\u001b[0m \u001b[0;34m=\u001b[0m \u001b[0;34m[\u001b[0m\u001b[0m_update_property\u001b[0m\u001b[0;34m(\u001b[0m\u001b[0mself\u001b[0m\u001b[0;34m,\u001b[0m \u001b[0mk\u001b[0m\u001b[0;34m,\u001b[0m \u001b[0mv\u001b[0m\u001b[0;34m)\u001b[0m \u001b[0;32mfor\u001b[0m \u001b[0mk\u001b[0m\u001b[0;34m,\u001b[0m \u001b[0mv\u001b[0m \u001b[0;32min\u001b[0m \u001b[0mprops\u001b[0m\u001b[0;34m.\u001b[0m\u001b[0mitems\u001b[0m\u001b[0;34m(\u001b[0m\u001b[0;34m)\u001b[0m\u001b[0;34m]\u001b[0m\u001b[0;34m\u001b[0m\u001b[0m\n\u001b[0m\u001b[1;32m    958\u001b[0m \u001b[0;34m\u001b[0m\u001b[0m\n\u001b[1;32m    959\u001b[0m         \u001b[0;32mif\u001b[0m \u001b[0mlen\u001b[0m\u001b[0;34m(\u001b[0m\u001b[0mret\u001b[0m\u001b[0;34m)\u001b[0m\u001b[0;34m:\u001b[0m\u001b[0;34m\u001b[0m\u001b[0m\n",
      "\u001b[0;32m/cvmfs/sft.cern.ch/lcg/views/LCG_96python3/x86_64-centos7-gcc8-opt/lib/python3.6/site-packages/matplotlib/artist.py\u001b[0m in \u001b[0;36m_update_property\u001b[0;34m(self, k, v)\u001b[0m\n\u001b[1;32m    951\u001b[0m                 \u001b[0;32mif\u001b[0m \u001b[0;32mnot\u001b[0m \u001b[0mcallable\u001b[0m\u001b[0;34m(\u001b[0m\u001b[0mfunc\u001b[0m\u001b[0;34m)\u001b[0m\u001b[0;34m:\u001b[0m\u001b[0;34m\u001b[0m\u001b[0m\n\u001b[1;32m    952\u001b[0m                     raise AttributeError('{!r} object has no property {!r}'\n\u001b[0;32m--> 953\u001b[0;31m                                          .format(type(self).__name__, k))\n\u001b[0m\u001b[1;32m    954\u001b[0m                 \u001b[0;32mreturn\u001b[0m \u001b[0mfunc\u001b[0m\u001b[0;34m(\u001b[0m\u001b[0mv\u001b[0m\u001b[0;34m)\u001b[0m\u001b[0;34m\u001b[0m\u001b[0m\n\u001b[1;32m    955\u001b[0m \u001b[0;34m\u001b[0m\u001b[0m\n",
      "\u001b[0;31mAttributeError\u001b[0m: 'Line2D' object has no property 's'"
     ]
    },
    {
     "data": {
      "image/png": "[encoded data removed]",
      "text/plain": [
       "<Figure size 1440x720 with 2 Axes>"
      ]
     },
     "metadata": {},
     "output_type": "display_data"
    }
   ],
   "source": [
    "f, axes = plt.subplots(1, 2)\n",
    "\n",
    "fig = plt.gcf()\n",
    "fig.set_size_inches(20,10)\n",
    "\n",
    "mapping = indexes.ptc_twiss\n",
    "\n",
    "plotter.plot_from_one_matrix(\"pt\", \"D y\", matrix, mapping, axes, 0, title_sufix=title_sufix)\n",
    "plotter.plot_from_one_matrix(\"pt\", \"D x\", matrix, mapping, axes, 1, title_sufix=title_sufix)"
   ]
  },
  {
   "cell_type": "code",
   "execution_count": 12,
   "metadata": {},
   "outputs": [
    {
     "data": {
      "text/plain": [
       "array([[ 2.19551000e+02,  5.50911058e-02,  1.67734633e-03,\n",
       "        -1.87396088e-04,  8.18210147e-06,  3.48739296e+04,\n",
       "         7.03171597e+04,  7.47645722e-01,  7.46856556e-01,\n",
       "        -1.68810373e+02, -2.39685713e+02, -2.56392499e-01,\n",
       "        -1.18202049e-03, -3.00000000e-01],\n",
       "       [ 2.19551000e+02,  5.25622062e-02,  1.66541758e-03,\n",
       "        -1.76131131e-04,  8.37530225e-06,  3.21599450e+04,\n",
       "         6.35456464e+04,  7.47509031e-01,  7.46783249e-01,\n",
       "        -1.59821722e+02, -2.24639199e+02, -2.49426188e-01,\n",
       "        -1.20293960e-03, -2.90000000e-01],\n",
       "       [ 2.19551000e+02,  5.01018172e-02,  1.65330236e-03,\n",
       "        -1.65422145e-04,  8.55765054e-06,  2.95547124e+04,\n",
       "         5.72307626e+04,  7.47367021e-01,  7.46703486e-01,\n",
       "        -1.51079880e+02, -2.10220128e+02, -2.42689279e-01,\n",
       "        -1.21940927e-03, -2.80000000e-01],\n",
       "       [ 2.19551000e+02,  4.77076785e-02,  1.64104242e-03,\n",
       "        -1.55238022e-04,  8.72990513e-06,  2.70641518e+04,\n",
       "         5.13585889e+04,  7.47218623e-01,  7.46616465e-01,\n",
       "        -1.42589887e+02, -1.96411191e+02, -2.36175005e-01,\n",
       "        -1.23196775e-03, -2.70000000e-01],\n",
       "       [ 2.19551000e+02,  4.53775978e-02,  1.62867445e-03,\n",
       "        -1.45549673e-04,  8.89276132e-06,  2.46924113e+04,\n",
       "         4.59134702e+04,  7.47062653e-01,  7.46521246e-01,\n",
       "        -1.34354513e+02, -1.83193806e+02, -2.29876520e-01,\n",
       "        -1.24108868e-03, -2.60000000e-01],\n",
       "       [ 2.19551000e+02,  4.31094516e-02,  1.61623071e-03,\n",
       "        -1.36329874e-04,  9.04685712e-06,  2.24421284e+04,\n",
       "         4.08785344e+04,  7.46897781e-01,  7.46416714e-01,\n",
       "        -1.26374639e+02, -1.70548534e+02, -2.23786955e-01,\n",
       "        -1.24718935e-03, -2.50000000e-01],\n",
       "       [ 2.19551000e+02,  4.09011851e-02,  1.60373950e-03,\n",
       "        -1.27553135e-04,  9.19277867e-06,  2.03146609e+04,\n",
       "         3.62361166e+04,  7.46722492e-01,  7.46301540e-01,\n",
       "        -1.18649581e+02, -1.58455408e+02, -2.17899472e-01,\n",
       "        -1.25063777e-03, -2.40000000e-01],\n",
       "       [ 2.19551000e+02,  3.87508112e-02,  1.59122571e-03,\n",
       "        -1.19195572e-04,  9.33106514e-06,  1.83102886e+04,\n",
       "         3.19681025e+04,  7.46535037e-01,  7.46174129e-01,\n",
       "        -1.11177371e+02, -1.46894209e+02, -2.12207294e-01,\n",
       "        -1.25175881e-03, -2.30000000e-01],\n",
       "       [ 2.19551000e+02,  3.66564104e-02,  1.57871112e-03,\n",
       "        -1.11234792e-04,  9.46221311e-06,  1.64283899e+04,\n",
       "         2.80562058e+04,  7.46333373e-01,  7.46032542e-01,\n",
       "        -1.03954991e+02, -1.35844676e+02, -2.06703747e-01,\n",
       "        -1.25083952e-03, -2.20000000e-01],\n",
       "       [ 2.19551000e+02,  3.46161293e-02,  1.56621487e-03,\n",
       "        -1.03649790e-04,  9.58668042e-06,  1.46675953e+04,\n",
       "         2.44821891e+04,  7.46115086e-01,  7.45874409e-01,\n",
       "        -9.69785700e+01, -1.25286682e+02, -2.01382275e-01,\n",
       "        -1.24813376e-03, -2.10000000e-01],\n",
       "       [ 2.19551000e+02,  3.26281793e-02,  1.55375365e-03,\n",
       "        -9.64208446e-05,  9.70488972e-06,  1.30259214e+04,\n",
       "         2.12280381e+04,  7.45877285e-01,  7.45696793e-01,\n",
       "        -9.02435586e+01, -1.15200370e+02, -1.96236463e-01,\n",
       "        -1.24386620e-03, -2.00000000e-01],\n",
       "       [ 2.19551000e+02,  3.06908353e-02,  1.54134208e-03,\n",
       "        -8.95294370e-05,  9.81723157e-06,  1.15008859e+04,\n",
       "         1.82760983e+04,  7.45616473e-01,  7.45496015e-01,\n",
       "        -8.37448686e+01, -1.05566256e+02, -1.91260053e-01,\n",
       "        -1.23823581e-03, -1.90000000e-01],\n",
       "       [ 2.19551000e+02,  2.88024339e-02,  1.52899289e-03,\n",
       "        -8.29581609e-05,  9.92406731e-06,  1.00896080e+04,\n",
       "         1.56091779e+04,  7.45328362e-01,  7.45267404e-01,\n",
       "        -7.74769962e+01, -9.63653112e+01, -1.86446953e-01,\n",
       "        -1.23141892e-03, -1.80000000e-01],\n",
       "       [ 2.19551000e+02,  2.69613716e-02,  1.51671714e-03,\n",
       "        -7.66906493e-05,  1.00257316e-05,  8.78889361e+03,\n",
       "         1.32106261e+04,  7.45007627e-01,  7.45004937e-01,\n",
       "        -7.14341248e+01, -8.75790228e+01, -1.81791246e-01,\n",
       "        -1.22357189e-03, -1.70000000e-01],\n",
       "       [ 2.19551000e+02,  2.51661034e-02,  1.50452442e-03,\n",
       "        -7.07115029e-05,  1.01225345e-05,  7.59530951e+03,\n",
       "         1.10643885e+04,  7.44647558e-01,  7.44700714e-01,\n",
       "        -6.56102111e+01, -7.91894380e+01, -1.77287193e-01,\n",
       "        -1.21483344e-03, -1.60000000e-01],\n",
       "       [ 2.19551000e+02,  2.34151407e-02,  1.49242303e-03,\n",
       "        -6.50062251e-05,  1.02147641e-05,  6.50524589e+03,\n",
       "         9.15504553e+03,  7.44239566e-01,  7.44344160e-01,\n",
       "        -5.99990583e+01, -7.11791947e+01, -1.72929240e-01,\n",
       "        -1.20532667e-03, -1.50000000e-01],\n",
       "       [ 2.19551000e+02,  2.17070495e-02,  1.48042008e-03,\n",
       "        -5.95611616e-05,  1.03026877e-05,  5.51497000e+03,\n",
       "         7.46783618e+03,  7.43772472e-01,  7.43920796e-01,\n",
       "        -5.45943770e+01, -6.35315402e+01, -1.68712014e-01,\n",
       "        -1.19516086e-03, -1.40000000e-01],\n",
       "       [ 2.19551000e+02,  2.00404486e-02,  1.46852168e-03,\n",
       "        -5.43634442e-05,  1.03865539e-05,  4.62067154e+03,\n",
       "         5.98867022e+03,  7.43231431e-01,  7.43410254e-01,\n",
       "        -4.93898366e+01, -5.62303425e+01, -1.64630327e-01,\n",
       "        -1.18443309e-03, -1.30000000e-01],\n",
       "       [ 2.19551000e+02,  1.84140079e-02,  1.45673300e-03,\n",
       "        -4.94009395e-05,  1.04665940e-05,  3.81850092e+03,\n",
       "         4.70413101e+03,  7.42596285e-01,  7.42782940e-01,\n",
       "        -4.43791073e+01, -4.92600930e+01, -1.60679174e-01,\n",
       "        -1.17322953e-03, -1.20000000e-01],\n",
       "       [ 2.19551000e+02,  1.68264461e-02,  1.44505842e-03,\n",
       "        -4.46622005e-05,  1.05430237e-05,  3.10460142e+03,\n",
       "         3.60147099e+03,  7.41838946e-01,  7.41994155e-01,\n",
       "        -3.95558955e+01, -4.26059040e+01, -1.56853729e-01,\n",
       "        -1.16162675e-03, -1.10000000e-01],\n",
       "       [ 2.19551000e+02,  1.52765297e-02,  1.43350157e-03,\n",
       "        -4.01364229e-05,  1.06160437e-05,  2.47513611e+03,\n",
       "         2.66860129e+03,  7.40919058e-01,  7.40973057e-01,\n",
       "        -3.49139729e+01, -3.62535020e+01, -1.53149343e-01,\n",
       "        -1.14969275e-03, -1.00000000e-01],\n",
       "       [ 2.19551000e+02,  1.37630706e-02,  1.42206547e-03,\n",
       "        -3.58134033e-05,  1.06858417e-05,  1.92631027e+03,\n",
       "         1.89407686e+03,  7.39776473e-01,  7.39600291e-01,\n",
       "        -3.04471996e+01, -3.01892165e+01, -1.49561539e-01,\n",
       "        -1.13748789e-03, -9.00000000e-02],\n",
       "       [ 2.19551000e+02,  1.22849247e-02,  1.41075254e-03,\n",
       "        -3.16835013e-05,  1.07525927e-05,  1.45439027e+03,\n",
       "         1.26707802e+03,  7.38317426e-01,  7.37657992e-01,\n",
       "        -2.61495433e+01, -2.43999668e+01, -1.46086013e-01,\n",
       "        -1.12506580e-03, -8.00000000e-02],\n",
       "       [ 2.19551000e+02,  1.08409899e-02,  1.39956472e-03,\n",
       "        -2.77376038e-05,  1.08164604e-05,  1.05572029e+03,\n",
       "         7.77389402e+02,  7.36387289e-01,  7.34702055e-01,\n",
       "        -2.20150947e+01, -1.88732463e+01, -1.42718621e-01,\n",
       "        -1.11247404e-03, -7.00000000e-02],\n",
       "       [ 2.19551000e+02,  9.43020503e-03,  1.38850348e-03,\n",
       "        -2.39670922e-05,  1.08775978e-05,  7.26739921e+02,\n",
       "         4.15376657e+02,  7.33711790e-01,  7.29667479e-01,\n",
       "        -1.80380790e+01, -1.35971054e+01, -1.39455382e-01,\n",
       "        -1.09975481e-03, -6.00000000e-02],\n",
       "       [ 2.19551000e+02,  8.05154784e-03,  1.37756992e-03,\n",
       "        -2.03638120e-05,  1.09361484e-05,  4.64016402e+02,\n",
       "         1.71961155e+02,  7.29754304e-01,  7.19219922e-01,\n",
       "        -1.42128651e+01, -8.56013316e+00, -1.36292469e-01,\n",
       "        -1.08694549e-03, -5.00000000e-02],\n",
       "       [ 2.19551000e+02,  6.70403350e-03,  1.36676476e-03,\n",
       "        -1.69200434e-05,  1.09922462e-05,  2.64383038e+02,\n",
       "         3.85942914e+01,  7.23307451e-01,  6.85508259e-01,\n",
       "        -1.05339724e+01, -3.75143846e+00, -1.33226204e-01,\n",
       "        -1.07407921e-03, -4.00000000e-02],\n",
       "       [ 2.19551000e+02,  5.38671338e-03,  1.35608843e-03,\n",
       "        -1.36284758e-05,  1.10460173e-05,  1.23982450e+02,\n",
       "         7.36774192e+00,  7.10999844e-01,  4.20778192e-01,\n",
       "        -6.99607536e+00,  8.39369496e-01, -1.30253054e-01,\n",
       "        -1.06118527e-03, -3.00000000e-02],\n",
       "       [ 2.19551000e+02,  4.09867333e-03,  1.34554106e-03,\n",
       "        -1.04821821e-05,  1.10975798e-05,  3.83300719e+01,\n",
       "         7.12148255e+01,  6.79103035e-01,  2.94029542e-01,\n",
       "        -3.59400658e+00,  5.22220066e+00, -1.27369629e-01,\n",
       "        -1.04828955e-03, -2.00000000e-02],\n",
       "       [ 2.19551000e+02,  2.83903257e-03,  1.33512256e-03,\n",
       "        -7.47459678e-06,  1.11470446e-05,  7.23021223e+00,\n",
       "         2.22838889e+02,  5.30156151e-01,  2.73900173e-01,\n",
       "        -3.22758472e-01,  9.40650375e+00, -1.24572669e-01,\n",
       "        -1.03541491e-03, -1.00000000e-02],\n",
       "       [ 2.19551000e+02,  1.60694214e-03,  1.32483262e-03,\n",
       "        -4.59949317e-06,  1.11945158e-05,  2.67115667e+01,\n",
       "         4.53401000e+02,  3.34212724e-01,  2.66169570e-01,\n",
       "         2.82251636e+00,  1.34012855e+01, -1.21859047e-01,\n",
       "        -1.02258144e-03,  0.00000000e+00]])"
      ]
     },
     "execution_count": 12,
     "metadata": {},
     "output_type": "execute_result"
    }
   ],
   "source": []
  },
  {
   "cell_type": "code",
   "execution_count": null,
   "metadata": {},
   "outputs": [],
   "source": []
  }
 ],
 "metadata": {
  "kernelspec": {
   "display_name": "Python 3",
   "language": "python",
   "name": "python3"
  },
  "language_info": {
   "codemirror_mode": {
    "name": "ipython",
    "version": 3
   },
   "file_extension": ".py",
   "mimetype": "text/x-python",
   "name": "python",
   "nbconvert_exporter": "python",
   "pygments_lexer": "ipython3",
   "version": "3.6.5"
  }
 },
 "nbformat": 4,
 "nbformat_minor": 2
}
