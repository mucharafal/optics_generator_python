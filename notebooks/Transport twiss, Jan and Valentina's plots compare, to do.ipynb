{
 "cells": [
  {
   "cell_type": "markdown",
   "metadata": {},
   "source": [
    "Outdate"
   ]
  },
  {
   "cell_type": "code",
   "execution_count": 3,
   "metadata": {},
   "outputs": [
    {
     "ename": "ModuleNotFoundError",
     "evalue": "No module named 'twiss.madx_script_generator'",
     "output_type": "error",
     "traceback": [
      "\u001b[0;31m---------------------------------------------------------------------------\u001b[0m",
      "\u001b[0;31mModuleNotFoundError\u001b[0m                       Traceback (most recent call last)",
      "\u001b[0;32m<ipython-input-3-ad87428e0043>\u001b[0m in \u001b[0;36m<module>\u001b[0;34m\u001b[0m\n\u001b[1;32m      5\u001b[0m \u001b[0;32mimport\u001b[0m \u001b[0mnumpy\u001b[0m \u001b[0;32mas\u001b[0m \u001b[0mnp\u001b[0m\u001b[0;34m\u001b[0m\u001b[0;34m\u001b[0m\u001b[0m\n\u001b[1;32m      6\u001b[0m \u001b[0msns\u001b[0m\u001b[0;34m.\u001b[0m\u001b[0mset_style\u001b[0m\u001b[0;34m(\u001b[0m\u001b[0;34m\"whitegrid\"\u001b[0m\u001b[0;34m)\u001b[0m\u001b[0;34m\u001b[0m\u001b[0;34m\u001b[0m\u001b[0m\n\u001b[0;32m----> 7\u001b[0;31m \u001b[0;32mimport\u001b[0m \u001b[0mtwiss\u001b[0m\u001b[0;34m.\u001b[0m\u001b[0mtransporter\u001b[0m \u001b[0;32mas\u001b[0m \u001b[0mtwiss_transport\u001b[0m\u001b[0;34m\u001b[0m\u001b[0;34m\u001b[0m\u001b[0m\n\u001b[0m\u001b[1;32m      8\u001b[0m \u001b[0;32mimport\u001b[0m \u001b[0mtwiss\u001b[0m\u001b[0;34m.\u001b[0m\u001b[0mmadx_configuration\u001b[0m \u001b[0;32mas\u001b[0m \u001b[0mtwiss_conf\u001b[0m\u001b[0;34m\u001b[0m\u001b[0;34m\u001b[0m\u001b[0m\n\u001b[1;32m      9\u001b[0m \u001b[0;32mimport\u001b[0m \u001b[0mvisualization\u001b[0m\u001b[0;34m.\u001b[0m\u001b[0mvisualize\u001b[0m \u001b[0;32mas\u001b[0m \u001b[0mvisualize\u001b[0m\u001b[0;34m\u001b[0m\u001b[0;34m\u001b[0m\u001b[0m\n",
      "\u001b[0;32m~/Pobrane/optic/optics_generator_python/src/twiss/transporter.py\u001b[0m in \u001b[0;36m<module>\u001b[0;34m\u001b[0m\n\u001b[0;32m----> 1\u001b[0;31m \u001b[0;32mimport\u001b[0m \u001b[0mtwiss\u001b[0m\u001b[0;34m.\u001b[0m\u001b[0mrunner\u001b[0m \u001b[0;32mas\u001b[0m \u001b[0mrunner\u001b[0m\u001b[0;34m\u001b[0m\u001b[0;34m\u001b[0m\u001b[0m\n\u001b[0m\u001b[1;32m      2\u001b[0m \u001b[0;32mfrom\u001b[0m \u001b[0mdata\u001b[0m\u001b[0;34m.\u001b[0m\u001b[0mparticles\u001b[0m \u001b[0;32mimport\u001b[0m \u001b[0mParticles\u001b[0m\u001b[0;34m\u001b[0m\u001b[0;34m\u001b[0m\u001b[0m\n\u001b[1;32m      3\u001b[0m \u001b[0;32mfrom\u001b[0m \u001b[0mdata\u001b[0m\u001b[0;34m.\u001b[0m\u001b[0mparameters_names\u001b[0m \u001b[0;32mimport\u001b[0m \u001b[0mParametersNames\u001b[0m \u001b[0;32mas\u001b[0m \u001b[0mParameters\u001b[0m\u001b[0;34m\u001b[0m\u001b[0;34m\u001b[0m\u001b[0m\n\u001b[1;32m      4\u001b[0m \u001b[0;32mimport\u001b[0m \u001b[0mtwiss\u001b[0m\u001b[0;34m.\u001b[0m\u001b[0mmatrix_indexes\u001b[0m\u001b[0;34m\u001b[0m\u001b[0;34m\u001b[0m\u001b[0m\n\u001b[1;32m      5\u001b[0m \u001b[0;34m\u001b[0m\u001b[0m\n",
      "\u001b[0;32m~/Pobrane/optic/optics_generator_python/src/twiss/runner.py\u001b[0m in \u001b[0;36m<module>\u001b[0;34m\u001b[0m\n\u001b[1;32m      2\u001b[0m \u001b[0;32mimport\u001b[0m \u001b[0mnumpy\u001b[0m \u001b[0;32mas\u001b[0m \u001b[0mnp\u001b[0m\u001b[0;34m\u001b[0m\u001b[0;34m\u001b[0m\u001b[0m\n\u001b[1;32m      3\u001b[0m \u001b[0;32mfrom\u001b[0m \u001b[0mconcurrent\u001b[0m\u001b[0;34m.\u001b[0m\u001b[0mfutures\u001b[0m \u001b[0;32mimport\u001b[0m \u001b[0mProcessPoolExecutor\u001b[0m\u001b[0;34m\u001b[0m\u001b[0;34m\u001b[0m\u001b[0m\n\u001b[0;32m----> 4\u001b[0;31m \u001b[0;32mfrom\u001b[0m \u001b[0mtwiss\u001b[0m\u001b[0;34m.\u001b[0m\u001b[0mmadx_script_generator\u001b[0m \u001b[0;32mimport\u001b[0m \u001b[0mgenerate_configuration_file\u001b[0m\u001b[0;34m\u001b[0m\u001b[0;34m\u001b[0m\u001b[0m\n\u001b[0m\u001b[1;32m      5\u001b[0m \u001b[0;32mfrom\u001b[0m \u001b[0mutils\u001b[0m \u001b[0;32mimport\u001b[0m \u001b[0mworking_directory\u001b[0m\u001b[0;34m\u001b[0m\u001b[0;34m\u001b[0m\u001b[0m\n\u001b[1;32m      6\u001b[0m \u001b[0;32mimport\u001b[0m \u001b[0mos\u001b[0m\u001b[0;34m\u001b[0m\u001b[0;34m\u001b[0m\u001b[0m\n",
      "\u001b[0;31mModuleNotFoundError\u001b[0m: No module named 'twiss.madx_script_generator'"
     ]
    }
   ],
   "source": [
    "import data.grid_configuration as grid_configuration_module\n",
    "import matplotlib.pyplot as plt\n",
    "import pandas as pd\n",
    "import seaborn as sns\n",
    "import numpy as np\n",
    "sns.set_style(\"whitegrid\")\n",
    "import twiss.transporter as twiss_transport\n",
    "import twiss.madx_configuration as twiss_conf\n",
    "import visualization.visualize as visualize\n",
    "from data.units import unit_map, multiplier_for_unit\n",
    "import visualization.optics_parameter_visualisation as opv\n",
    "import twiss.optics_parameters as mop\n",
    "import sys\n",
    "import os"
   ]
  },
  {
   "cell_type": "code",
   "execution_count": null,
   "metadata": {},
   "outputs": [],
   "source": [
    "path_to_project = \"/home/rafalmucha/Pobrane/optic\"\n",
    "folder_name = \"2017_nominal\"\n",
    "script_file_name = \"twiss_script.madx\"\n",
    "path_to_script = os.path.join(path_to_project, folder_name, script_file_name)\n",
    "twiss_configuration = twiss_conf.TwissConfiguration(path_to_script)"
   ]
  },
  {
   "cell_type": "code",
   "execution_count": 1,
   "metadata": {},
   "outputs": [
    {
     "ename": "NameError",
     "evalue": "name 'grid_configuration_module' is not defined",
     "output_type": "error",
     "traceback": [
      "\u001b[0;31m---------------------------------------------------------------------------\u001b[0m",
      "\u001b[0;31mNameError\u001b[0m                                 Traceback (most recent call last)",
      "\u001b[0;32m<ipython-input-1-6548eeb4e138>\u001b[0m in \u001b[0;36m<module>\u001b[0;34m\u001b[0m\n\u001b[1;32m     17\u001b[0m \u001b[0mnumber_of_pt_values\u001b[0m \u001b[0;34m=\u001b[0m \u001b[0;36m1\u001b[0m\u001b[0;34m\u001b[0m\u001b[0;34m\u001b[0m\u001b[0m\n\u001b[1;32m     18\u001b[0m \u001b[0;34m\u001b[0m\u001b[0m\n\u001b[0;32m---> 19\u001b[0;31m grid_configuration = grid_configuration_module.GridConfiguration.from_sigma(x_mean, sigma_x, number_of_x_values,\n\u001b[0m\u001b[1;32m     20\u001b[0m                                                         \u001b[0mtheta_x_mean\u001b[0m\u001b[0;34m,\u001b[0m \u001b[0msigma_theta_x\u001b[0m\u001b[0;34m,\u001b[0m \u001b[0mnumber_of_theta_x_values\u001b[0m\u001b[0;34m,\u001b[0m\u001b[0;34m\u001b[0m\u001b[0;34m\u001b[0m\u001b[0m\n\u001b[1;32m     21\u001b[0m                                                         \u001b[0my_mean\u001b[0m\u001b[0;34m,\u001b[0m \u001b[0msigma_y\u001b[0m\u001b[0;34m,\u001b[0m \u001b[0mnumber_of_y_values\u001b[0m\u001b[0;34m,\u001b[0m\u001b[0;34m\u001b[0m\u001b[0;34m\u001b[0m\u001b[0m\n",
      "\u001b[0;31mNameError\u001b[0m: name 'grid_configuration_module' is not defined"
     ]
    }
   ],
   "source": [
    "# Parameters of bunch\n",
    "x_mean = 0\n",
    "sigma_x = 0\n",
    "theta_x_mean = 150e-6\n",
    "sigma_theta_x = 0\n",
    "y_mean = 0\n",
    "sigma_y = 0\n",
    "theta_y_mean = 0.00\n",
    "sigma_theta_y = 0\n",
    "pt_mean = 0\n",
    "sigma_pt = 0\n",
    "\n",
    "number_of_x_values = 1\n",
    "number_of_theta_x_values = 1\n",
    "number_of_y_values = 1\n",
    "number_of_theta_y_values = 1\n",
    "number_of_pt_values = 1\n",
    "\n",
    "grid_configuration = grid_configuration_module.GridConfiguration.from_sigma(x_mean, sigma_x, number_of_x_values,\n",
    "                                                        theta_x_mean, sigma_theta_x, number_of_theta_x_values,\n",
    "                                                        y_mean, sigma_y, number_of_y_values,\n",
    "                                                        theta_y_mean, sigma_theta_y, number_of_theta_y_values,\n",
    "                                                        pt_mean, sigma_pt, number_of_pt_values)\n",
    "particles = grid_configuration.generate_grid()"
   ]
  },
  {
   "cell_type": "code",
   "execution_count": null,
   "metadata": {},
   "outputs": [],
   "source": [
    "matrix = twiss_transport.generate_from_range(twiss_configuration, bunch_configuration)\n",
    "\n",
    "f, axes = plt.subplots(1, 2)\n",
    "\n",
    "pt = 0\n",
    "\n",
    "filtered_matrix = matrix[\"end\"]\n",
    "\n",
    "# filtered_matrix = matrix[np.isclose(matrix.T[matrix_indexes_madx.ptc_twiss[\"pt\"]], pt)]\n",
    "\n",
    "fig = plt.gcf()\n",
    "fig.set_size_inches(10,5)\n",
    "\n",
    "title_sufix = r'ptc_twiss, pt = 0, x = 0[mm]; $\\theta_x$ = 150 [$\\mu$m]; on_x5 = 150; 2017_nominal'\n",
    "\n",
    "column_index_of_x = matrix_indexes_madx.ptc_twiss[\"x\"]\n",
    "column_index_of_theta_x = matrix_indexes_madx.ptc_twiss[\"theta x\"]\n",
    "column_index_of_l_x = matrix_indexes_madx.ptc_twiss[\"L x\"]\n",
    "column_index_of_pt = matrix_indexes_madx.ptc_twiss[\"pt\"]\n",
    "column_index_of_d_x = matrix_indexes_madx.ptc_twiss[\"D x\"]\n",
    "filtered_matrix.T[column_index_of_l_x] = filtered_matrix.T[column_index_of_l_x] * filtered_matrix.T[column_index_of_theta_x][0] * 1e3 + filtered_matrix.T[column_index_of_d_x] * filtered_matrix.T[column_index_of_pt][0] * 1e3\n",
    "\n",
    "\n",
    "visualize.plot_from_two_matrices(\"s\", \"L x\", filtered_matrix, filtered_matrix, matrix_indexes_madx.ptc_twiss, matrix_indexes_madx.ptc_twiss, axes, 0, plot_y_pos = -1, title_sufix=title_sufix, plot_function=sns.scatterplot)\n",
    "visualize.plot_from_two_matrices(\"s\", \"x\", filtered_matrix, filtered_matrix, matrix_indexes_madx.ptc_twiss, matrix_indexes_madx.ptc_twiss, axes, 0, plot_y_pos = -1, title_sufix=title_sufix, plot_function=sns.scatterplot)\n",
    "\n",
    "# visualize.plot_from_two_matrices(\"s\", \"V x\", filtered_matrix, filtered_matrix, matrix_indexes_madx.ptc_twiss, matrix_indexes_madx.ptc_twiss, axes, 0, 1, title_sufix)\n",
    "\n",
    "\n",
    "\n",
    "visualize.plot_from_two_matrices(\"s\", \"D x\", filtered_matrix, filtered_matrix, matrix_indexes_madx.ptc_twiss, matrix_indexes_madx.ptc_twiss, axes, 1, title_sufix=title_sufix)"
   ]
  },
  {
   "cell_type": "code",
   "execution_count": null,
   "metadata": {},
   "outputs": [],
   "source": [
    "filtered_matrix.T[column_index_of_l_x]"
   ]
  },
  {
   "cell_type": "code",
   "execution_count": null,
   "metadata": {},
   "outputs": [],
   "source": [
    "error = (filtered_matrix.T[column_index_of_l_x][1:] - filtered_matrix.T[column_index_of_x][1:]*1e3) / filtered_matrix.T[column_index_of_l_x][1:]"
   ]
  },
  {
   "cell_type": "code",
   "execution_count": null,
   "metadata": {},
   "outputs": [],
   "source": [
    "axes = sns.scatterplot(filtered_matrix.T[0][1:], error)\n",
    "axes.set_title(r\"$f(x) = L_x * \\theta_x + D_x * \\xi$\"+\"\\n\"+r\"$\\frac{f(x) - x}  {f(x)}$\")"
   ]
  },
  {
   "cell_type": "code",
   "execution_count": null,
   "metadata": {},
   "outputs": [],
   "source": [
    "s = 219.55\n",
    "\n",
    "filtered_matrix = matrix[np.isclose(matrix.T[matrix_indexes_madx.ptc_twiss[\"s\"]], s)]\n",
    "\n",
    "f, axes = plt.subplots(2, 2)\n",
    "\n",
    "fig = plt.gcf()\n",
    "fig.set_size_inches(20,20)\n",
    "\n",
    "title_sufix = \"ptc_twiss, s = 219.55, 2017\"\n",
    "\n",
    "visualize.plot_from_two_matrices(\"pt\", \"x\", filtered_matrix, filtered_matrix, matrix_indexes_madx.ptc_twiss, matrix_indexes_madx.ptc_twiss, axes, 0, 0, title_sufix)\n",
    "\n",
    "visualize.plot_from_two_matrices(\"pt\", \"y\", filtered_matrix, filtered_matrix, matrix_indexes_madx.ptc_twiss, matrix_indexes_madx.ptc_twiss, axes, 0, 1, title_sufix)\n",
    "\n",
    "visualize.plot_from_two_matrices(\"pt\", \"D x\", filtered_matrix, filtered_matrix, matrix_indexes_madx.ptc_twiss, matrix_indexes_madx.ptc_twiss, axes, 1, 0, title_sufix)\n",
    "\n",
    "visualize.plot_from_two_matrices(\"pt\", \"D y\", filtered_matrix, filtered_matrix, matrix_indexes_madx.ptc_twiss, matrix_indexes_madx.ptc_twiss, axes, 1, 1, title_sufix)"
   ]
  },
  {
   "cell_type": "markdown",
   "metadata": {},
   "source": [
    "TODO- update below cells"
   ]
  },
  {
   "cell_type": "code",
   "execution_count": null,
   "metadata": {},
   "outputs": [],
   "source": [
    "home = \"/home/rafalmucha/lxplus/vavati_twiss_2017/\"\n",
    "vale_delta_ap_0_pt_0 = mt.read_in_twiss_output_file(home + \"test_nominal_150-test0.txt\")\n",
    "vale_delta_ap_1_pt_0 = mt.read_in_twiss_output_file(home + \"test_nominal_150-test1.txt\")\n",
    "vale_delta_ap_0_pt_1 = mt.read_in_twiss_output_file(home + \"test_nominal_150-test2.txt\")"
   ]
  },
  {
   "cell_type": "code",
   "execution_count": null,
   "metadata": {},
   "outputs": [],
   "source": [
    "datasets = {\n",
    "    \"delta_ap = 0; pt = 0\": (vale_delta_ap_0_pt_0, matrix_indexes_madx.ptc_twiss),\n",
    "    \"delta_ap = -0.01; pt = 0\": (vale_delta_ap_1_pt_0, matrix_indexes_madx.ptc_twiss),\n",
    "    \"delta_ap = 0; pt = -0.01\": (vale_delta_ap_0_pt_1, matrix_indexes_madx.ptc_twiss)\n",
    "}"
   ]
  },
  {
   "cell_type": "code",
   "execution_count": null,
   "metadata": {},
   "outputs": [],
   "source": [
    "fig = plt.gcf()\n",
    "fig.set_size_inches(5,5)\n",
    "\n",
    "visualize.plot_with_turn(\"s\", \"x\", \"Energy loss parameters\", datasets, \"Used ptc_twiss; Valentina's results\")"
   ]
  },
  {
   "cell_type": "code",
   "execution_count": null,
   "metadata": {},
   "outputs": [],
   "source": [
    "fig = plt.gcf()\n",
    "fig.set_size_inches(5,5)\n",
    "\n",
    "visualize.plot_with_turn(\"s\", \"y\", \"Energy loss parameters\", datasets, \"Used ptc_twiss; Valentina's results\")"
   ]
  },
  {
   "cell_type": "code",
   "execution_count": null,
   "metadata": {},
   "outputs": [],
   "source": [
    "fig = plt.gcf()\n",
    "fig.set_size_inches(5,5)\n",
    "\n",
    "visualize.plot_with_turn(\"s\", \"D x\", \"Energy loss parameters\", datasets, \"Used ptc_twiss; Valentina's results\")"
   ]
  },
  {
   "cell_type": "code",
   "execution_count": null,
   "metadata": {},
   "outputs": [],
   "source": [
    "fig = plt.gcf()\n",
    "fig.set_size_inches(5,5)\n",
    "\n",
    "visualize.plot_with_turn(\"s\", \"D y\", \"Energy loss parameters\", datasets, \"Used ptc_twiss; Valentina's results\")"
   ]
  },
  {
   "cell_type": "code",
   "execution_count": null,
   "metadata": {},
   "outputs": [],
   "source": [
    "sys.path.append(\"/home/rafalmucha/Pobrane/optic/optics_generator_python/src\")\n",
    "path_to_configuration = \"/home/rafalmucha/Pobrane/optic/2017/\"\n",
    "path_to_xml_file = \"/home/rafalmucha/Pobrane/optic/2017/configuration_reco_beam1.xml\"\n",
    "item_number = 2\n",
    "madx1_configuration = mc.MadxConfiguration(path_to_xml_file, item_number, path_to_configuration)"
   ]
  },
  {
   "cell_type": "code",
   "execution_count": null,
   "metadata": {},
   "outputs": [],
   "source": [
    "f, axes = plt.subplots()\n",
    "\n",
    "fig = plt.gcf()\n",
    "fig.set_size_inches(5,5)\n",
    "\n",
    "visualize.plot_from_two_matrices(\"pt\", \"D y\", filtered_matrix, filtered_matrix, matrix_indexes_madx.ptc_twiss, matrix_indexes_madx.ptc_twiss, axes, plot_function=sns.scatterplot, color=\"r\")\n",
    "\n",
    "opv.plot_optical_function_of_madx(bunch_configuration, madx1_configuration, mop.compute_d_y, \"pt\", \"D y\", \"ptc_track vs ptc_twiss\", y_unit = \" [cm]\", y_unit_multiplier=100, plot_size=5)\n",
    "\n",
    "axes.legend(labels = [\"ptc_track\", \"ptc_twiss\"])"
   ]
  },
  {
   "cell_type": "code",
   "execution_count": null,
   "metadata": {},
   "outputs": [],
   "source": [
    "f, axes = plt.subplots()\n",
    "\n",
    "fig = plt.gcf()\n",
    "fig.set_size_inches(5,5)\n",
    "\n",
    "visualize.plot_from_two_matrices(\"pt\", \"D x\", filtered_matrix, filtered_matrix, matrix_indexes_madx.ptc_twiss, matrix_indexes_madx.ptc_twiss, axes, plot_function=sns.scatterplot, color=\"r\")\n",
    "\n",
    "opv.plot_optical_function_of_madx(bunch_configuration, madx1_configuration, mop.compute_d_x, \"pt\", \"D x\", \"ptc_track vs ptc_twiss\", y_unit = \" [cm]\", y_unit_multiplier=100, plot_size=5)\n",
    "\n",
    "axes.legend(labels = [\"ptc_track\", \"ptc_twiss\"])"
   ]
  },
  {
   "cell_type": "code",
   "execution_count": null,
   "metadata": {},
   "outputs": [],
   "source": []
  }
 ],
 "metadata": {
  "kernelspec": {
   "display_name": "Python 3",
   "language": "python",
   "name": "python3"
  },
  "language_info": {
   "codemirror_mode": {
    "name": "ipython",
    "version": 3
   },
   "file_extension": ".py",
   "mimetype": "text/x-python",
   "name": "python",
   "nbconvert_exporter": "python",
   "pygments_lexer": "ipython3",
   "version": "3.7.4"
  }
 },
 "nbformat": 4,
 "nbformat_minor": 2
}
