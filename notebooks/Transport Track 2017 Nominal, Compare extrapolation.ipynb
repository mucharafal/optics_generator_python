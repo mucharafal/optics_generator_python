{
 "cells": [
  {
   "cell_type": "markdown",
   "metadata": {},
   "source": [
    "Outdated, optics are not ready"
   ]
  },
  {
   "cell_type": "code",
   "execution_count": 1,
   "metadata": {},
   "outputs": [
    {
     "ename": "ModuleNotFoundError",
     "evalue": "No module named 'ptc_track'",
     "output_type": "error",
     "traceback": [
      "\u001b[0;31m---------------------------------------------------------------------------\u001b[0m",
      "\u001b[0;31mModuleNotFoundError\u001b[0m                       Traceback (most recent call last)",
      "\u001b[0;32m<ipython-input-1-60a2432f3aec>\u001b[0m in \u001b[0;36m<module>\u001b[0;34m\u001b[0m\n\u001b[0;32m----> 1\u001b[0;31m \u001b[0;32mimport\u001b[0m \u001b[0mptc_track\u001b[0m\u001b[0;34m.\u001b[0m\u001b[0mmadx_configuration\u001b[0m \u001b[0;32mas\u001b[0m \u001b[0mconfiguration\u001b[0m\u001b[0;34m\u001b[0m\u001b[0;34m\u001b[0m\u001b[0m\n\u001b[0m\u001b[1;32m      2\u001b[0m \u001b[0;32mimport\u001b[0m \u001b[0mptc_track\u001b[0m\u001b[0;34m.\u001b[0m\u001b[0mtransporter\u001b[0m \u001b[0;32mas\u001b[0m \u001b[0mtransporter_builder\u001b[0m\u001b[0;34m\u001b[0m\u001b[0;34m\u001b[0m\u001b[0m\n\u001b[1;32m      3\u001b[0m \u001b[0;32mimport\u001b[0m \u001b[0mextrapolated_crossing_angle\u001b[0m\u001b[0;34m.\u001b[0m\u001b[0mtransporter\u001b[0m \u001b[0;32mas\u001b[0m \u001b[0mextrapolated_transport\u001b[0m\u001b[0;34m\u001b[0m\u001b[0;34m\u001b[0m\u001b[0m\n\u001b[1;32m      4\u001b[0m \u001b[0;32mimport\u001b[0m \u001b[0mvisualization\u001b[0m\u001b[0;34m.\u001b[0m\u001b[0mvisualize\u001b[0m \u001b[0;32mas\u001b[0m \u001b[0mplotter\u001b[0m\u001b[0;34m\u001b[0m\u001b[0;34m\u001b[0m\u001b[0m\n\u001b[1;32m      5\u001b[0m \u001b[0;32mimport\u001b[0m \u001b[0mdata\u001b[0m\u001b[0;34m.\u001b[0m\u001b[0mgrid_configuration\u001b[0m \u001b[0;32mas\u001b[0m \u001b[0mgrid_configuration_module\u001b[0m\u001b[0;34m\u001b[0m\u001b[0;34m\u001b[0m\u001b[0m\n",
      "\u001b[0;31mModuleNotFoundError\u001b[0m: No module named 'ptc_track'"
     ]
    }
   ],
   "source": [
    "import ptc_track.madx_configuration as configuration\n",
    "import ptc_track.transporter as transporter_builder\n",
    "import extrapolated_crossing_angle.transporter as extrapolated_transport\n",
    "import visualization.visualize as plotter\n",
    "import data.grid_configuration as grid_configuration_module\n",
    "import os\n",
    "import matplotlib.pyplot as plt\n",
    "import seaborn as sns\n",
    "import sys\n",
    "from data.parameters_names import ParametersNames as Parameters"
   ]
  },
  {
   "cell_type": "code",
   "execution_count": null,
   "metadata": {},
   "outputs": [],
   "source": [
    "sns.set_style(\"whitegrid\")"
   ]
  },
  {
   "cell_type": "markdown",
   "metadata": {},
   "source": [
    "Change below path for path to unziped folder"
   ]
  },
  {
   "cell_type": "code",
   "execution_count": null,
   "metadata": {},
   "outputs": [],
   "source": [
    "%cd ..\n",
    "%cd .."
   ]
  },
  {
   "cell_type": "code",
   "execution_count": null,
   "metadata": {},
   "outputs": [],
   "source": [
    "#path_to_project = \"/home/jakub/Desktop/optic_files\"\n",
    "path_to_project = %pwd"
   ]
  },
  {
   "cell_type": "code",
   "execution_count": null,
   "metadata": {},
   "outputs": [],
   "source": [
    "folder_name = \"2017_matched1\"\n",
    "xml_file_name = \"configuration_reco_beam1.xml\"\n",
    "path_to_configuration = os.path.join(path_to_project, folder_name)\n",
    "path_to_xml_file = os.path.join(path_to_project, folder_name, xml_file_name)\n",
    "item_number = 2\n",
    "track_configuration_xa1 = configuration.TrackConfiguration(path_to_xml_file, item_number, path_to_configuration)"
   ]
  },
  {
   "cell_type": "code",
   "execution_count": null,
   "metadata": {},
   "outputs": [],
   "source": [
    "folder_name = \"2017_matched2\"\n",
    "xml_file_name = \"configuration_reco_beam1.xml\"\n",
    "path_to_configuration = os.path.join(path_to_project, folder_name)\n",
    "path_to_xml_file = os.path.join(path_to_project, folder_name, xml_file_name)\n",
    "item_number = 2\n",
    "track_configuration_xa2 = configuration.TrackConfiguration(path_to_xml_file, item_number, path_to_configuration)"
   ]
  },
  {
   "cell_type": "code",
   "execution_count": null,
   "metadata": {},
   "outputs": [],
   "source": [
    "folder_name = \"2017_matched\"\n",
    "xml_file_name = \"configuration_reco_beam1.xml\"\n",
    "path_to_configuration = os.path.join(path_to_project, folder_name)\n",
    "path_to_xml_file = os.path.join(path_to_project, folder_name, xml_file_name)\n",
    "item_number = 2\n",
    "track_configuration = configuration.TrackConfiguration(path_to_xml_file, item_number, path_to_configuration)"
   ]
  },
  {
   "cell_type": "code",
   "execution_count": null,
   "metadata": {},
   "outputs": [],
   "source": [
    "x_mean = 0\n",
    "sigma_x = 0\n",
    "theta_x_mean = 0\n",
    "sigma_theta_x = 0\n",
    "y_mean = 0\n",
    "sigma_y = 0\n",
    "theta_y_mean = 0\n",
    "sigma_theta_y = 0\n",
    "pt_mean = -0.15\n",
    "sigma_pt = 0.15\n",
    "\n",
    "x_resolution = 1\n",
    "theta_x_resolution = 1\n",
    "y_resolution = 1\n",
    "theta_y_resolution = 1\n",
    "pt_resolution = 131\n",
    "\n",
    "grid_configuration = grid_configuration_module.GridConfiguration.from_sigma(x_mean, sigma_x, x_resolution,\n",
    "                                                       theta_x_mean, sigma_theta_x, theta_x_resolution,\n",
    "                                                       y_mean, sigma_y, y_resolution,\n",
    "                                                       theta_y_mean, sigma_theta_y, theta_y_resolution,\n",
    "                                                        pt_mean, sigma_pt, pt_resolution)\n",
    "particles = grid_configuration.generate_grid()"
   ]
  },
  {
   "cell_type": "code",
   "execution_count": null,
   "metadata": {},
   "outputs": [],
   "source": [
    "title_sufix = \"2017 nominal, track\""
   ]
  },
  {
   "cell_type": "code",
   "execution_count": null,
   "metadata": {},
   "outputs": [],
   "source": [
    "segments = transporter_builder.get_transporter(track_configuration)(particles)"
   ]
  },
  {
   "cell_type": "code",
   "execution_count": null,
   "metadata": {},
   "outputs": [],
   "source": [
    "import data.particles_generator as pg\n",
    "particles = pg.generate_from_range(bunch_configuration)"
   ]
  },
  {
   "cell_type": "code",
   "execution_count": null,
   "metadata": {},
   "outputs": [],
   "source": [
    "segments_extrapolated = extrapolated_transport.transport(particles, 190, track_configuration_xa1, 120, track_configuration_xa2, 140)"
   ]
  },
  {
   "cell_type": "code",
   "execution_count": null,
   "metadata": {},
   "outputs": [],
   "source": [
    "matrix = segments[\"end\"]"
   ]
  },
  {
   "cell_type": "code",
   "execution_count": null,
   "metadata": {},
   "outputs": [],
   "source": [
    "alt_matrix = segments_extrapolated[\"end\"]"
   ]
  },
  {
   "cell_type": "code",
   "execution_count": null,
   "metadata": {},
   "outputs": [],
   "source": [
    "f, axes = plt.subplots(2, 2)\n",
    "\n",
    "fig = plt.gcf()\n",
    "fig.set_size_inches(20,20)\n",
    "\n",
    "plotter.plot_from_one_matrix(Parameters.PT, Parameters.X, matrix, title_sufix, ax=axes[0][0])\n",
    "plotter.plot_from_one_matrix(Parameters.PT, Parameters.X, alt_matrix, title_sufix, ax=axes[0][0])\n",
    "plotter.plot_from_one_matrix(Parameters.PT, Parameters.THETA_X, matrix, title_sufix, ax=axes[0][1])\n",
    "plotter.plot_from_one_matrix(Parameters.PT, Parameters.THETA_X, alt_matrix, title_sufix, ax=axes[0][1])\n",
    "plotter.plot_from_one_matrix(Parameters.PT, Parameters.Y, matrix, title_sufix, ax=axes[1][0])\n",
    "plotter.plot_from_one_matrix(Parameters.PT, Parameters.Y, alt_matrix, title_sufix, ax=axes[1][0])\n",
    "plotter.plot_from_one_matrix(Parameters.PT, Parameters.THETA_Y, matrix, title_sufix, ax=axes[1][1])\n",
    "plotter.plot_from_one_matrix(Parameters.PT, Parameters.THETA_Y, alt_matrix, title_sufix, ax=axes[1][1])"
   ]
  },
  {
   "cell_type": "code",
   "execution_count": null,
   "metadata": {},
   "outputs": [],
   "source": [
    "matrix"
   ]
  },
  {
   "cell_type": "code",
   "execution_count": null,
   "metadata": {},
   "outputs": [],
   "source": [
    "def transporter_extrapolation(particles):\n",
    "    segments_extrapolated = extrapolated_transport.transport(particles, 190, track_configuration_xa1, 120, track_configuration_xa2, 140)\n",
    "    return segments_extrapolated"
   ]
  },
  {
   "cell_type": "code",
   "execution_count": null,
   "metadata": {},
   "outputs": [],
   "source": [
    "import comparators.transport as transport_compare\n",
    "import ptc_track.transporter as ptg\n",
    "ptc_track_transporter = ptg.get_transporter(track_configuration)"
   ]
  },
  {
   "cell_type": "code",
   "execution_count": null,
   "metadata": {},
   "outputs": [],
   "source": [
    "transporters = {\n",
    "    \"extrapolation\": transporter_extrapolation,\n",
    "    \"normal_transport\": ptc_track_transporter\n",
    "}"
   ]
  },
  {
   "cell_type": "code",
   "execution_count": null,
   "metadata": {},
   "outputs": [],
   "source": [
    "title_sufix = \"Optics: 2017_nominal, reference XA for extrapolation are 120 and 140, \\nnormal_transport is 190\"\n",
    "transport_compare.compare(particles, transporters, Parameters.X, Parameters.PT, title_sufix=title_sufix)"
   ]
  },
  {
   "cell_type": "code",
   "execution_count": null,
   "metadata": {},
   "outputs": [],
   "source": [
    "|"
   ]
  }
 ],
 "metadata": {
  "kernelspec": {
   "display_name": "Python 3",
   "language": "python",
   "name": "python3"
  },
  "language_info": {
   "codemirror_mode": {
    "name": "ipython",
    "version": 3
   },
   "file_extension": ".py",
   "mimetype": "text/x-python",
   "name": "python",
   "nbconvert_exporter": "python",
   "pygments_lexer": "ipython3",
   "version": "3.7.4"
  }
 },
 "nbformat": 4,
 "nbformat_minor": 2
}
