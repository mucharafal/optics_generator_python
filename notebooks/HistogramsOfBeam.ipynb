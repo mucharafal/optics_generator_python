{
 "cells": [
  {
   "cell_type": "code",
   "execution_count": null,
   "metadata": {},
   "outputs": [],
   "source": [
    "import numpy as np\n",
    "from matplotlib.image import NonUniformImage\n",
    "import matplotlib.pyplot as plt\n",
    "import pandas as pd\n",
    "import seaborn as sns\n",
    "import sys\n",
    "import data.madx_runner as mr\n",
    "import os\n",
    "import data.madxconfigurationgenerator as mc\n",
    "import approximator.model as am\n",
    "import data.particles_trajectory_generator as ptg\n",
    "import importlib as il\n",
    "il.reload(ptg)\n",
    "sns.set(style=\"dark\")\n",
    "sys.path.append(\"/home/rafalmucha/Pobrane/optic/optics_generator_python/src\")\n",
    "path_to_configuration = \"/home/rafalmucha/Pobrane/optic/s/\""
   ]
  },
  {
   "cell_type": "code",
   "execution_count": 2,
   "metadata": {},
   "outputs": [],
   "source": [
    "index_map = {\n",
    "    \"x\": 2,\n",
    "    \"theta x\": 3,\n",
    "    \"y\": 4,\n",
    "    \"theta y\": 5,\n",
    "    \"t\": 6,\n",
    "    \"pt\": 7,\n",
    "    \"s\": 8,\n",
    "    \"e\": 9,\n",
    "    \"alfa x\": 10,\n",
    "    \"alfa y\": 11\n",
    "}\n",
    "meters = \" [m]\"\n",
    "radians = \" [rad]\"\n",
    "seconds = \" [s]\"\n",
    "energy = \" [TeV]\"\n",
    "no_unit = \" \"\n",
    "unit_map = {\n",
    "    \"x\": meters,\n",
    "    \"theta x\": radians,\n",
    "    \"y\": meters,\n",
    "    \"theta y\": radians,\n",
    "    \"t\": seconds,\n",
    "    \"pt\": no_unit,\n",
    "    \"s\": meters,\n",
    "    \"e\": energy,\n",
    "    \"alfa x\": radians,\n",
    "    \"alfa y\": radians\n",
    "}"
   ]
  },
  {
   "cell_type": "code",
   "execution_count": 5,
   "metadata": {},
   "outputs": [
    {
     "name": "stdout",
     "output_type": "stream",
     "text": [
      "(117, 12)\n"
     ]
    }
   ],
   "source": [
    "print(output[\"end\"].shape)"
   ]
  },
  {
   "cell_type": "code",
   "execution_count": null,
   "metadata": {},
   "outputs": [],
   "source": []
  }
 ],
 "metadata": {
  "kernelspec": {
   "display_name": "Python 3",
   "language": "python",
   "name": "python3"
  },
  "language_info": {
   "codemirror_mode": {
    "name": "ipython",
    "version": 3
   },
   "file_extension": ".py",
   "mimetype": "text/x-python",
   "name": "python",
   "nbconvert_exporter": "python",
   "pygments_lexer": "ipython3",
   "version": "3.7.3"
  }
 },
 "nbformat": 4,
 "nbformat_minor": 2
}
