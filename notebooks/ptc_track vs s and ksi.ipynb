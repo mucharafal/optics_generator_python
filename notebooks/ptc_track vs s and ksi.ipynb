{
 "cells": [
  {
   "cell_type": "code",
   "execution_count": 1,
   "metadata": {},
   "outputs": [
    {
     "name": "stdout",
     "output_type": "stream",
     "text": [
      "Welcome to JupyROOT 6.16/00\n"
     ]
    }
   ],
   "source": [
    "import madx.optics_parameters as mop\n",
    "import seaborn as sns\n",
    "import pandas as pd\n",
    "import matplotlib.pyplot as plt\n",
    "import time\n",
    "import importlib\n",
    "import data.bunch_configuration as buc\n",
    "import visualization.optics_parameter_visualisation as opv\n",
    "sns.set_style(\"whitegrid\")\n",
    "import numpy as np\n",
    "from matplotlib.image import NonUniformImage\n",
    "import matplotlib.pyplot as plt\n",
    "import pandas as pd\n",
    "import seaborn as sns\n",
    "import sys\n",
    "import os\n",
    "import madx.particles_trajectory_generator as ptg\n",
    "import importlib as il\n",
    "import data.bunch_configuration as buc\n",
    "import madx.madx_configuration as mc\n",
    "import visualization.visualize as visualize\n",
    "import madx.matrix_indexes as matrix_indexes_madx\n",
    "sys.path.append(\"/home/rafalmucha/Pobrane/optic/optics_generator_python/src\")\n",
    "path_to_configuration = \"/home/rafalmucha/Pobrane/optic/2017/\"\n",
    "path_to_xml_file = \"/home/rafalmucha/Pobrane/optic/2017/configuration_reco_beam1.xml\"\n",
    "item_number = 0\n",
    "madx_configuration = mc.MadxConfiguration(path_to_xml_file, item_number, path_to_configuration)"
   ]
  },
  {
   "cell_type": "code",
   "execution_count": 2,
   "metadata": {},
   "outputs": [],
   "source": [
    "# Parameters of bunch\n",
    "x_mean = 0.0\n",
    "sigma_x = 0\n",
    "theta_x_mean = 1.5e-4\n",
    "sigma_theta_x = 0\n",
    "y_mean = -1.5e-3\n",
    "sigma_y = 0\n",
    "theta_y_mean = 0.00\n",
    "sigma_theta_y = 0\n",
    "pt_mean = 0\n",
    "sigma_pt = 0.2\n",
    "\n",
    "number_of_x_values = 1\n",
    "number_of_theta_x_values = 1\n",
    "number_of_y_values = 1\n",
    "number_of_theta_y_values = 1\n",
    "number_of_pt_values = 1001"
   ]
  },
  {
   "cell_type": "code",
   "execution_count": 3,
   "metadata": {},
   "outputs": [],
   "source": [
    "bunch_configuration = buc.BunchConfiguration.from_sigma(x_mean, sigma_x, number_of_x_values,\n",
    "                                                        theta_x_mean, sigma_theta_x, number_of_theta_x_values,\n",
    "                                                        y_mean, sigma_y, number_of_y_values,\n",
    "                                                        theta_y_mean, sigma_theta_y, number_of_theta_y_values,\n",
    "                                                        pt_mean, sigma_pt, number_of_pt_values)"
   ]
  },
  {
   "cell_type": "code",
   "execution_count": 4,
   "metadata": {},
   "outputs": [],
   "source": [
    "output = ptg.generate_from_range(madx_configuration, bunch_configuration)"
   ]
  },
  {
   "cell_type": "code",
   "execution_count": 5,
   "metadata": {},
   "outputs": [
    {
     "data": {
      "text/plain": [
       "array([[ 1.00000000e+00,  1.00000000e+00,  1.67246712e-02, ...,\n",
       "        -2.00000000e-01,  1.67480500e+02,  6.50000000e+03],\n",
       "       [ 2.00000000e+00,  1.00000000e+00,  1.66870155e-02, ...,\n",
       "        -1.99600000e-01,  1.67480500e+02,  6.50000000e+03],\n",
       "       [ 3.00000000e+00,  1.00000000e+00,  1.66493884e-02, ...,\n",
       "        -1.99200000e-01,  1.67480500e+02,  6.50000000e+03],\n",
       "       ...,\n",
       "       [ 9.99000000e+02,  1.00000000e+00, -8.50936743e-03, ...,\n",
       "         1.99200000e-01,  1.42750000e+02,  6.50000000e+03],\n",
       "       [ 1.00000000e+03,  1.00000000e+00, -8.52789124e-03, ...,\n",
       "         1.99600000e-01,  1.42750000e+02,  6.50000000e+03],\n",
       "       [ 1.00100000e+03,  1.00000000e+00, -8.54640631e-03, ...,\n",
       "         2.00000000e-01,  1.42750000e+02,  6.50000000e+03]])"
      ]
     },
     "execution_count": 5,
     "metadata": {},
     "output_type": "execute_result"
    }
   ],
   "source": [
    "merged_matrix = np.empty((0, output[\"start\"].shape[1]))\n",
    "for key in output:\n",
    "    merged_matrix = np.append(merged_matrix, output[key], axis=0)\n",
    "merged_matrix"
   ]
  },
  {
   "cell_type": "code",
   "execution_count": 7,
   "metadata": {},
   "outputs": [
    {
     "data": {
      "text/plain": [
       "(11, 10)"
      ]
     },
     "execution_count": 7,
     "metadata": {},
     "output_type": "execute_result"
    }
   ],
   "source": [
    "pt = 0\n",
    "\n",
    "filtered_matrix = merged_matrix[np.isclose(merged_matrix.T[matrix_indexes_madx.ptc_track[\"pt\"]], pt)] \n",
    "filtered_matrix.shape"
   ]
  },
  {
   "cell_type": "code",
   "execution_count": 8,
   "metadata": {},
   "outputs": [
    {
     "data": {
      "image/png": "[encoded data removed]",
      "text/plain": [
       "<Figure size 720x360 with 2 Axes>"
      ]
     },
     "metadata": {
      "needs_background": "light"
     },
     "output_type": "display_data"
    }
   ],
   "source": [
    "f, axes = plt.subplots(1, 2)\n",
    "\n",
    "fig = plt.gcf()\n",
    "fig.set_size_inches(10,5)\n",
    "\n",
    "visualize.plot_from_two_matrices(\"s\", \"x\", filtered_matrix, filtered_matrix, matrix_indexes_madx.ptc_track, matrix_indexes_madx.ptc_track, axes, 0)\n",
    "\n",
    "visualize.plot_from_two_matrices(\"s\", \"y\", filtered_matrix, filtered_matrix, matrix_indexes_madx.ptc_track, matrix_indexes_madx.ptc_track, axes, 1)"
   ]
  },
  {
   "cell_type": "code",
   "execution_count": null,
   "metadata": {},
   "outputs": [],
   "source": []
  }
 ],
 "metadata": {
  "kernelspec": {
   "display_name": "Python 3",
   "language": "python",
   "name": "python3"
  },
  "language_info": {
   "codemirror_mode": {
    "name": "ipython",
    "version": 3
   },
   "file_extension": ".py",
   "mimetype": "text/x-python",
   "name": "python",
   "nbconvert_exporter": "python",
   "pygments_lexer": "ipython3",
   "version": "3.7.3"
  }
 },
 "nbformat": 4,
 "nbformat_minor": 2
}
