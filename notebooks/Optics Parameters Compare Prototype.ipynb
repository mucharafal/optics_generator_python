{
 "cells": [
  {
   "cell_type": "code",
   "execution_count": 1,
   "metadata": {},
   "outputs": [
    {
     "name": "stdout",
     "output_type": "stream",
     "text": [
      "Welcome to JupyROOT 6.18/00\n"
     ]
    }
   ],
   "source": [
    "import ptc_track.optics_parameters as mop\n",
    "import ptc_track.madx_configuration as mc\n",
    "import approximator.optics_parameters as aop\n",
    "import approximator.runner as ap_runner\n",
    "import data.bunch_configuration as buc\n",
    "import visualization.optics_parameter_visualisation as opv\n",
    "import numpy as np\n",
    "import matplotlib.pyplot as plt\n",
    "import sys\n",
    "import seaborn as sns\n",
    "import ROOT\n",
    "import os\n",
    "from ROOT import gSystem, gInterpreter\n",
    "import data.bunch_configuration as buc\n",
    "import models.train_model as tram\n",
    "import models.approximator as stub_app\n",
    "import twiss.madx_configuration as twiss_conf\n",
    "import twiss.optics_parameters as twiss_op_fun\n",
    "\n",
    "sns.set_style(\"whitegrid\")"
   ]
  },
  {
   "cell_type": "code",
   "execution_count": 2,
   "metadata": {},
   "outputs": [],
   "source": [
    "path_to_project = \"/home/rafalmucha/Pobrane/optic\"\n",
    "folder_name = \"2017_matched\"\n",
    "ptc_twiss_script_file_name = \"ptc_twiss_script.madx\"\n",
    "twiss_script_file_name = \"script_twiss.madx\"\n",
    "xml_file_name = \"configuration_reco_beam1.xml\"\n",
    "path_to_configuration = os.path.join(path_to_project, folder_name)\n",
    "path_to_xml_file = os.path.join(path_to_project, folder_name, xml_file_name)\n",
    "item_number = 3\n",
    "track_configuration = mc.TrackConfiguration(path_to_xml_file, item_number, path_to_configuration)\n",
    "twiss_conf_obj = twiss_conf.TwissConfiguration(os.path.join(path_to_project, folder_name, twiss_script_file_name), 219.551)"
   ]
  },
  {
   "cell_type": "code",
   "execution_count": 3,
   "metadata": {},
   "outputs": [],
   "source": [
    "# Parameters of bunch\n",
    "x_mean = 0\n",
    "sigma_x = 0\n",
    "theta_x_mean = 1.5e-4\n",
    "sigma_theta_x = 0\n",
    "y_mean = -1.5e-3\n",
    "sigma_y = 0\n",
    "theta_y_mean = 0\n",
    "sigma_theta_y = 0\n",
    "pt_mean = -0.1\n",
    "sigma_pt = 0.1\n",
    "\n",
    "number_of_x_values = 1\n",
    "number_of_theta_x_values = 1\n",
    "number_of_y_values = 1\n",
    "number_of_theta_y_values = 1\n",
    "number_of_pt_values = 11"
   ]
  },
  {
   "cell_type": "code",
   "execution_count": 4,
   "metadata": {},
   "outputs": [],
   "source": [
    "subtitle = \"\"\n",
    "plot_size = 5\n",
    "grid_x_resolution = 5\n",
    "grid_y_resolution = 7"
   ]
  },
  {
   "cell_type": "code",
   "execution_count": 5,
   "metadata": {},
   "outputs": [],
   "source": [
    "bunch_configuration = buc.BunchConfiguration.from_sigma(x_mean, sigma_x, number_of_x_values,\n",
    "                                                        theta_x_mean, sigma_theta_x, number_of_theta_x_values,\n",
    "                                                        y_mean, sigma_y, number_of_y_values,\n",
    "                                                        theta_y_mean, sigma_theta_y, number_of_theta_y_values,\n",
    "                                                        pt_mean, sigma_pt, number_of_pt_values)"
   ]
  },
  {
   "cell_type": "code",
   "execution_count": 6,
   "metadata": {},
   "outputs": [],
   "source": [
    "parameter_from_name = \"pt\""
   ]
  },
  {
   "cell_type": "code",
   "execution_count": 7,
   "metadata": {},
   "outputs": [],
   "source": [
    "transporter1_name = \"220 h 2 ptc_track\"\n",
    "transporter2_name = \"220 h 2 approximator\"\n",
    "transporter3_name = \"twiss\""
   ]
  },
  {
   "cell_type": "code",
   "execution_count": 11,
   "metadata": {},
   "outputs": [],
   "source": [
    "def wrap_and_print(*a):\n",
    "    res = twiss_op_fun.compute_d_x(*a)\n",
    "    print(res)\n",
    "    return res"
   ]
  },
  {
   "cell_type": "code",
   "execution_count": 12,
   "metadata": {},
   "outputs": [
    {
     "name": "stdout",
     "output_type": "stream",
     "text": [
      "/home/rafalmucha/Pobrane/optic/optics_generator_python/notebooks/twiss2\n",
      "/home/rafalmucha/Pobrane/optic/optics_generator_python/notebooks/twiss3\n",
      "/home/rafalmucha/Pobrane/optic/optics_generator_python/notebooks/twiss0\n",
      "/home/rafalmucha/Pobrane/optic/optics_generator_python/notebooks/twiss1\n",
      "twiss_madx_script\n",
      "twiss_madx_script\n",
      "twiss_madx_script\n",
      "twiss_madx_script\n",
      "Dupa\n",
      "/home/rafalmucha/Pobrane/optic/optics_generator_python/notebooks/twiss4\n",
      "twiss_madx_script\n",
      "/home/rafalmucha/Pobrane/optic/optics_generator_python/notebooks/twiss5\n",
      "twiss_madx_script\n",
      "/home/rafalmucha/Pobrane/optic/optics_generator_python/notebooks/twiss6\n",
      "twiss_madx_script\n",
      "/home/rafalmucha/Pobrane/optic/optics_generator_python/notebooks/twiss7\n",
      "twiss_madx_script\n",
      "Dupa\n",
      "Dupa\n",
      "Dupa\n",
      "Dupa\n",
      "/home/rafalmucha/Pobrane/optic/optics_generator_python/notebooks/twiss8\n",
      "twiss_madx_script\n",
      "/home/rafalmucha/Pobrane/optic/optics_generator_python/notebooks/twiss9\n",
      "twiss_madx_script\n",
      "/home/rafalmucha/Pobrane/optic/optics_generator_python/notebooks/twiss10\n",
      "twiss_madx_script\n",
      "Dupa\n",
      "Dupa\n",
      "Dupa\n",
      "Dupa\n",
      "Dupa\n",
      "Dupa\n",
      "[[ 0.00000000e+00  1.50000000e-04 -1.50000000e-03  0.00000000e+00\n",
      "  -2.00000000e-01 -1.81813641e-01]\n",
      " [ 0.00000000e+00  1.50000000e-04 -1.50000000e-03  0.00000000e+00\n",
      "  -1.80000000e-01 -1.75832686e-01]\n",
      " [ 0.00000000e+00  1.50000000e-04 -1.50000000e-03  0.00000000e+00\n",
      "  -1.60000000e-01 -1.69889634e-01]\n",
      " [ 0.00000000e+00  1.50000000e-04 -1.50000000e-03  0.00000000e+00\n",
      "  -1.40000000e-01 -1.63985013e-01]\n",
      " [ 0.00000000e+00  1.50000000e-04 -1.50000000e-03  0.00000000e+00\n",
      "  -1.20000000e-01 -1.58119347e-01]\n",
      " [ 0.00000000e+00  1.50000000e-04 -1.50000000e-03  0.00000000e+00\n",
      "  -1.00000000e-01 -1.52293161e-01]\n",
      " [ 0.00000000e+00  1.50000000e-04 -1.50000000e-03  0.00000000e+00\n",
      "  -8.00000000e-02 -1.46506983e-01]\n",
      " [ 0.00000000e+00  1.50000000e-04 -1.50000000e-03  0.00000000e+00\n",
      "  -6.00000000e-02 -1.40761338e-01]\n",
      " [ 0.00000000e+00  1.50000000e-04 -1.50000000e-03  0.00000000e+00\n",
      "  -4.00000000e-02 -1.35056752e-01]\n",
      " [ 0.00000000e+00  1.50000000e-04 -1.50000000e-03  0.00000000e+00\n",
      "  -2.00000000e-02 -1.29393752e-01]\n",
      " [ 0.00000000e+00  1.50000000e-04 -1.50000000e-03  0.00000000e+00\n",
      "   0.00000000e+00 -1.23772864e-01]]\n"
     ]
    },
    {
     "data": {
      "text/plain": [
       "<matplotlib.axes._subplots.AxesSubplot at 0x7fb9459a1ad0>"
      ]
     },
     "execution_count": 12,
     "metadata": {},
     "output_type": "execute_result"
    },
    {
     "data": {
      "image/png": "[encoded data removed]",
      "text/plain": [
       "<Figure size 360x360 with 1 Axes>"
      ]
     },
     "metadata": {
      "needs_background": "light"
     },
     "output_type": "display_data"
    }
   ],
   "source": [
    "transporters = {\n",
    "    transporter1_name: (mop.compute_d_x, track_configuration),\n",
    "    transporter3_name: (wrap_and_print, twiss_conf_obj)\n",
    "}\n",
    "opv.plot_optical_functions(bunch_configuration, transporters, parameter_from_name, \"D x\", subtitle)"
   ]
  },
  {
   "cell_type": "code",
   "execution_count": 9,
   "metadata": {},
   "outputs": [
    {
     "ename": "NameError",
     "evalue": "name 'approximator' is not defined",
     "output_type": "error",
     "traceback": [
      "\u001b[0;31m---------------------------------------------------------------------------\u001b[0m",
      "\u001b[0;31mNameError\u001b[0m                                 Traceback (most recent call last)",
      "\u001b[0;32m<ipython-input-9-58e1b17cef74>\u001b[0m in \u001b[0;36m<module>\u001b[0;34m\u001b[0m\n\u001b[1;32m      1\u001b[0m transporters = {\n\u001b[1;32m      2\u001b[0m     \u001b[0mtransporter1_name\u001b[0m\u001b[0;34m:\u001b[0m \u001b[0;34m(\u001b[0m\u001b[0mmop\u001b[0m\u001b[0;34m.\u001b[0m\u001b[0mcompute_v_y\u001b[0m\u001b[0;34m,\u001b[0m \u001b[0mtrack_configuration\u001b[0m\u001b[0;34m)\u001b[0m\u001b[0;34m,\u001b[0m\u001b[0;34m\u001b[0m\u001b[0;34m\u001b[0m\u001b[0m\n\u001b[0;32m----> 3\u001b[0;31m     \u001b[0mtransporter2_name\u001b[0m\u001b[0;34m:\u001b[0m \u001b[0;34m(\u001b[0m\u001b[0maop\u001b[0m\u001b[0;34m.\u001b[0m\u001b[0mcompute_v_y\u001b[0m\u001b[0;34m,\u001b[0m \u001b[0mapproximator\u001b[0m\u001b[0;34m)\u001b[0m\u001b[0;34m,\u001b[0m\u001b[0;34m\u001b[0m\u001b[0;34m\u001b[0m\u001b[0m\n\u001b[0m\u001b[1;32m      4\u001b[0m     \u001b[0mtransporter3_name\u001b[0m\u001b[0;34m:\u001b[0m \u001b[0;34m(\u001b[0m\u001b[0maop\u001b[0m\u001b[0;34m.\u001b[0m\u001b[0mcompute_v_y\u001b[0m\u001b[0;34m,\u001b[0m \u001b[0mprototype_approximator\u001b[0m\u001b[0;34m)\u001b[0m\u001b[0;34m\u001b[0m\u001b[0;34m\u001b[0m\u001b[0m\n\u001b[1;32m      5\u001b[0m }\n",
      "\u001b[0;31mNameError\u001b[0m: name 'approximator' is not defined"
     ]
    }
   ],
   "source": [
    "transporters = {\n",
    "    transporter1_name: (mop.compute_v_y, track_configuration),\n",
    "    transporter2_name: (aop.compute_v_y, approximator),\n",
    "    transporter3_name: (aop.compute_v_y, prototype_approximator)\n",
    "}\n",
    "opv.plot_optical_functions(bunch_configuration, transporters, parameter_from_name, \"V y\", subtitle)"
   ]
  },
  {
   "cell_type": "code",
   "execution_count": null,
   "metadata": {},
   "outputs": [],
   "source": [
    "transporters = {\n",
    "    transporter1_name: (mop.compute_l_x, track_configuration),\n",
    "    transporter2_name: (aop.compute_l_x, approximator),\n",
    "    transporter3_name: (aop.compute_l_x, prototype_approximator)\n",
    "}\n",
    "opv.plot_optical_functions(bunch_configuration, transporters, parameter_from_name, \"L x\", subtitle)"
   ]
  },
  {
   "cell_type": "code",
   "execution_count": null,
   "metadata": {},
   "outputs": [],
   "source": [
    "transporters = {\n",
    "    transporter1_name: (mop.compute_l_y, track_configuration),\n",
    "    transporter2_name: (aop.compute_l_y, approximator),\n",
    "    transporter3_name: (aop.compute_l_y, prototype_approximator)\n",
    "}\n",
    "opv.plot_optical_functions(bunch_configuration, transporters, parameter_from_name, \"L y\", subtitle)"
   ]
  },
  {
   "cell_type": "code",
   "execution_count": null,
   "metadata": {},
   "outputs": [],
   "source": [
    "transporters = {\n",
    "    transporter1_name: (mop.compute_d_x, track_configuration),\n",
    "    transporter2_name: (aop.compute_d_x, approximator),\n",
    "    transporter3_name: (aop.compute_d_x, prototype_approximator)\n",
    "}\n",
    "opv.plot_optical_functions(bunch_configuration, transporters, parameter_from_name, \"D x\", subtitle)"
   ]
  },
  {
   "cell_type": "code",
   "execution_count": null,
   "metadata": {},
   "outputs": [],
   "source": [
    "transporters = {\n",
    "    transporter1_name: (mop.compute_d_y, track_configuration),\n",
    "    transporter2_name: (aop.compute_d_y, approximator),\n",
    "    transporter3_name: (aop.compute_d_y, prototype_approximator)\n",
    "}\n",
    "opv.plot_optical_functions(bunch_configuration, transporters, parameter_from_name, \"D y\", subtitle)"
   ]
  },
  {
   "cell_type": "code",
   "execution_count": null,
   "metadata": {},
   "outputs": [],
   "source": []
  },
  {
   "cell_type": "code",
   "execution_count": null,
   "metadata": {},
   "outputs": [],
   "source": []
  }
 ],
 "metadata": {
  "kernelspec": {
   "display_name": "Python 3",
   "language": "python",
   "name": "python3"
  },
  "language_info": {
   "codemirror_mode": {
    "name": "ipython",
    "version": 3
   },
   "file_extension": ".py",
   "mimetype": "text/x-python",
   "name": "python",
   "nbconvert_exporter": "python",
   "pygments_lexer": "ipython3",
   "version": "3.7.4"
  }
 },
 "nbformat": 4,
 "nbformat_minor": 2
}
