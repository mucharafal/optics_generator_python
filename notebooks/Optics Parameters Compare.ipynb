{
 "cells": [
  {
   "cell_type": "code",
   "execution_count": null,
   "metadata": {
    "scrolled": true
   },
   "outputs": [],
   "source": [
    "import visualization.optics_parameter_visualisation as plotter\n",
    "import os\n",
    "import seaborn as sns\n",
    "from data.parameters_names import ParametersNames as Parameters\n",
    "from data.grid_configuration import GeometricalCoordinatesGridConfiguration\n",
    "from transporters.madx.ptc_twiss.configuration import PtcTwissConfiguration\n",
    "from transporters.madx.ptc_track.configuration import PtcTrackConfiguration\n",
    "from transporters.approximator.configuration import ApproximatorConfiguration"
   ]
  },
  {
   "cell_type": "code",
   "execution_count": null,
   "metadata": {
    "scrolled": true
   },
   "outputs": [],
   "source": [
    "sns.set_style(\"whitegrid\")"
   ]
  },
  {
   "cell_type": "code",
   "execution_count": null,
   "metadata": {
    "scrolled": true
   },
   "outputs": [],
   "source": [
    "path_to_project = \"path_to_folder_with_optic\"\n",
    "folder_name = \"2016\"\n",
    "xml_file_name = \"configuration_reco_beam1.xml\"\n",
    "serialized_approximator_file_name = \"parametrization_6500GeV_0p4_185_reco.root\"\n",
    "approximator_name = \"ip5_to_station_220_h_2_lhcb1\""
   ]
  },
  {
   "cell_type": "code",
   "execution_count": null,
   "metadata": {
    "scrolled": true
   },
   "outputs": [],
   "source": [
    "item_number = 2\n",
    "path_to_xml_file = os.path.join(path_to_project, folder_name, xml_file_name)\n",
    "ptc_twiss_configuration = PtcTwissConfiguration.get_configuration_from_file(path_to_xml_file, item_number, True)"
   ]
  },
  {
   "cell_type": "code",
   "execution_count": null,
   "metadata": {
    "scrolled": true
   },
   "outputs": [],
   "source": [
    "ptc_track_configuration = PtcTrackConfiguration.get_track_configuration_from_xml_file(path_to_xml_file, item_number)"
   ]
  },
  {
   "cell_type": "code",
   "execution_count": null,
   "metadata": {
    "scrolled": true
   },
   "outputs": [],
   "source": [
    "path_to_approximator = os.path.join(path_to_project, folder_name, serialized_approximator_file_name)\n",
    "approximator_configuration = ApproximatorConfiguration(path_to_approximator, approximator_name)"
   ]
  },
  {
   "cell_type": "code",
   "execution_count": null,
   "metadata": {
    "scrolled": true
   },
   "outputs": [],
   "source": [
    "x_mean = 0.1e-3\n",
    "x_delta = 0\n",
    "theta_x_mean = 140e-6\n",
    "theta_x_delta = 0\n",
    "y_mean = 0\n",
    "y_delta = 0\n",
    "theta_y_mean = 0\n",
    "theta_y_delta = 0\n",
    "pt_mean = -0.15\n",
    "pt_delta = 0.15\n",
    "\n",
    "x_resolution = 1\n",
    "theta_x_resolution = 1\n",
    "y_resolution = 1\n",
    "theta_y_resolution = 1\n",
    "pt_resolution = 11\n",
    "\n",
    "grid_configuration = GeometricalCoordinatesGridConfiguration.from_delta(x_mean, x_delta, x_resolution,\n",
    "                                                       theta_x_mean, theta_x_delta, theta_x_resolution,\n",
    "                                                       y_mean, y_delta, y_resolution,\n",
    "                                                       theta_y_mean, theta_y_delta, theta_y_resolution,\n",
    "                                                        pt_mean, pt_delta, pt_resolution)\n",
    "\n",
    "particles = grid_configuration.generate_grid()"
   ]
  },
  {
   "cell_type": "code",
   "execution_count": null,
   "metadata": {
    "scrolled": true
   },
   "outputs": [],
   "source": [
    "title_sufix = \"2016\"\n",
    "transporter1_name = \"ptc_twiss; madx 5.05.02\"\n",
    "transporter2_name = \"ptc_track\"\n",
    "transporter3_name = \"approximator\""
   ]
  },
  {
   "cell_type": "code",
   "execution_count": null,
   "metadata": {
    "scrolled": true
   },
   "outputs": [],
   "source": [
    "transporters = {\n",
    "    transporter1_name: ptc_twiss_configuration,\n",
    "    transporter2_name: ptc_track_configuration,\n",
    "    transporter3_name: approximator_configuration\n",
    "}\n",
    "\n",
    "axes = plotter.generate_and_plot_optical_functions(particles, transporters, Parameters.PT, Parameters.D_X, title_sufix=title_sufix)"
   ]
  },
  {
   "cell_type": "code",
   "execution_count": null,
   "metadata": {
    "scrolled": true
   },
   "outputs": [],
   "source": [
    "axes = plotter.generate_and_plot_optical_functions(particles, transporters, Parameters.PT, Parameters.D_Y, title_sufix=title_sufix)"
   ]
  },
  {
   "cell_type": "code",
   "execution_count": null,
   "metadata": {
    "scrolled": true
   },
   "outputs": [],
   "source": [
    "axes = plotter.generate_and_plot_optical_functions(particles, transporters, Parameters.PT, Parameters.L_X, title_sufix=title_sufix)"
   ]
  },
  {
   "cell_type": "code",
   "execution_count": null,
   "metadata": {
    "scrolled": true
   },
   "outputs": [],
   "source": [
    "axes = plotter.generate_and_plot_optical_functions(particles, transporters, Parameters.PT, Parameters.L_Y, title_sufix=title_sufix)"
   ]
  },
  {
   "cell_type": "code",
   "execution_count": null,
   "metadata": {
    "scrolled": true
   },
   "outputs": [],
   "source": [
    "axes = plotter.generate_and_plot_optical_functions(particles, transporters, Parameters.PT, Parameters.V_X, title_sufix=title_sufix)"
   ]
  },
  {
   "cell_type": "code",
   "execution_count": null,
   "metadata": {
    "scrolled": true
   },
   "outputs": [],
   "source": [
    "axes = plotter.generate_and_plot_optical_functions(particles, transporters, Parameters.PT, Parameters.V_Y, title_sufix=title_sufix)"
   ]
  },
  {
   "cell_type": "code",
   "execution_count": null,
   "metadata": {
    "scrolled": true
   },
   "outputs": [],
   "source": []
  }
 ],
 "metadata": {
  "kernelspec": {
   "display_name": "Python 3",
   "language": "python",
   "name": "python3"
  },
  "language_info": {
   "codemirror_mode": {
    "name": "ipython",
    "version": 3
   },
   "file_extension": ".py",
   "mimetype": "text/x-python",
   "name": "python",
   "nbconvert_exporter": "python",
   "pygments_lexer": "ipython3",
   "version": "3.7.5"
  },
  "pycharm": {
   "stem_cell": {
    "cell_type": "raw",
    "source": [],
    "metadata": {
     "collapsed": false
    }
   }
  }
 },
 "nbformat": 4,
 "nbformat_minor": 2
}