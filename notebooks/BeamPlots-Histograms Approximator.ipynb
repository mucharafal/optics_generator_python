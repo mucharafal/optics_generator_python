{
 "cells": [
  {
   "cell_type": "code",
   "execution_count": 1,
   "metadata": {},
   "outputs": [
    {
     "name": "stdout",
     "output_type": "stream",
     "text": [
      "Welcome to JupyROOT 6.16/00\n"
     ]
    }
   ],
   "source": [
    "import numpy as np\n",
    "from matplotlib.image import NonUniformImage\n",
    "import matplotlib.pyplot as plt\n",
    "import pandas as pd\n",
    "import seaborn as sns\n",
    "import sys\n",
    "import os\n",
    "import ROOT\n",
    "from ROOT import gSystem, gInterpreter\n",
    "import approximator.particles_trajectory_generator as ptg\n",
    "import approximator.runner as ap_runner\n",
    "import data.bunch_configuration as buc\n",
    "path_to_old_library = \"/home/rafalmucha/Pobrane/optic/opticsGeneratorOld/lib\"\n",
    "if \"LD_LIBRARY_PATH\" not in os.environ:\n",
    "    os.environ[\"LD_LIBRARY_PATH\"] = os.pathsep + path_to_old_library\n",
    "else:\n",
    "    os.environ[\"LD_LIBRARY_PATH\"] += os.pathsep + path_to_old_library\n",
    "\n",
    "sns.set_style(\"whitegrid\")\n",
    "\n",
    "home = \"/home/rafalmucha/Pobrane/optic/\"\n",
    "file_name = \"parametrization_6500GeV_0p4_185_reco\"\n",
    "approximator_name = \"ip5_to_station_150_h_2_lhcb1\"\n",
    "path_to_project = home+\"/optics_generator_python\"\n",
    "path_to_file = home+\"/2016/\" + file_name + \".root\""
   ]
  },
  {
   "cell_type": "code",
   "execution_count": 2,
   "metadata": {},
   "outputs": [
    {
     "ename": "AttributeError",
     "evalue": "apr0",
     "output_type": "error",
     "traceback": [
      "\u001b[0;31m---------------------------------------------------------------------------\u001b[0m",
      "\u001b[0;31mAttributeError\u001b[0m                            Traceback (most recent call last)",
      "\u001b[0;32m<ipython-input-2-74b25f2a9723>\u001b[0m in \u001b[0;36m<module>\u001b[0;34m\u001b[0m\n\u001b[0;32m----> 1\u001b[0;31m \u001b[0mapproximator\u001b[0m \u001b[0;34m=\u001b[0m \u001b[0map_runner\u001b[0m\u001b[0;34m.\u001b[0m\u001b[0mget_approximator\u001b[0m\u001b[0;34m(\u001b[0m\u001b[0mpath_to_project\u001b[0m\u001b[0;34m,\u001b[0m \u001b[0mpath_to_file\u001b[0m\u001b[0;34m,\u001b[0m \u001b[0mapproximator_name\u001b[0m\u001b[0;34m)\u001b[0m\u001b[0;34m\u001b[0m\u001b[0;34m\u001b[0m\u001b[0m\n\u001b[0m",
      "\u001b[0;32m~/Pobrane/optic/optics_generator_python/src/approximator/runner.py\u001b[0m in \u001b[0;36mget_approximator\u001b[0;34m(path_to_project, path_to_file, approximator_name)\u001b[0m\n\u001b[1;32m     28\u001b[0m         'std::auto_ptr<LHCOpticsApproximator> ' + root_pointer_name + ' = std::auto_ptr<LHCOpticsApproximator>((LHCOpticsApproximator*) f->Get(\"' + approximator_name + '\"));')\n\u001b[1;32m     29\u001b[0m     \u001b[0mgInterpreter\u001b[0m\u001b[0;34m.\u001b[0m\u001b[0mProcessLine\u001b[0m\u001b[0;34m(\u001b[0m\u001b[0;34m\"f->Close()\"\u001b[0m\u001b[0;34m)\u001b[0m\u001b[0;34m\u001b[0m\u001b[0;34m\u001b[0m\u001b[0m\n\u001b[0;32m---> 30\u001b[0;31m     \u001b[0mapproximator\u001b[0m \u001b[0;34m=\u001b[0m \u001b[0mgetattr\u001b[0m\u001b[0;34m(\u001b[0m\u001b[0mROOT\u001b[0m\u001b[0;34m,\u001b[0m \u001b[0mroot_pointer_name\u001b[0m\u001b[0;34m)\u001b[0m\u001b[0;34m\u001b[0m\u001b[0;34m\u001b[0m\u001b[0m\n\u001b[0m\u001b[1;32m     31\u001b[0m     \u001b[0;32mreturn\u001b[0m \u001b[0mapproximator\u001b[0m\u001b[0;34m\u001b[0m\u001b[0;34m\u001b[0m\u001b[0m\n\u001b[1;32m     32\u001b[0m \u001b[0;34m\u001b[0m\u001b[0m\n",
      "\u001b[0;32m/usr/lib64/python3.7/site-packages/ROOT.py\u001b[0m in \u001b[0;36m__getattr2\u001b[0;34m(self, name)\u001b[0m\n\u001b[1;32m    611\u001b[0m \u001b[0;34m\u001b[0m\u001b[0m\n\u001b[1;32m    612\u001b[0m     \u001b[0;31m# reaching this point means failure ...\u001b[0m\u001b[0;34m\u001b[0m\u001b[0;34m\u001b[0m\u001b[0;34m\u001b[0m\u001b[0m\n\u001b[0;32m--> 613\u001b[0;31m       \u001b[0;32mraise\u001b[0m \u001b[0mAttributeError\u001b[0m\u001b[0;34m(\u001b[0m \u001b[0mname\u001b[0m \u001b[0;34m)\u001b[0m\u001b[0;34m\u001b[0m\u001b[0;34m\u001b[0m\u001b[0m\n\u001b[0m\u001b[1;32m    614\u001b[0m \u001b[0;34m\u001b[0m\u001b[0m\n\u001b[1;32m    615\u001b[0m    \u001b[0;32mdef\u001b[0m \u001b[0m__delattr__\u001b[0m\u001b[0;34m(\u001b[0m \u001b[0mself\u001b[0m\u001b[0;34m,\u001b[0m \u001b[0mname\u001b[0m \u001b[0;34m)\u001b[0m\u001b[0;34m:\u001b[0m\u001b[0;34m\u001b[0m\u001b[0;34m\u001b[0m\u001b[0m\n",
      "\u001b[0;31mAttributeError\u001b[0m: apr0"
     ]
    },
    {
     "name": "stderr",
     "output_type": "stream",
     "text": [
      "Error in <TUnixSystem::FindDynamicLibrary>: LHCOpticsApproximator[.so | .dll | .dylib | .sl | .dl | .a] does not exist in .:/usr/lib64/root:\n",
      "Warning in <TClass::Init>: no dictionary for class LHCOpticsApproximator is available\n",
      "Warning in <TClass::Init>: no dictionary for class TMultiDimFet is available\n",
      "Warning in <TClass::Init>: no dictionary for class LHCApertureApproximator is available\n",
      "\u001b[1minput_line_50:2:16: \u001b[0m\u001b[0;1;31merror: \u001b[0m\u001b[1mtemplate argument for template type parameter must be a type\u001b[0m\n",
      " std::auto_ptr<LHCOpticsApproximator> apr0 = std::auto_ptr<LHCOpticsAppr...\n",
      "\u001b[0;1;32m               ^~~~~~~~~~~~~~~~~~~~~\n",
      "\u001b[0m\u001b[1m/usr/lib/gcc/x86_64-redhat-linux/8/../../../../include/c++/8/backward/auto_ptr.h:88:21: \u001b[0m\u001b[0;1;30mnote: \u001b[0mtemplate parameter is declared here\u001b[0m\n",
      "  template<typename _Tp>\n",
      "\u001b[0;1;32m                    ^\n",
      "\u001b[0m\u001b[1minput_line_50:2:60: \u001b[0m\u001b[0;1;31merror: \u001b[0m\u001b[1muse of undeclared identifier 'LHCOpticsApproximator'\u001b[0m\n",
      " std::auto_ptr<LHCOpticsApproximator> apr0 = std::auto_ptr<LHCOpticsAppr...\n",
      "\u001b[0;1;32m                                                           ^\n",
      "\u001b[0m"
     ]
    }
   ],
   "source": [
    "approximator = ap_runner.get_approximator(path_to_project, path_to_file, approximator_name)"
   ]
  },
  {
   "cell_type": "code",
   "execution_count": null,
   "metadata": {},
   "outputs": [],
   "source": [
    "# Parameters of bunch\n",
    "x_mean = 0.0\n",
    "sigma_x = 10e-6\n",
    "theta_x_mean = 0\n",
    "sigma_theta_x = 10e-6\n",
    "y_mean = 0.0\n",
    "sigma_y = 10e-6\n",
    "theta_y_mean = 0.00\n",
    "sigma_theta_y = 10e-6\n",
    "pt_mean = -0.01\n",
    "sigma_pt = 0.001\n",
    "\n",
    "particles_number = 1000"
   ]
  },
  {
   "cell_type": "code",
   "execution_count": null,
   "metadata": {},
   "outputs": [],
   "source": [
    "bunch_configuration = buc.BunchConfiguration.from_sigma(x_mean, sigma_x, particles_number,\n",
    "                                                        theta_x_mean, sigma_theta_x, 1,\n",
    "                                                        y_mean, sigma_y, 1,\n",
    "                                                        theta_y_mean, sigma_theta_y, 1,\n",
    "                                                        pt_mean, sigma_pt, 1)"
   ]
  },
  {
   "cell_type": "code",
   "execution_count": null,
   "metadata": {},
   "outputs": [],
   "source": [
    "output = ptg.generate_random_particles(approximator, bunch_configuration)"
   ]
  },
  {
   "cell_type": "code",
   "execution_count": null,
   "metadata": {},
   "outputs": [],
   "source": [
    "output[\"start\"]"
   ]
  },
  {
   "cell_type": "code",
   "execution_count": null,
   "metadata": {},
   "outputs": [],
   "source": [
    "# Names of segments, like MQXA.3R5\n",
    "start_segment_name = \"start\"\n",
    "end_segment_name = \"end\"\n",
    "\n",
    "if start_segment_name != \"start\":\n",
    "    output[start_segment_name].T[1] -= 1"
   ]
  },
  {
   "cell_type": "code",
   "execution_count": null,
   "metadata": {},
   "outputs": [],
   "source": [
    "output_matrix = output[end_segment_name]\n",
    "input_matrix = output[start_segment_name]"
   ]
  },
  {
   "cell_type": "code",
   "execution_count": null,
   "metadata": {},
   "outputs": [],
   "source": [
    "index_map = {\n",
    "    \"x\": 0,\n",
    "    \"theta x\": 1,\n",
    "    \"y\": 2,\n",
    "    \"theta y\": 3,\n",
    "    \"t\": 4,\n",
    "    \"pt\": 5,\n",
    "    \"alfa x\": 6,\n",
    "    \"alfa y\": 7\n",
    "}\n",
    "meters = \" [m]\"\n",
    "radians = \" [rad]\"\n",
    "seconds = \" [s]\"\n",
    "energy = \" [TeV]\"\n",
    "no_unit = \" \"\n",
    "unit_map = {\n",
    "    \"x\": meters,\n",
    "    \"theta x\": radians,\n",
    "    \"y\": meters,\n",
    "    \"theta y\": radians,\n",
    "    \"t\": seconds,\n",
    "    \"pt\": no_unit,\n",
    "    \"s\": meters,\n",
    "    \"e\": energy,\n",
    "    \"alfa x\": radians,\n",
    "    \"alfa y\": radians\n",
    "}\n",
    "\n",
    "\n",
    "def plot_histogram(x_name, y_name, x_name_prefix, y_name_prefix, x_matrix, y_matrix, plot_axes, plot_x_pos, plot_y_pos):\n",
    "    \n",
    "    title = \"Histogram \" + x_name_prefix + x_name + \" and \" + y_name_prefix + y_name + \" parameter\"\n",
    "    \n",
    "    # Get vectors and their properties\n",
    "    \n",
    "    x_index = index_map[x_name]\n",
    "    y_index = index_map[y_name]\n",
    "    \n",
    "    vector_x = pd.Series(x_matrix.T[x_index], name=x_name_prefix + x_name)\n",
    "    vector_y = pd.Series(y_matrix.T[y_index], name=y_name_prefix + y_name)\n",
    "    \n",
    "    print(np.min(vector_x), np.max(vector_x))\n",
    "    \n",
    "    bins_number = 50\n",
    "    \n",
    "    sns.distplot(vector_x, bins=bins_number, ax=axes[plot_x_pos][plot_y_pos], color='y').set_title(title)\n",
    "    sns.distplot(vector_y, bins=bins_number, ax=axes[plot_x_pos][plot_y_pos], color='b').set_title(title)"
   ]
  },
  {
   "cell_type": "code",
   "execution_count": null,
   "metadata": {},
   "outputs": [],
   "source": [
    "f, axes = plt.subplots(2, 2)\n",
    "\n",
    "fig = plt.gcf()\n",
    "fig.set_size_inches(20,20)\n",
    "\n",
    "plot_histogram(\"x\", \"x\", \"In \", \"Out \", input_matrix, output_matrix, axes, 0, 0)\n",
    "\n",
    "plot_histogram(\"y\", \"y\", \"In \", \"Out \", input_matrix, output_matrix, axes, 0, 1)\n",
    "\n",
    "plot_histogram(\"theta x\", \"theta x\", \"In \", \"Out \", input_matrix, output_matrix, axes, 1, 0)\n",
    "\n",
    "plot_histogram(\"theta y\", \"theta y\", \"In \", \"Out \", input_matrix, output_matrix, axes, 1, 1)\n"
   ]
  },
  {
   "cell_type": "code",
   "execution_count": null,
   "metadata": {},
   "outputs": [],
   "source": []
  },
  {
   "cell_type": "code",
   "execution_count": null,
   "metadata": {},
   "outputs": [],
   "source": []
  }
 ],
 "metadata": {
  "kernelspec": {
   "display_name": "Python 3",
   "language": "python",
   "name": "python3"
  },
  "language_info": {
   "codemirror_mode": {
    "name": "ipython",
    "version": 3
   },
   "file_extension": ".py",
   "mimetype": "text/x-python",
   "name": "python",
   "nbconvert_exporter": "python",
   "pygments_lexer": "ipython3",
   "version": "3.7.3"
  }
 },
 "nbformat": 4,
 "nbformat_minor": 2
}
