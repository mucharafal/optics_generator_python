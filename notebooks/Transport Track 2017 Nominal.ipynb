{
 "cells": [
  {
   "cell_type": "code",
   "execution_count": 1,
   "metadata": {},
   "outputs": [],
   "source": [
    "import ptc_track.madx_configuration as configuration\n",
    "import ptc_track.matrix_indexes as indexes\n",
    "import ptc_track.particles_trajectory_generator as transporter\n",
    "import visualization.visualize as plotter\n",
    "import data.bunch_configuration as buc\n",
    "import os\n",
    "import matplotlib.pyplot as plt\n",
    "import seaborn as sns\n",
    "import sys"
   ]
  },
  {
   "cell_type": "code",
   "execution_count": 2,
   "metadata": {},
   "outputs": [],
   "source": [
    "sns.set_style(\"whitegrid\")"
   ]
  },
  {
   "cell_type": "markdown",
   "metadata": {},
   "source": [
    "Change below path for path to unziped folder"
   ]
  },
  {
   "cell_type": "code",
   "execution_count": 3,
   "metadata": {},
   "outputs": [],
   "source": [
    "path_to_project = \"/eos/user/r/rmucha/SWAN_projects\""
   ]
  },
  {
   "cell_type": "code",
   "execution_count": 4,
   "metadata": {},
   "outputs": [],
   "source": [
    "folder_name = \"2017_nominal\"\n",
    "xml_file_name = \"configuration_reco_beam1.xml\"\n",
    "path_to_configuration = os.path.join(path_to_project, folder_name)\n",
    "path_to_xml_file = os.path.join(path_to_project, folder_name, xml_file_name)\n",
    "item_number = 2\n",
    "track_configuration = configuration.TrackConfiguration(path_to_xml_file, item_number, path_to_configuration)"
   ]
  },
  {
   "cell_type": "code",
   "execution_count": 5,
   "metadata": {},
   "outputs": [
    {
     "ename": "AttributeError",
     "evalue": "module 'data.bunch_configuration' has no attribute 'BunchConfiguration'",
     "output_type": "error",
     "traceback": [
      "\u001b[0;31m---------------------------------------------------------------------------\u001b[0m",
      "\u001b[0;31mAttributeError\u001b[0m                            Traceback (most recent call last)",
      "\u001b[0;32m<ipython-input-5-d6f6989ace8f>\u001b[0m in \u001b[0;36m<module>\u001b[0;34m\u001b[0m\n\u001b[1;32m     16\u001b[0m \u001b[0mpt_resolution\u001b[0m \u001b[0;34m=\u001b[0m \u001b[0;36m31\u001b[0m\u001b[0;34m\u001b[0m\u001b[0;34m\u001b[0m\u001b[0m\n\u001b[1;32m     17\u001b[0m \u001b[0;34m\u001b[0m\u001b[0m\n\u001b[0;32m---> 18\u001b[0;31m bunch_configuration = buc.BunchConfiguration.from_sigma(x_mean, sigma_x, x_resolution,\n\u001b[0m\u001b[1;32m     19\u001b[0m                                                        \u001b[0mtheta_x_mean\u001b[0m\u001b[0;34m,\u001b[0m \u001b[0msigma_theta_x\u001b[0m\u001b[0;34m,\u001b[0m \u001b[0mtheta_x_resolution\u001b[0m\u001b[0;34m,\u001b[0m\u001b[0;34m\u001b[0m\u001b[0;34m\u001b[0m\u001b[0m\n\u001b[1;32m     20\u001b[0m                                                        \u001b[0my_mean\u001b[0m\u001b[0;34m,\u001b[0m \u001b[0msigma_y\u001b[0m\u001b[0;34m,\u001b[0m \u001b[0my_resolution\u001b[0m\u001b[0;34m,\u001b[0m\u001b[0;34m\u001b[0m\u001b[0;34m\u001b[0m\u001b[0m\n",
      "\u001b[0;31mAttributeError\u001b[0m: module 'data.bunch_configuration' has no attribute 'BunchConfiguration'"
     ]
    }
   ],
   "source": [
    "x_mean = 0\n",
    "sigma_x = 0\n",
    "theta_x_mean = 0\n",
    "sigma_theta_x = 0\n",
    "y_mean = 0\n",
    "sigma_y = 0\n",
    "theta_y_mean = 0\n",
    "sigma_theta_y = 0\n",
    "pt_mean = -0.15\n",
    "sigma_pt = 0.15\n",
    "\n",
    "x_resolution = 1\n",
    "theta_x_resolution = 1\n",
    "y_resolution = 1\n",
    "theta_y_resolution = 1\n",
    "pt_resolution = 31\n",
    "\n",
    "bunch_configuration = buc.BunchConfiguration.from_sigma(x_mean, sigma_x, x_resolution,\n",
    "                                                       theta_x_mean, sigma_theta_x, theta_x_resolution,\n",
    "                                                       y_mean, sigma_y, y_resolution,\n",
    "                                                       theta_y_mean, sigma_theta_y, theta_y_resolution,\n",
    "                                                        pt_mean, sigma_pt, pt_resolution)"
   ]
  },
  {
   "cell_type": "code",
   "execution_count": null,
   "metadata": {},
   "outputs": [],
   "source": [
    "title_sufix = \"2017 nominal, track\""
   ]
  },
  {
   "cell_type": "code",
   "execution_count": null,
   "metadata": {},
   "outputs": [],
   "source": [
    "segments = transporter.generate_from_range(madx_configuration=track_configuration, bunch_configuration=bunch_configuration)"
   ]
  },
  {
   "cell_type": "code",
   "execution_count": null,
   "metadata": {},
   "outputs": [],
   "source": [
    "matrix = segments[\"end\"]"
   ]
  },
  {
   "cell_type": "code",
   "execution_count": null,
   "metadata": {},
   "outputs": [],
   "source": [
    "f, axes = plt.subplots(2, 2)\n",
    "\n",
    "fig = plt.gcf()\n",
    "fig.set_size_inches(20,20)\n",
    "\n",
    "mapping = indexes.ptc_track\n",
    "\n",
    "plotter.plot_from_one_matrix(\"pt\", \"x\", matrix, mapping, axes, 0, 0, title_sufix)\n",
    "plotter.plot_from_one_matrix(\"pt\", \"theta x\", matrix, mapping, axes, 0, 1, title_sufix)\n",
    "plotter.plot_from_one_matrix(\"pt\", \"y\", matrix, mapping, axes, 1, 0, title_sufix)\n",
    "plotter.plot_from_one_matrix(\"pt\", \"theta y\", matrix, mapping, axes, 1, 1, title_sufix)"
   ]
  }
 ],
 "metadata": {
  "kernelspec": {
   "display_name": "Python 3",
   "language": "python",
   "name": "python3"
  },
  "language_info": {
   "codemirror_mode": {
    "name": "ipython",
    "version": 3
   },
   "file_extension": ".py",
   "mimetype": "text/x-python",
   "name": "python",
   "nbconvert_exporter": "python",
   "pygments_lexer": "ipython3",
   "version": "3.7.4"
  }
 },
 "nbformat": 4,
 "nbformat_minor": 2
}
