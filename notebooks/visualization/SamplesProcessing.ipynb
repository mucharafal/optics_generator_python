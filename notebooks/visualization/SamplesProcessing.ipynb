{
 "cells": [
  {
   "cell_type": "code",
   "execution_count": 2,
   "metadata": {},
   "outputs": [],
   "source": [
    "import uproot\n",
    "import numpy as np\n",
    "from matplotlib.image import NonUniformImage\n",
    "import matplotlib.pyplot as plt\n",
    "import pandas as pd\n",
    "import seaborn as sns\n",
    "sns.set(style=\"white\")"
   ]
  },
  {
   "cell_type": "code",
   "execution_count": 4,
   "metadata": {},
   "outputs": [
    {
     "data": {
      "text/plain": [
       "[b'x_in',\n",
       " b'theta_x_in',\n",
       " b'y_in',\n",
       " b'theta_y_in',\n",
       " b'ksi_in',\n",
       " b's_in',\n",
       " b'def_x_out',\n",
       " b'def_theta_x_out',\n",
       " b'def_y_out',\n",
       " b'def_theta_y_out',\n",
       " b'def_ksi_out',\n",
       " b'def_s_out',\n",
       " b'def_valid_out',\n",
       " b'mqxb.b2r5_x_out',\n",
       " b'mqxb.b2r5_theta_x_out',\n",
       " b'mqxb.b2r5_y_out',\n",
       " b'mqxb.b2r5_theta_y_out',\n",
       " b'mqxb.b2r5_ksi_out',\n",
       " b'mqxb.b2r5_s_out',\n",
       " b'mqxb.b2r5_valid_out',\n",
       " b'mcbxh.3r5_x_out',\n",
       " b'mcbxh.3r5_theta_x_out',\n",
       " b'mcbxh.3r5_y_out',\n",
       " b'mcbxh.3r5_theta_y_out',\n",
       " b'mcbxh.3r5_ksi_out',\n",
       " b'mcbxh.3r5_s_out',\n",
       " b'mcbxh.3r5_valid_out',\n",
       " b'tanc.4r5_x_out',\n",
       " b'tanc.4r5_theta_x_out',\n",
       " b'tanc.4r5_y_out',\n",
       " b'tanc.4r5_theta_y_out',\n",
       " b'tanc.4r5_ksi_out',\n",
       " b'tanc.4r5_s_out',\n",
       " b'tanc.4r5_valid_out',\n",
       " b'mcbxh.2r5_x_out',\n",
       " b'mcbxh.2r5_theta_x_out',\n",
       " b'mcbxh.2r5_y_out',\n",
       " b'mcbxh.2r5_theta_y_out',\n",
       " b'mcbxh.2r5_ksi_out',\n",
       " b'mcbxh.2r5_s_out',\n",
       " b'mcbxh.2r5_valid_out',\n",
       " b'mqxa.3r5_x_out',\n",
       " b'mqxa.3r5_theta_x_out',\n",
       " b'mqxa.3r5_y_out',\n",
       " b'mqxa.3r5_theta_y_out',\n",
       " b'mqxa.3r5_ksi_out',\n",
       " b'mqxa.3r5_s_out',\n",
       " b'mqxa.3r5_valid_out',\n",
       " b'mqml.5r5.b1_x_out',\n",
       " b'mqml.5r5.b1_theta_x_out',\n",
       " b'mqml.5r5.b1_y_out',\n",
       " b'mqml.5r5.b1_theta_y_out',\n",
       " b'mqml.5r5.b1_ksi_out',\n",
       " b'mqml.5r5.b1_s_out',\n",
       " b'mqml.5r5.b1_valid_out',\n",
       " b'mcbch.5r5.b1_x_out',\n",
       " b'mcbch.5r5.b1_theta_x_out',\n",
       " b'mcbch.5r5.b1_y_out',\n",
       " b'mcbch.5r5.b1_theta_y_out',\n",
       " b'mcbch.5r5.b1_ksi_out',\n",
       " b'mcbch.5r5.b1_s_out',\n",
       " b'mcbch.5r5.b1_valid_out',\n",
       " b'mcbyv.b4r5.b1_x_out',\n",
       " b'mcbyv.b4r5.b1_theta_x_out',\n",
       " b'mcbyv.b4r5.b1_y_out',\n",
       " b'mcbyv.b4r5.b1_theta_y_out',\n",
       " b'mcbyv.b4r5.b1_ksi_out',\n",
       " b'mcbyv.b4r5.b1_s_out',\n",
       " b'mcbyv.b4r5.b1_valid_out',\n",
       " b'tcl.4r5.b2_x_out',\n",
       " b'tcl.4r5.b2_theta_x_out',\n",
       " b'tcl.4r5.b2_y_out',\n",
       " b'tcl.4r5.b2_theta_y_out',\n",
       " b'tcl.4r5.b2_ksi_out',\n",
       " b'tcl.4r5.b2_s_out',\n",
       " b'tcl.4r5.b2_valid_out',\n",
       " b'tcl.5r5.b2_x_out',\n",
       " b'tcl.5r5.b2_theta_x_out',\n",
       " b'tcl.5r5.b2_y_out',\n",
       " b'tcl.5r5.b2_theta_y_out',\n",
       " b'tcl.5r5.b2_ksi_out',\n",
       " b'tcl.5r5.b2_s_out',\n",
       " b'tcl.5r5.b2_valid_out']"
      ]
     },
     "execution_count": 4,
     "metadata": {},
     "output_type": "execute_result"
    }
   ],
   "source": [
    "uf = uproot.open(\"/home/rafalmucha/Pobrane/optic/s/samples_beam_1_ip_150.root\")\n",
    "\n",
    "s = uf['transport_samples']\n",
    "arrays = s.arrays(['x_in', 'y_in'])\n",
    "s.keys()"
   ]
  },
  {
   "cell_type": "code",
   "execution_count": 5,
   "metadata": {},
   "outputs": [],
   "source": [
    "import pandas as pd\n",
    "import seaborn as sns\n",
    "sns.set(style=\"white\")"
   ]
  },
  {
   "cell_type": "code",
   "execution_count": 6,
   "metadata": {},
   "outputs": [],
   "source": [
    "x = pd.Series(arrays[b'x_in'], name=\"$X IN$\")\n",
    "y = pd.Series(arrays[b'y_in'], name=\"$Y IN$\")\n",
    "\n",
    "frame = pd.DataFrame(data=(x, y))\n"
   ]
  },
  {
   "cell_type": "code",
   "execution_count": 7,
   "metadata": {},
   "outputs": [
    {
     "data": {
      "image/png": "[encoded data removed]",
      "text/plain": [
       "<Figure size 360x360 with 3 Axes>"
      ]
     },
     "metadata": {},
     "output_type": "display_data"
    }
   ],
   "source": [
    "g = sns.jointplot(x, y, kind=\"kde\", height=5, space=0).set_axis_labels(xlabel=\"x position\", ylabel=\"y postion\").fig.suptitle(\"HERE IS TITLE\")\n"
   ]
  },
  {
   "cell_type": "code",
   "execution_count": 14,
   "metadata": {},
   "outputs": [
    {
     "data": {
      "text/plain": [
       "Text(0.5, 0.98, 'HERE IS TITLE')"
      ]
     },
     "execution_count": 14,
     "metadata": {},
     "output_type": "execute_result"
    }
   ],
   "source": [
    "g.fig.suptitle(\"HERE IS TITLE\")"
   ]
  },
  {
   "cell_type": "code",
   "execution_count": 15,
   "metadata": {},
   "outputs": [
    {
     "data": {
      "text/plain": [
       "<seaborn.axisgrid.JointGrid at 0x7f8b0e24f2e8>"
      ]
     },
     "execution_count": 15,
     "metadata": {},
     "output_type": "execute_result"
    }
   ],
   "source": []
  },
  {
   "cell_type": "code",
   "execution_count": 16,
   "metadata": {},
   "outputs": [],
   "source": []
  },
  {
   "cell_type": "code",
   "execution_count": null,
   "metadata": {},
   "outputs": [],
   "source": []
  }
 ],
 "metadata": {
  "kernelspec": {
   "display_name": "Python 3",
   "language": "python",
   "name": "python3"
  },
  "language_info": {
   "codemirror_mode": {
    "name": "ipython",
    "version": 3
   },
   "file_extension": ".py",
   "mimetype": "text/x-python",
   "name": "python",
   "nbconvert_exporter": "python",
   "pygments_lexer": "ipython3",
   "version": "3.7.2"
  }
 },
 "nbformat": 4,
 "nbformat_minor": 2
}
