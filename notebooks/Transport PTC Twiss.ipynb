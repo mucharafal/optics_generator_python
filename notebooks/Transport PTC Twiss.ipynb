{
 "cells": [
  {
   "cell_type": "code",
   "execution_count": null,
   "metadata": {},
   "outputs": [],
   "source": [
    "import visualization.visualize as plotter\n",
    "import os\n",
    "import matplotlib.pyplot as plt\n",
    "import transporters.transporters_factory as transporters_factory\n",
    "from data.parameters_names import ParametersNames as Parameters\n",
    "from data.grid_configuration import CanonicalCoordinatesGridConfiguration\n",
    "from transporters.madx.ptc_twiss.configuration import PtcTwissConfiguration"
   ]
  },
  {
   "cell_type": "code",
   "execution_count": null,
   "metadata": {},
   "outputs": [],
   "source": [
    "plt.style.use([\"ggplot\"])"
   ]
  },
  {
   "cell_type": "code",
   "execution_count": null,
   "metadata": {},
   "outputs": [],
   "source": [
    "path_to_project = \"path_to_folder_with_optics\"\n",
    "optic_folder_name = \"2016\"\n",
    "xml_file_name = \"configuration_reconst_beam1.xml\""
   ]
  },
  {
   "cell_type": "code",
   "execution_count": null,
   "metadata": {},
   "outputs": [],
   "source": [
    "item_number = 2\n",
    "path_to_xml_file = os.path.join(path_to_project, optic_folder_name, xml_file_name)\n",
    "ptc_twiss_configuration = PtcTwissConfiguration.get_configuration_from_file(path_to_xml_file, item_number, True)\n",
    "transporter = transporters_factory.get_transporter(ptc_twiss_configuration)"
   ]
  },
  {
   "cell_type": "code",
   "execution_count": null,
   "metadata": {},
   "outputs": [],
   "source": [
    "x_mean = 0\n",
    "x_delta = 0\n",
    "theta_x_mean = 0\n",
    "theta_x_delta = 0\n",
    "y_mean = 0\n",
    "y_delta = 0\n",
    "theta_y_mean = 0\n",
    "theta_y_delta = 0\n",
    "pt_mean = -0.1\n",
    "pt_delta = 0.1\n",
    "\n",
    "x_resolution = 1\n",
    "theta_x_resolution = 1\n",
    "y_resolution = 1\n",
    "theta_y_resolution = 1\n",
    "pt_resolution = 11\n",
    "\n",
    "grid_configuration = CanonicalCoordinatesGridConfiguration.from_delta(x_mean, x_delta, x_resolution,\n",
    "                                                       theta_x_mean, theta_x_delta, theta_x_resolution,\n",
    "                                                       y_mean, y_delta, y_resolution,\n",
    "                                                       theta_y_mean, theta_y_delta, theta_y_resolution,\n",
    "                                                        pt_mean, pt_delta, pt_resolution)"
   ]
  },
  {
   "cell_type": "code",
   "execution_count": null,
   "metadata": {},
   "outputs": [],
   "source": [
    "particles = grid_configuration.generate_grid()"
   ]
  },
  {
   "cell_type": "code",
   "execution_count": null,
   "metadata": {},
   "outputs": [],
   "source": [
    "segments = transporter(particles)"
   ]
  },
  {
   "cell_type": "code",
   "execution_count": null,
   "metadata": {},
   "outputs": [],
   "source": [
    "matrix = segments[\"end\"]"
   ]
  },
  {
   "cell_type": "code",
   "execution_count": null,
   "metadata": {},
   "outputs": [],
   "source": [
    "title_sufix = \"2016, twiss\""
   ]
  },
  {
   "cell_type": "code",
   "execution_count": null,
   "metadata": {},
   "outputs": [],
   "source": [
    "f, axes = plt.subplots(1, 2)\n",
    "\n",
    "fig = plt.gcf()\n",
    "fig.set_size_inches(20,10)\n",
    "\n",
    "plotter.plot_from_one_matrix(Parameters.PT, Parameters.D_Y, matrix, title_sufix=title_sufix, ax=axes[0])\n",
    "axes = plotter.plot_from_one_matrix(Parameters.PT, Parameters.D_X, matrix, title_sufix=title_sufix, ax=axes[1])"
   ]
  },
  {
   "cell_type": "code",
   "execution_count": null,
   "metadata": {},
   "outputs": [],
   "source": [
    "a = matrix.to_pandas_data_frame()"
   ]
  },
  {
   "cell_type": "code",
   "execution_count": null,
   "metadata": {},
   "outputs": [],
   "source": [
    "a.plot(x = Parameters.PT, y = Parameters.D_X)"
   ]
  },
  {
   "cell_type": "code",
   "execution_count": null,
   "metadata": {},
   "outputs": [],
   "source": []
  }
 ],
 "metadata": {
  "kernelspec": {
   "display_name": "Python 3",
   "language": "python",
   "name": "python3"
  },
  "language_info": {
   "codemirror_mode": {
    "name": "ipython",
    "version": 3
   },
   "file_extension": ".py",
   "mimetype": "text/x-python",
   "name": "python",
   "nbconvert_exporter": "python",
   "pygments_lexer": "ipython3",
   "version": "3.7.5"
  },
  "pycharm": {
   "stem_cell": {
    "cell_type": "raw",
    "source": [],
    "metadata": {
     "collapsed": false
    }
   }
  }
 },
 "nbformat": 4,
 "nbformat_minor": 2
}