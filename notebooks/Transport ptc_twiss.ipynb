{
 "cells": [
  {
   "cell_type": "code",
   "execution_count": null,
   "metadata": {},
   "outputs": [],
   "source": [
    "import matplotlib.pyplot as plt\n",
    "import seaborn as sns\n",
    "import visualization.visualize as visualize\n",
    "import os\n",
    "import transporters.transporters_factory as transporters_factory\n",
    "import transporters.madx.ptc_twiss.runner as madx_getter\n",
    "from data.parameters_names import ParametersNames as Parameters\n",
    "from data.grid_configuration import GeometricalCoordinatesGridConfiguration\n",
    "from transporters.madx.ptc_twiss.configuration import PtcTwissConfiguration\n",
    "sns.set_style(\"whitegrid\")"
   ]
  },
  {
   "cell_type": "code",
   "execution_count": null,
   "metadata": {},
   "outputs": [],
   "source": [
    "path_to_project = \"path_to_folder_with_optic\"\n",
    "optic_folder_name = \"2016\"\n",
    "xml_file_name = \"configuration_reco_beam1.xml\""
   ]
  },
  {
   "cell_type": "code",
   "execution_count": null,
   "metadata": {},
   "outputs": [],
   "source": [
    "item_number = 2\n",
    "path_to_xml_file = os.path.join(path_to_project, optic_folder_name, xml_file_name)\n",
    "ptc_twiss_configuration = PtcTwissConfiguration.get_configuration_from_file(path_to_xml_file, item_number)\n",
    "ptc_twiss_transporter = transporters_factory.get_transporter(ptc_twiss_configuration)"
   ]
  },
  {
   "cell_type": "code",
   "execution_count": null,
   "metadata": {},
   "outputs": [],
   "source": [
    "x_mean = 0.1e-3\n",
    "delta_x = 0\n",
    "theta_x_mean = 140e-6\n",
    "delta_theta_x = 0\n",
    "y_mean = 0\n",
    "delta_y = 0\n",
    "theta_y_mean = 0\n",
    "delta_theta_y = 0\n",
    "pt_mean = 0\n",
    "delta_pt = 0\n",
    "\n",
    "x_resolution = 1\n",
    "theta_x_resolution = 1\n",
    "y_resolution = 1\n",
    "theta_y_resolution = 1\n",
    "pt_resolution = 1\n",
    "\n",
    "grid_configuration = GeometricalCoordinatesGridConfiguration.from_delta(x_mean, delta_x, x_resolution,\n",
    "                                                       theta_x_mean, delta_theta_x, theta_x_resolution,\n",
    "                                                       y_mean, delta_y, y_resolution,\n",
    "                                                       theta_y_mean, delta_theta_y, theta_y_resolution,\n",
    "                                                        pt_mean, delta_pt, pt_resolution)\n",
    "particles = grid_configuration.generate_grid()"
   ]
  },
  {
   "cell_type": "code",
   "execution_count": null,
   "metadata": {},
   "outputs": [],
   "source": [
    "segments = ptc_twiss_transporter(particles)\n",
    "\n",
    "f, axes = plt.subplots(1, 1)\n",
    "\n",
    "pt = 0\n",
    "\n",
    "matrix = segments[\"end\"]\n",
    "\n",
    "fig = plt.gcf()\n",
    "fig.set_size_inches(5, 5)\n",
    "\n",
    "title_sufix = r'ptc_twiss, pt = 0%, x = 0.1[mm]; $\\theta_x$ = 140e-6; crossing_angle = 140; 2016'\n",
    "\n",
    "axes = visualize.plot_from_one_matrix(Parameters.S, Parameters.X, matrix, title_sufix=title_sufix, plot_function=sns.scatterplot)\n",
    "axes.set_xlim(0,)"
   ]
  },
  {
   "cell_type": "code",
   "execution_count": null,
   "metadata": {},
   "outputs": [],
   "source": []
  },
  {
   "cell_type": "code",
   "execution_count": null,
   "metadata": {},
   "outputs": [],
   "source": [
    "s = 219.55\n",
    "\n",
    "filtered_matrix = matrix.filter_equals(Parameters.S, s)\n",
    "\n",
    "f, axes = plt.subplots(2, 2)\n",
    "\n",
    "fig = plt.gcf()\n",
    "fig.set_size_inches(20,20)\n",
    "\n",
    "title_sufix = \"ptc_twiss, s = 219.55, 2016\"\n",
    "\n",
    "visualize.plot_from_two_matrices(Parameters.THETA_X, Parameters.X, filtered_matrix, filtered_matrix, title_sufix, plot_function=sns.scatterplot, ax=axes[0][0])\n",
    "\n",
    "visualize.plot_from_two_matrices(Parameters.THETA_X, Parameters.Y, filtered_matrix, filtered_matrix, title_sufix, ax=axes[0][1])\n",
    "\n",
    "visualize.plot_from_two_matrices(Parameters.THETA_X, Parameters.D_X, filtered_matrix, filtered_matrix, title_sufix, ax=axes[1][0])\n",
    "\n",
    "visualize.plot_from_two_matrices(Parameters.THETA_X, Parameters.D_Y, filtered_matrix, filtered_matrix, title_sufix, ax=axes[1][1])"
   ]
  },
  {
   "cell_type": "code",
   "execution_count": null,
   "metadata": {},
   "outputs": [],
   "source": [
    "path_to_xml_file = \"/home/rafalmucha/Pobrane/optic/2016/configuration_reconst_beam1.xml\"\n",
    "station_number = 2\n",
    "twiss_configuration = PtcTwissConfiguration.get_configuration_from_file(path_to_xml_file, station_number)"
   ]
  },
  {
   "cell_type": "code",
   "execution_count": null,
   "metadata": {},
   "outputs": [],
   "source": [
    "madx = madx_getter.get_initialized_madx(twiss_configuration)"
   ]
  },
  {
   "cell_type": "code",
   "execution_count": null,
   "metadata": {},
   "outputs": [],
   "source": [
    "twiss_output = madx.twiss(sequence=\"lhcb1\", betx=0.4, bety=0.4, x=1e-3, px=140e-6)"
   ]
  },
  {
   "cell_type": "code",
   "execution_count": null,
   "metadata": {},
   "outputs": [],
   "source": [
    "particles_object = madx_getter.get_particles_object_from_output(twiss_output)"
   ]
  },
  {
   "cell_type": "code",
   "execution_count": null,
   "metadata": {},
   "outputs": [],
   "source": [
    "particles_object.plot(Parameters.S, Parameters.X)"
   ]
  },
  {
   "cell_type": "code",
   "execution_count": null,
   "metadata": {},
   "outputs": [],
   "source": []
  },
  {
   "cell_type": "code",
   "execution_count": null,
   "metadata": {},
   "outputs": [],
   "source": []
  }
 ],
 "metadata": {
  "kernelspec": {
   "display_name": "Python 3",
   "language": "python",
   "name": "python3"
  },
  "language_info": {
   "codemirror_mode": {
    "name": "ipython",
    "version": 3
   },
   "file_extension": ".py",
   "mimetype": "text/x-python",
   "name": "python",
   "nbconvert_exporter": "python",
   "pygments_lexer": "ipython3",
   "version": "3.7.5"
  },
  "pycharm": {
   "stem_cell": {
    "cell_type": "raw",
    "source": [],
    "metadata": {
     "collapsed": false
    }
   }
  }
 },
 "nbformat": 4,
 "nbformat_minor": 2
}