{
 "cells": [
  {
   "cell_type": "code",
   "execution_count": 1,
   "metadata": {},
   "outputs": [],
   "source": [
    "import matplotlib.pyplot as plt\n",
    "import seaborn as sns\n",
    "import visualization.visualize as visualize\n",
    "import os\n",
    "import transporters.transporters_factory as transporters_factory\n",
    "import transporters.ptc_twiss.runner as madx_getter\n",
    "from data.parameters_names import ParametersNames as Parameters\n",
    "from data.grid_configuration import CanonicalCoordinatesGridConfiguration\n",
    "from transporters.ptc_twiss.configuration import PtcTwissConfiguration\n",
    "sns.set_style(\"whitegrid\")"
   ]
  },
  {
   "cell_type": "code",
   "execution_count": 2,
   "metadata": {},
   "outputs": [],
   "source": [
    "path_to_project = \"path_to_folder_with_optics\"\n",
    "\n",
    "optic_folder_name = \"2016\"\n",
    "\n",
    "xml_file_name = \"configuration_reconst_beam1.xml\""
   ]
  },
  {
   "cell_type": "code",
   "execution_count": 3,
   "metadata": {},
   "outputs": [
    {
     "ename": "FileNotFoundError",
     "evalue": "[Errno 2] No such file or directory: 'path_to_folder_with_optics/2016/configuration_reconst_beam1.xml'",
     "output_type": "error",
     "traceback": [
      "\u001b[0;31m---------------------------------------------------------------------------\u001b[0m",
      "\u001b[0;31mFileNotFoundError\u001b[0m                         Traceback (most recent call last)",
      "\u001b[0;32m<ipython-input-3-9d9512cce2fc>\u001b[0m in \u001b[0;36m<module>\u001b[0;34m\u001b[0m\n\u001b[1;32m      1\u001b[0m \u001b[0mitem_number\u001b[0m \u001b[0;34m=\u001b[0m \u001b[0;36m2\u001b[0m\u001b[0;34m\u001b[0m\u001b[0;34m\u001b[0m\u001b[0m\n\u001b[1;32m      2\u001b[0m \u001b[0mpath_to_xml_file\u001b[0m \u001b[0;34m=\u001b[0m \u001b[0mos\u001b[0m\u001b[0;34m.\u001b[0m\u001b[0mpath\u001b[0m\u001b[0;34m.\u001b[0m\u001b[0mjoin\u001b[0m\u001b[0;34m(\u001b[0m\u001b[0mpath_to_project\u001b[0m\u001b[0;34m,\u001b[0m \u001b[0moptic_folder_name\u001b[0m\u001b[0;34m,\u001b[0m \u001b[0mxml_file_name\u001b[0m\u001b[0;34m)\u001b[0m\u001b[0;34m\u001b[0m\u001b[0;34m\u001b[0m\u001b[0m\n\u001b[0;32m----> 3\u001b[0;31m \u001b[0mptc_twiss_configuration\u001b[0m \u001b[0;34m=\u001b[0m \u001b[0mPtcTwissConfiguration\u001b[0m\u001b[0;34m.\u001b[0m\u001b[0mget_configuration_from_file\u001b[0m\u001b[0;34m(\u001b[0m\u001b[0mpath_to_xml_file\u001b[0m\u001b[0;34m,\u001b[0m \u001b[0mitem_number\u001b[0m\u001b[0;34m)\u001b[0m\u001b[0;34m\u001b[0m\u001b[0;34m\u001b[0m\u001b[0m\n\u001b[0m\u001b[1;32m      4\u001b[0m \u001b[0mptc_twiss_transporter\u001b[0m \u001b[0;34m=\u001b[0m \u001b[0mtransporters_factory\u001b[0m\u001b[0;34m.\u001b[0m\u001b[0mget_transporter\u001b[0m\u001b[0;34m(\u001b[0m\u001b[0mptc_twiss_configuration\u001b[0m\u001b[0;34m)\u001b[0m\u001b[0;34m\u001b[0m\u001b[0;34m\u001b[0m\u001b[0m\n",
      "\u001b[0;32m~/Pobrane/optic/optics_generator_python/src/transporters/ptc_twiss/configuration.py\u001b[0m in \u001b[0;36mget_configuration_from_file\u001b[0;34m(path_to_xml_configuration, item_number, if_filter_by_s)\u001b[0m\n\u001b[1;32m     19\u001b[0m     \u001b[0;34m@\u001b[0m\u001b[0mstaticmethod\u001b[0m\u001b[0;34m\u001b[0m\u001b[0;34m\u001b[0m\u001b[0m\n\u001b[1;32m     20\u001b[0m     \u001b[0;32mdef\u001b[0m \u001b[0mget_configuration_from_file\u001b[0m\u001b[0;34m(\u001b[0m\u001b[0mpath_to_xml_configuration\u001b[0m\u001b[0;34m,\u001b[0m \u001b[0mitem_number\u001b[0m\u001b[0;34m,\u001b[0m \u001b[0mif_filter_by_s\u001b[0m\u001b[0;34m=\u001b[0m\u001b[0;32mFalse\u001b[0m\u001b[0;34m)\u001b[0m\u001b[0;34m:\u001b[0m\u001b[0;34m\u001b[0m\u001b[0;34m\u001b[0m\u001b[0m\n\u001b[0;32m---> 21\u001b[0;31m         \u001b[0mconfigurations\u001b[0m \u001b[0;34m=\u001b[0m \u001b[0mxml_parser\u001b[0m\u001b[0;34m.\u001b[0m\u001b[0mget_approximator_configurations_from\u001b[0m\u001b[0;34m(\u001b[0m\u001b[0mpath_to_xml_configuration\u001b[0m\u001b[0;34m)\u001b[0m\u001b[0;34m\u001b[0m\u001b[0;34m\u001b[0m\u001b[0m\n\u001b[0m\u001b[1;32m     22\u001b[0m         \u001b[0;32mreturn\u001b[0m \u001b[0mPtcTwissConfiguration\u001b[0m\u001b[0;34m(\u001b[0m\u001b[0mconfigurations\u001b[0m\u001b[0;34m[\u001b[0m\u001b[0mitem_number\u001b[0m\u001b[0;34m]\u001b[0m\u001b[0;34m.\u001b[0m\u001b[0mtransport_configuration\u001b[0m\u001b[0;34m,\u001b[0m \u001b[0mif_filter_by_s\u001b[0m\u001b[0;34m)\u001b[0m\u001b[0;34m\u001b[0m\u001b[0;34m\u001b[0m\u001b[0m\n\u001b[1;32m     23\u001b[0m \u001b[0;34m\u001b[0m\u001b[0m\n",
      "\u001b[0;32m~/Pobrane/optic/optics_generator_python/src/xml_parser/approximator_training_configuration.py\u001b[0m in \u001b[0;36mget_approximator_configurations_from\u001b[0;34m(path_to_xml_file)\u001b[0m\n\u001b[1;32m     37\u001b[0m \u001b[0;34m\u001b[0m\u001b[0m\n\u001b[1;32m     38\u001b[0m \u001b[0;32mdef\u001b[0m \u001b[0mget_approximator_configurations_from\u001b[0m\u001b[0;34m(\u001b[0m\u001b[0mpath_to_xml_file\u001b[0m\u001b[0;34m)\u001b[0m\u001b[0;34m:\u001b[0m\u001b[0;34m\u001b[0m\u001b[0;34m\u001b[0m\u001b[0m\n\u001b[0;32m---> 39\u001b[0;31m     \u001b[0mconfigurations\u001b[0m \u001b[0;34m=\u001b[0m \u001b[0mget_xml_configuration_from_file\u001b[0m\u001b[0;34m(\u001b[0m\u001b[0mpath_to_xml_file\u001b[0m\u001b[0;34m)\u001b[0m\u001b[0;34m\u001b[0m\u001b[0;34m\u001b[0m\u001b[0m\n\u001b[0m\u001b[1;32m     40\u001b[0m     approximator_configurations = [ApproximatorTrainingConfiguration.get_configuration_from(configuration)\n\u001b[1;32m     41\u001b[0m                                    for configuration in configurations]\n",
      "\u001b[0;32m~/Pobrane/optic/optics_generator_python/src/xml_parser/approximator_training_configuration.py\u001b[0m in \u001b[0;36mget_xml_configuration_from_file\u001b[0;34m(path_to_xml_file)\u001b[0m\n\u001b[1;32m     32\u001b[0m \u001b[0;34m\u001b[0m\u001b[0m\n\u001b[1;32m     33\u001b[0m \u001b[0;32mdef\u001b[0m \u001b[0mget_xml_configuration_from_file\u001b[0m\u001b[0;34m(\u001b[0m\u001b[0mpath_to_xml_file\u001b[0m\u001b[0;34m)\u001b[0m\u001b[0;34m:\u001b[0m\u001b[0;34m\u001b[0m\u001b[0;34m\u001b[0m\u001b[0m\n\u001b[0;32m---> 34\u001b[0;31m     \u001b[0mtree\u001b[0m \u001b[0;34m=\u001b[0m \u001b[0mET\u001b[0m\u001b[0;34m.\u001b[0m\u001b[0mparse\u001b[0m\u001b[0;34m(\u001b[0m\u001b[0mpath_to_xml_file\u001b[0m\u001b[0;34m)\u001b[0m  \u001b[0;31m# load configuration from xml file\u001b[0m\u001b[0;34m\u001b[0m\u001b[0;34m\u001b[0m\u001b[0m\n\u001b[0m\u001b[1;32m     35\u001b[0m     \u001b[0;32mreturn\u001b[0m \u001b[0mtree\u001b[0m\u001b[0;34m.\u001b[0m\u001b[0mgetroot\u001b[0m\u001b[0;34m(\u001b[0m\u001b[0;34m)\u001b[0m\u001b[0;34m\u001b[0m\u001b[0;34m\u001b[0m\u001b[0m\n\u001b[1;32m     36\u001b[0m \u001b[0;34m\u001b[0m\u001b[0m\n",
      "\u001b[0;32m/usr/lib64/python3.7/xml/etree/ElementTree.py\u001b[0m in \u001b[0;36mparse\u001b[0;34m(source, parser)\u001b[0m\n\u001b[1;32m   1195\u001b[0m     \"\"\"\n\u001b[1;32m   1196\u001b[0m     \u001b[0mtree\u001b[0m \u001b[0;34m=\u001b[0m \u001b[0mElementTree\u001b[0m\u001b[0;34m(\u001b[0m\u001b[0;34m)\u001b[0m\u001b[0;34m\u001b[0m\u001b[0;34m\u001b[0m\u001b[0m\n\u001b[0;32m-> 1197\u001b[0;31m     \u001b[0mtree\u001b[0m\u001b[0;34m.\u001b[0m\u001b[0mparse\u001b[0m\u001b[0;34m(\u001b[0m\u001b[0msource\u001b[0m\u001b[0;34m,\u001b[0m \u001b[0mparser\u001b[0m\u001b[0;34m)\u001b[0m\u001b[0;34m\u001b[0m\u001b[0;34m\u001b[0m\u001b[0m\n\u001b[0m\u001b[1;32m   1198\u001b[0m     \u001b[0;32mreturn\u001b[0m \u001b[0mtree\u001b[0m\u001b[0;34m\u001b[0m\u001b[0;34m\u001b[0m\u001b[0m\n\u001b[1;32m   1199\u001b[0m \u001b[0;34m\u001b[0m\u001b[0m\n",
      "\u001b[0;32m/usr/lib64/python3.7/xml/etree/ElementTree.py\u001b[0m in \u001b[0;36mparse\u001b[0;34m(self, source, parser)\u001b[0m\n\u001b[1;32m    585\u001b[0m         \u001b[0mclose_source\u001b[0m \u001b[0;34m=\u001b[0m \u001b[0;32mFalse\u001b[0m\u001b[0;34m\u001b[0m\u001b[0;34m\u001b[0m\u001b[0m\n\u001b[1;32m    586\u001b[0m         \u001b[0;32mif\u001b[0m \u001b[0;32mnot\u001b[0m \u001b[0mhasattr\u001b[0m\u001b[0;34m(\u001b[0m\u001b[0msource\u001b[0m\u001b[0;34m,\u001b[0m \u001b[0;34m\"read\"\u001b[0m\u001b[0;34m)\u001b[0m\u001b[0;34m:\u001b[0m\u001b[0;34m\u001b[0m\u001b[0;34m\u001b[0m\u001b[0m\n\u001b[0;32m--> 587\u001b[0;31m             \u001b[0msource\u001b[0m \u001b[0;34m=\u001b[0m \u001b[0mopen\u001b[0m\u001b[0;34m(\u001b[0m\u001b[0msource\u001b[0m\u001b[0;34m,\u001b[0m \u001b[0;34m\"rb\"\u001b[0m\u001b[0;34m)\u001b[0m\u001b[0;34m\u001b[0m\u001b[0;34m\u001b[0m\u001b[0m\n\u001b[0m\u001b[1;32m    588\u001b[0m             \u001b[0mclose_source\u001b[0m \u001b[0;34m=\u001b[0m \u001b[0;32mTrue\u001b[0m\u001b[0;34m\u001b[0m\u001b[0;34m\u001b[0m\u001b[0m\n\u001b[1;32m    589\u001b[0m         \u001b[0;32mtry\u001b[0m\u001b[0;34m:\u001b[0m\u001b[0;34m\u001b[0m\u001b[0;34m\u001b[0m\u001b[0m\n",
      "\u001b[0;31mFileNotFoundError\u001b[0m: [Errno 2] No such file or directory: 'path_to_folder_with_optics/2016/configuration_reconst_beam1.xml'"
     ]
    }
   ],
   "source": [
    "item_number = 2\n",
    "path_to_xml_file = os.path.join(path_to_project, optic_folder_name, xml_file_name)\n",
    "ptc_twiss_configuration = PtcTwissConfiguration.get_configuration_from_file(path_to_xml_file, item_number)\n",
    "ptc_twiss_transporter = transporters_factory.get_transporter(ptc_twiss_configuration)"
   ]
  },
  {
   "cell_type": "code",
   "execution_count": null,
   "metadata": {},
   "outputs": [],
   "source": [
    "x_mean = 0.1e-3\n",
    "delta_x = 0\n",
    "theta_x_mean = 150e-6\n",
    "delta_theta_x = 10e-6\n",
    "y_mean = 0\n",
    "delta_y = 0\n",
    "theta_y_mean = 0\n",
    "delta_theta_y = 0\n",
    "pt_mean = 0\n",
    "delta_pt = 0\n",
    "\n",
    "x_resolution = 1\n",
    "theta_x_resolution = 11\n",
    "y_resolution = 1\n",
    "theta_y_resolution = 1\n",
    "pt_resolution = 1\n",
    "\n",
    "grid_configuration = CanonicalCoordinatesGridConfiguration.from_delta(x_mean, delta_x, x_resolution,\n",
    "                                                       theta_x_mean, delta_theta_x, theta_x_resolution,\n",
    "                                                       y_mean, delta_y, y_resolution,\n",
    "                                                       theta_y_mean, delta_theta_y, theta_y_resolution,\n",
    "                                                        pt_mean, delta_pt, pt_resolution)\n",
    "particles = grid_configuration.generate_grid()"
   ]
  },
  {
   "cell_type": "code",
   "execution_count": null,
   "metadata": {},
   "outputs": [],
   "source": [
    "segments = ptc_twiss_transporter(particles)\n",
    "\n",
    "f, axes = plt.subplots(1, 1)\n",
    "\n",
    "pt = 0\n",
    "\n",
    "matrix = segments[\"end\"]\n",
    "\n",
    "fig = plt.gcf()\n",
    "fig.set_size_inches(5, 5)\n",
    "\n",
    "title_sufix = r'ptc_twiss, pt = 0%, x = 0.1[mm]; $\\theta_x$ = 140-160e-6; crossing_angle = 140; 2017_matched'\n",
    "\n",
    "axes = visualize.plot_from_one_matrix(Parameters.S, Parameters.X, matrix, title_sufix=title_sufix, plot_function=sns.scatterplot)\n",
    "axes.set_xlim(0,)"
   ]
  },
  {
   "cell_type": "code",
   "execution_count": null,
   "metadata": {},
   "outputs": [],
   "source": [
    "s = 219.55\n",
    "\n",
    "filtered_matrix = matrix.filter_equals(Parameters.S, s)\n",
    "\n",
    "f, axes = plt.subplots(2, 2)\n",
    "\n",
    "fig = plt.gcf()\n",
    "fig.set_size_inches(20,20)\n",
    "\n",
    "title_sufix = \"ptc_twiss, s = 219.55, 2016\"\n",
    "\n",
    "visualize.plot_from_two_matrices(Parameters.THETA_X, Parameters.X, filtered_matrix, filtered_matrix, title_sufix, plot_function=sns.scatterplot, ax=axes[0][0])\n",
    "\n",
    "visualize.plot_from_two_matrices(Parameters.THETA_X, Parameters.Y, filtered_matrix, filtered_matrix, title_sufix, ax=axes[0][1])\n",
    "\n",
    "visualize.plot_from_two_matrices(Parameters.THETA_X, Parameters.D_X, filtered_matrix, filtered_matrix, title_sufix, ax=axes[1][0])\n",
    "\n",
    "visualize.plot_from_two_matrices(Parameters.THETA_X, Parameters.D_Y, filtered_matrix, filtered_matrix, title_sufix, ax=axes[1][1])"
   ]
  },
  {
   "cell_type": "code",
   "execution_count": 4,
   "metadata": {},
   "outputs": [],
   "source": [
    "path_to_xml_file = \"/home/rafalmucha/Pobrane/optic/2016/configuration_reconst_beam1.xml\"\n",
    "station_number = 2\n",
    "twiss_configuration = PtcTwissConfiguration.get_configuration_from_file(path_to_xml_file, station_number)"
   ]
  },
  {
   "cell_type": "code",
   "execution_count": 5,
   "metadata": {},
   "outputs": [],
   "source": [
    "madx = madx_getter.get_initialized_madx(twiss_configuration)"
   ]
  },
  {
   "cell_type": "code",
   "execution_count": 24,
   "metadata": {},
   "outputs": [],
   "source": [
    "twiss_output = madx.twiss(sequence=\"lhcb1\", betx=0.4, bety=0.4, x=1e-3, px=140e-6)"
   ]
  },
  {
   "cell_type": "code",
   "execution_count": 25,
   "metadata": {},
   "outputs": [],
   "source": [
    "particles_object = madx_getter.get_particles_object_from_output(twiss_output)"
   ]
  },
  {
   "cell_type": "code",
   "execution_count": 26,
   "metadata": {},
   "outputs": [
    {
     "data": {
      "text/plain": [
       "<matplotlib.axes._subplots.AxesSubplot at 0x7f3aec628650>"
      ]
     },
     "execution_count": 26,
     "metadata": {},
     "output_type": "execute_result"
    },
    {
     "data": {
      "image/png": "[encoded data removed]",
      "text/plain": [
       "<Figure size 432x288 with 1 Axes>"
      ]
     },
     "metadata": {
      "needs_background": "light"
     },
     "output_type": "display_data"
    }
   ],
   "source": [
    "particles_object.plot(Parameters.S, Parameters.X)"
   ]
  },
  {
   "cell_type": "code",
   "execution_count": null,
   "metadata": {},
   "outputs": [],
   "source": []
  },
  {
   "cell_type": "code",
   "execution_count": null,
   "metadata": {},
   "outputs": [],
   "source": []
  }
 ],
 "metadata": {
  "kernelspec": {
   "display_name": "Python 3",
   "language": "python",
   "name": "python3"
  },
  "language_info": {
   "codemirror_mode": {
    "name": "ipython",
    "version": 3
   },
   "file_extension": ".py",
   "mimetype": "text/x-python",
   "name": "python",
   "nbconvert_exporter": "python",
   "pygments_lexer": "ipython3",
   "version": "3.7.5"
  },
  "pycharm": {
   "stem_cell": {
    "cell_type": "raw",
    "metadata": {
     "collapsed": false
    },
    "source": []
   }
  }
 },
 "nbformat": 4,
 "nbformat_minor": 2
}
