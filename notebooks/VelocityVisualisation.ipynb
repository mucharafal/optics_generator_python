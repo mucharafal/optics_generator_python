{
 "cells": [
  {
   "cell_type": "code",
   "execution_count": 1,
   "metadata": {},
   "outputs": [],
   "source": [
    "import uproot\n",
    "import numpy as np\n",
    "from matplotlib.image import NonUniformImage\n",
    "import matplotlib.pyplot as plt\n",
    "import pandas as pd\n",
    "import seaborn as sns\n",
    "sns.set(style=\"white\")"
   ]
  },
  {
   "cell_type": "code",
   "execution_count": 2,
   "metadata": {},
   "outputs": [],
   "source": [
    "your_path_to_s = \"/home/rafalmucha/Pobrane/optic/s\"\n",
    "uf = uproot.open(your_path_to_s + \"/samples_beam_1_ip_150.root\")"
   ]
  },
  {
   "cell_type": "code",
   "execution_count": 3,
   "metadata": {},
   "outputs": [
    {
     "data": {
      "text/plain": [
       "[b'x_in',\n",
       " b'theta_x_in',\n",
       " b'y_in',\n",
       " b'theta_y_in',\n",
       " b'ksi_in',\n",
       " b's_in',\n",
       " b'def_x_out',\n",
       " b'def_theta_x_out',\n",
       " b'def_y_out',\n",
       " b'def_theta_y_out',\n",
       " b'def_ksi_out',\n",
       " b'def_s_out',\n",
       " b'def_valid_out',\n",
       " b'mqxb.b2r5_x_out',\n",
       " b'mqxb.b2r5_theta_x_out',\n",
       " b'mqxb.b2r5_y_out',\n",
       " b'mqxb.b2r5_theta_y_out',\n",
       " b'mqxb.b2r5_ksi_out',\n",
       " b'mqxb.b2r5_s_out',\n",
       " b'mqxb.b2r5_valid_out',\n",
       " b'mcbxh.3r5_x_out',\n",
       " b'mcbxh.3r5_theta_x_out',\n",
       " b'mcbxh.3r5_y_out',\n",
       " b'mcbxh.3r5_theta_y_out',\n",
       " b'mcbxh.3r5_ksi_out',\n",
       " b'mcbxh.3r5_s_out',\n",
       " b'mcbxh.3r5_valid_out',\n",
       " b'tanc.4r5_x_out',\n",
       " b'tanc.4r5_theta_x_out',\n",
       " b'tanc.4r5_y_out',\n",
       " b'tanc.4r5_theta_y_out',\n",
       " b'tanc.4r5_ksi_out',\n",
       " b'tanc.4r5_s_out',\n",
       " b'tanc.4r5_valid_out',\n",
       " b'mcbxh.2r5_x_out',\n",
       " b'mcbxh.2r5_theta_x_out',\n",
       " b'mcbxh.2r5_y_out',\n",
       " b'mcbxh.2r5_theta_y_out',\n",
       " b'mcbxh.2r5_ksi_out',\n",
       " b'mcbxh.2r5_s_out',\n",
       " b'mcbxh.2r5_valid_out',\n",
       " b'mqxa.3r5_x_out',\n",
       " b'mqxa.3r5_theta_x_out',\n",
       " b'mqxa.3r5_y_out',\n",
       " b'mqxa.3r5_theta_y_out',\n",
       " b'mqxa.3r5_ksi_out',\n",
       " b'mqxa.3r5_s_out',\n",
       " b'mqxa.3r5_valid_out',\n",
       " b'mqml.5r5.b1_x_out',\n",
       " b'mqml.5r5.b1_theta_x_out',\n",
       " b'mqml.5r5.b1_y_out',\n",
       " b'mqml.5r5.b1_theta_y_out',\n",
       " b'mqml.5r5.b1_ksi_out',\n",
       " b'mqml.5r5.b1_s_out',\n",
       " b'mqml.5r5.b1_valid_out',\n",
       " b'mcbch.5r5.b1_x_out',\n",
       " b'mcbch.5r5.b1_theta_x_out',\n",
       " b'mcbch.5r5.b1_y_out',\n",
       " b'mcbch.5r5.b1_theta_y_out',\n",
       " b'mcbch.5r5.b1_ksi_out',\n",
       " b'mcbch.5r5.b1_s_out',\n",
       " b'mcbch.5r5.b1_valid_out',\n",
       " b'mcbyv.b4r5.b1_x_out',\n",
       " b'mcbyv.b4r5.b1_theta_x_out',\n",
       " b'mcbyv.b4r5.b1_y_out',\n",
       " b'mcbyv.b4r5.b1_theta_y_out',\n",
       " b'mcbyv.b4r5.b1_ksi_out',\n",
       " b'mcbyv.b4r5.b1_s_out',\n",
       " b'mcbyv.b4r5.b1_valid_out',\n",
       " b'tcl.4r5.b2_x_out',\n",
       " b'tcl.4r5.b2_theta_x_out',\n",
       " b'tcl.4r5.b2_y_out',\n",
       " b'tcl.4r5.b2_theta_y_out',\n",
       " b'tcl.4r5.b2_ksi_out',\n",
       " b'tcl.4r5.b2_s_out',\n",
       " b'tcl.4r5.b2_valid_out',\n",
       " b'tcl.5r5.b2_x_out',\n",
       " b'tcl.5r5.b2_theta_x_out',\n",
       " b'tcl.5r5.b2_y_out',\n",
       " b'tcl.5r5.b2_theta_y_out',\n",
       " b'tcl.5r5.b2_ksi_out',\n",
       " b'tcl.5r5.b2_s_out',\n",
       " b'tcl.5r5.b2_valid_out']"
      ]
     },
     "execution_count": 3,
     "metadata": {},
     "output_type": "execute_result"
    }
   ],
   "source": [
    "s = uf['transport_samples']\n",
    "s.keys()"
   ]
  },
  {
   "cell_type": "code",
   "execution_count": 4,
   "metadata": {},
   "outputs": [],
   "source": [
    "prefix = b'def_'\n",
    "sufix = b'_out'\n",
    "# x_name = prefix + b'x' + sufix\n",
    "# y_name = prefix + b'y' + sufix\n",
    "x_middle = b'x'\n",
    "y_middle = b'theta_x'\n",
    "x_name = prefix + x_middle + sufix\n",
    "y_name = prefix + y_middle + sufix"
   ]
  },
  {
   "cell_type": "code",
   "execution_count": 5,
   "metadata": {},
   "outputs": [],
   "source": [
    "arrays = s.arrays([x_name, y_name])"
   ]
  },
  {
   "cell_type": "code",
   "execution_count": 6,
   "metadata": {},
   "outputs": [],
   "source": [
    "x = arrays[x_name]\n",
    "y = arrays[y_name]"
   ]
  },
  {
   "cell_type": "code",
   "execution_count": 7,
   "metadata": {},
   "outputs": [],
   "source": [
    "x = pd.Series(x, name=\"$X$\")\n",
    "y = pd.Series(y, name=\"$Y$\")\n",
    "frame = pd.DataFrame(data=(x,y))"
   ]
  },
  {
   "cell_type": "code",
   "execution_count": 8,
   "metadata": {},
   "outputs": [
    {
     "data": {
      "text/plain": [
       "0      -0.090310\n",
       "1       0.092409\n",
       "2       0.014333\n",
       "3       0.012567\n",
       "4      -0.061915\n",
       "5      -0.025908\n",
       "6       0.004293\n",
       "7       0.034755\n",
       "8       0.004941\n",
       "9      -0.074391\n",
       "10      0.078249\n",
       "11     -0.086297\n",
       "12     -0.085001\n",
       "13     -0.086777\n",
       "14      0.088431\n",
       "15      0.066593\n",
       "16      0.022291\n",
       "17      0.067009\n",
       "18     -0.067272\n",
       "19     -0.041304\n",
       "20     -0.030310\n",
       "21     -0.089097\n",
       "22      0.060576\n",
       "23      0.058773\n",
       "24     -0.065318\n",
       "25      0.058491\n",
       "26     -0.056415\n",
       "27      0.063863\n",
       "28     -0.089445\n",
       "29     -0.007373\n",
       "          ...   \n",
       "2146    0.029744\n",
       "2147    0.058081\n",
       "2148    0.063905\n",
       "2149   -0.008196\n",
       "2150   -0.032005\n",
       "2151    0.068269\n",
       "2152    0.034300\n",
       "2153    0.090051\n",
       "2154   -0.070587\n",
       "2155   -0.011731\n",
       "2156   -0.002469\n",
       "2157   -0.045389\n",
       "2158    0.079186\n",
       "2159   -0.080066\n",
       "2160    0.040042\n",
       "2161    0.000664\n",
       "2162   -0.012742\n",
       "2163    0.099049\n",
       "2164    0.030345\n",
       "2165    0.000974\n",
       "2166   -0.041239\n",
       "2167   -0.028691\n",
       "2168    0.092582\n",
       "2169   -0.073923\n",
       "2170    0.086167\n",
       "2171   -0.024945\n",
       "2172    0.005384\n",
       "2173    0.021736\n",
       "2174    0.030203\n",
       "2175   -0.001541\n",
       "Name: $X$, Length: 2176, dtype: float64"
      ]
     },
     "execution_count": 8,
     "metadata": {},
     "output_type": "execute_result"
    }
   ],
   "source": [
    "x"
   ]
  },
  {
   "cell_type": "code",
   "execution_count": 19,
   "metadata": {},
   "outputs": [
    {
     "data": {
      "text/plain": [
       "0      0.000057\n",
       "1      0.000134\n",
       "2     -0.000378\n",
       "3     -0.000303\n",
       "4     -0.000330\n",
       "5     -0.000293\n",
       "6      0.000467\n",
       "7     -0.000355\n",
       "8      0.000196\n",
       "9     -0.000422\n",
       "10    -0.000287\n",
       "11    -0.000182\n",
       "12    -0.000138\n",
       "13     0.000474\n",
       "14    -0.000266\n",
       "15     0.000080\n",
       "16     0.000225\n",
       "17     0.000197\n",
       "18     0.000413\n",
       "19     0.000331\n",
       "20    -0.000431\n",
       "21    -0.000349\n",
       "22     0.000312\n",
       "23     0.000382\n",
       "24    -0.000143\n",
       "25     0.000284\n",
       "26     0.000328\n",
       "27     0.000297\n",
       "28    -0.000417\n",
       "29    -0.000079\n",
       "         ...   \n",
       "72     0.000343\n",
       "73     0.000437\n",
       "74     0.000135\n",
       "75    -0.000377\n",
       "76    -0.000233\n",
       "77    -0.000288\n",
       "78     0.000222\n",
       "79     0.000077\n",
       "80    -0.000372\n",
       "81    -0.000421\n",
       "82    -0.000098\n",
       "83     0.000004\n",
       "84     0.000207\n",
       "85    -0.000304\n",
       "86     0.000393\n",
       "87     0.000489\n",
       "88    -0.000213\n",
       "89     0.000506\n",
       "90    -0.000219\n",
       "91    -0.000376\n",
       "92     0.000247\n",
       "93    -0.000330\n",
       "94    -0.000100\n",
       "95     0.000228\n",
       "96     0.000316\n",
       "97     0.000146\n",
       "98    -0.000344\n",
       "99     0.000184\n",
       "100   -0.000109\n",
       "101    0.000255\n",
       "Name: $Y$, Length: 102, dtype: float64"
      ]
     },
     "execution_count": 19,
     "metadata": {},
     "output_type": "execute_result"
    }
   ],
   "source": [
    "y"
   ]
  },
  {
   "cell_type": "code",
   "execution_count": 9,
   "metadata": {},
   "outputs": [
    {
     "data": {
      "text/plain": [
       "Text(0.5, 0.98, 'HERE IS TITLE')"
      ]
     },
     "execution_count": 9,
     "metadata": {},
     "output_type": "execute_result"
    },
    {
     "data": {
      "image/png": "[encoded data removed]",
      "text/plain": [
       "<Figure size 360x360 with 3 Axes>"
      ]
     },
     "metadata": {
      "needs_background": "light"
     },
     "output_type": "display_data"
    }
   ],
   "source": [
    "sns.jointplot(x, y, kind=\"kde\", height=5, space=0).set_axis_labels(xlabel=\"x position\", ylabel=\"y postion\").fig.suptitle(\"HERE IS TITLE\")\n"
   ]
  },
  {
   "cell_type": "code",
   "execution_count": 57,
   "metadata": {},
   "outputs": [
    {
     "data": {
      "text/plain": [
       "[b'x_in',\n",
       " b'theta_x_in',\n",
       " b'y_in',\n",
       " b'theta_y_in',\n",
       " b'ksi_in',\n",
       " b's_in',\n",
       " b'def_x_out',\n",
       " b'def_theta_x_out',\n",
       " b'def_y_out',\n",
       " b'def_theta_y_out',\n",
       " b'def_ksi_out',\n",
       " b'def_s_out',\n",
       " b'def_valid_out',\n",
       " b'mqxb.b2r5_x_out',\n",
       " b'mqxb.b2r5_theta_x_out',\n",
       " b'mqxb.b2r5_y_out',\n",
       " b'mqxb.b2r5_theta_y_out',\n",
       " b'mqxb.b2r5_ksi_out',\n",
       " b'mqxb.b2r5_s_out',\n",
       " b'mqxb.b2r5_valid_out',\n",
       " b'mcbxh.3r5_x_out',\n",
       " b'mcbxh.3r5_theta_x_out',\n",
       " b'mcbxh.3r5_y_out',\n",
       " b'mcbxh.3r5_theta_y_out',\n",
       " b'mcbxh.3r5_ksi_out',\n",
       " b'mcbxh.3r5_s_out',\n",
       " b'mcbxh.3r5_valid_out',\n",
       " b'tanc.4r5_x_out',\n",
       " b'tanc.4r5_theta_x_out',\n",
       " b'tanc.4r5_y_out',\n",
       " b'tanc.4r5_theta_y_out',\n",
       " b'tanc.4r5_ksi_out',\n",
       " b'tanc.4r5_s_out',\n",
       " b'tanc.4r5_valid_out',\n",
       " b'mcbxh.2r5_x_out',\n",
       " b'mcbxh.2r5_theta_x_out',\n",
       " b'mcbxh.2r5_y_out',\n",
       " b'mcbxh.2r5_theta_y_out',\n",
       " b'mcbxh.2r5_ksi_out',\n",
       " b'mcbxh.2r5_s_out',\n",
       " b'mcbxh.2r5_valid_out',\n",
       " b'mqxa.3r5_x_out',\n",
       " b'mqxa.3r5_theta_x_out',\n",
       " b'mqxa.3r5_y_out',\n",
       " b'mqxa.3r5_theta_y_out',\n",
       " b'mqxa.3r5_ksi_out',\n",
       " b'mqxa.3r5_s_out',\n",
       " b'mqxa.3r5_valid_out',\n",
       " b'mqml.5r5.b1_x_out',\n",
       " b'mqml.5r5.b1_theta_x_out',\n",
       " b'mqml.5r5.b1_y_out',\n",
       " b'mqml.5r5.b1_theta_y_out',\n",
       " b'mqml.5r5.b1_ksi_out',\n",
       " b'mqml.5r5.b1_s_out',\n",
       " b'mqml.5r5.b1_valid_out',\n",
       " b'mcbch.5r5.b1_x_out',\n",
       " b'mcbch.5r5.b1_theta_x_out',\n",
       " b'mcbch.5r5.b1_y_out',\n",
       " b'mcbch.5r5.b1_theta_y_out',\n",
       " b'mcbch.5r5.b1_ksi_out',\n",
       " b'mcbch.5r5.b1_s_out',\n",
       " b'mcbch.5r5.b1_valid_out',\n",
       " b'mcbyv.b4r5.b1_x_out',\n",
       " b'mcbyv.b4r5.b1_theta_x_out',\n",
       " b'mcbyv.b4r5.b1_y_out',\n",
       " b'mcbyv.b4r5.b1_theta_y_out',\n",
       " b'mcbyv.b4r5.b1_ksi_out',\n",
       " b'mcbyv.b4r5.b1_s_out',\n",
       " b'mcbyv.b4r5.b1_valid_out',\n",
       " b'tcl.4r5.b2_x_out',\n",
       " b'tcl.4r5.b2_theta_x_out',\n",
       " b'tcl.4r5.b2_y_out',\n",
       " b'tcl.4r5.b2_theta_y_out',\n",
       " b'tcl.4r5.b2_ksi_out',\n",
       " b'tcl.4r5.b2_s_out',\n",
       " b'tcl.4r5.b2_valid_out',\n",
       " b'tcl.5r5.b2_x_out',\n",
       " b'tcl.5r5.b2_theta_x_out',\n",
       " b'tcl.5r5.b2_y_out',\n",
       " b'tcl.5r5.b2_theta_y_out',\n",
       " b'tcl.5r5.b2_ksi_out',\n",
       " b'tcl.5r5.b2_s_out',\n",
       " b'tcl.5r5.b2_valid_out']"
      ]
     },
     "execution_count": 57,
     "metadata": {},
     "output_type": "execute_result"
    }
   ],
   "source": [
    "s.keys()"
   ]
  },
  {
   "cell_type": "code",
   "execution_count": null,
   "metadata": {},
   "outputs": [],
   "source": []
  }
 ],
 "metadata": {
  "kernelspec": {
   "display_name": "Python 3",
   "language": "python",
   "name": "python3"
  },
  "language_info": {
   "codemirror_mode": {
    "name": "ipython",
    "version": 3
   },
   "file_extension": ".py",
   "mimetype": "text/x-python",
   "name": "python",
   "nbconvert_exporter": "python",
   "pygments_lexer": "ipython3",
   "version": "3.7.3"
  }
 },
 "nbformat": 4,
 "nbformat_minor": 2
}
