{
 "cells": [
  {
   "cell_type": "code",
   "execution_count": 1,
   "metadata": {},
   "outputs": [],
   "source": [
    "import ptc_twiss.madx_configuration as twiss_configuration\n",
    "import ptc_twiss.optical_functions as twiss_optics_parameters\n",
    "import ptc_twiss.transporter as twiss_transport\n",
    "import ptc_track.madx_configuration as track_configuration\n",
    "import ptc_track.optical_functions as track_optics_parameters\n",
    "import ptc_track.transporter as track_transport\n",
    "import visualization.optics_parameter_visualisation as plotter\n",
    "import data.grid_configuration as buc\n",
    "import data.particles_generator as pg\n",
    "import os\n",
    "import matplotlib.pyplot as plt\n",
    "import seaborn as sns\n",
    "from data.parameters_names import ParametersNames as Parameters"
   ]
  },
  {
   "cell_type": "code",
   "execution_count": 2,
   "metadata": {},
   "outputs": [],
   "source": [
    "sns.set_style(\"whitegrid\")"
   ]
  },
  {
   "cell_type": "markdown",
   "metadata": {},
   "source": [
    "Change below path for path to unziped folder"
   ]
  },
  {
   "cell_type": "code",
   "execution_count": 3,
   "metadata": {},
   "outputs": [
    {
     "name": "stdout",
     "output_type": "stream",
     "text": [
      "/home/jakub/Desktop/optic_files/optics_generator_python\n",
      "/home/jakub/Desktop/optic_files\n"
     ]
    }
   ],
   "source": [
    "%cd ..\n",
    "%cd .."
   ]
  },
  {
   "cell_type": "code",
   "execution_count": 4,
   "metadata": {},
   "outputs": [],
   "source": [
    "#path_to_project = \"/home/jakub/Desktop/optic_files\"\n",
    "path_to_project = %pwd\n",
    "folder_name = \"2017_nominal\"\n",
    "script_file_name = \"ptc_twiss_script.madx\"\n",
    "xml_file_name = \"configuration_reco_beam1.xml\""
   ]
  },
  {
   "cell_type": "code",
   "execution_count": 5,
   "metadata": {},
   "outputs": [],
   "source": [
    "path_to_script = os.path.join(path_to_project, folder_name, script_file_name)\n",
    "s = 219.55\n",
    "twiss_configuration = twiss_configuration.TwissConfiguration(path_to_script, s)\n",
    "twiss_transporter = twiss_transport.get_transporter(twiss_configuration)"
   ]
  },
  {
   "cell_type": "code",
   "execution_count": 6,
   "metadata": {},
   "outputs": [],
   "source": [
    "path_to_configuration = os.path.join(path_to_project, folder_name)\n",
    "path_to_xml_file = os.path.join(path_to_project, folder_name, xml_file_name)\n",
    "item_number = 2\n",
    "track_configuration = track_configuration.TrackConfiguration(path_to_xml_file, item_number, path_to_configuration)\n",
    "track_transporter = track_transport.get_transporter(track_configuration)"
   ]
  },
  {
   "cell_type": "code",
   "execution_count": 7,
   "metadata": {},
   "outputs": [],
   "source": [
    "x_mean = 0\n",
    "sigma_x = 0\n",
    "theta_x_mean = 75e-6\n",
    "sigma_theta_x = 75e-6\n",
    "y_mean = 0\n",
    "sigma_y = 0\n",
    "theta_y_mean = 0\n",
    "sigma_theta_y = 0\n",
    "pt_mean = 0\n",
    "sigma_pt = 0\n",
    "\n",
    "x_resolution = 1\n",
    "theta_x_resolution = 11\n",
    "y_resolution = 1\n",
    "theta_y_resolution = 1\n",
    "pt_resolution = 1\n",
    "\n",
    "grid_configuration_120 = buc.GridConfiguration.from_sigma(x_mean, sigma_x, x_resolution,\n",
    "                                                       theta_x_mean, sigma_theta_x, theta_x_resolution,\n",
    "                                                       y_mean, sigma_y, y_resolution,\n",
    "                                                       theta_y_mean, sigma_theta_y, theta_y_resolution,\n",
    "                                                        pt_mean, sigma_pt, pt_resolution)\n",
    "grid_120_name = r\"$\\theta_x = 120\\mu$rad \"\n",
    "particles = pg.generate_from_range(grid_configuration_120)"
   ]
  },
  {
   "cell_type": "code",
   "execution_count": 8,
   "metadata": {},
   "outputs": [],
   "source": [
    "title_sufix = \"2017 nominal; \" + r\"$\\theta_x$=XA; $\\xi$=0\"\n",
    "transporter1 = \"ptc_twiss; madx 5.05.02\"\n",
    "transporter2 = \"track\""
   ]
  },
  {
   "cell_type": "code",
   "execution_count": 9,
   "metadata": {},
   "outputs": [
    {
     "data": {
      "text/plain": [
       "[<matplotlib.axis.XTick at 0x7f9f88c3ff60>,\n",
       " <matplotlib.axis.XTick at 0x7f9f88c3f7b8>,\n",
       " <matplotlib.axis.XTick at 0x7f9fca7fa0f0>,\n",
       " <matplotlib.axis.XTick at 0x7f9f88bc30b8>,\n",
       " <matplotlib.axis.XTick at 0x7f9f88bc39e8>,\n",
       " <matplotlib.axis.XTick at 0x7f9f88bc3eb8>]"
      ]
     },
     "execution_count": 9,
     "metadata": {},
     "output_type": "execute_result"
    },
    {
     "data": {
      "image/png": "[encoded data removed]",
      "text/plain": [
       "<Figure size 432x288 with 1 Axes>"
      ]
     },
     "metadata": {},
     "output_type": "display_data"
    }
   ],
   "source": [
    "optical_functions = {\n",
    "    transporter1: (twiss_optics_parameters.compute_d_x, twiss_configuration),\n",
    "    transporter2: (track_optics_parameters.compute_d_x, track_transporter)\n",
    "}\n",
    "\n",
    "axes = plotter.plot_optical_functions(particles, optical_functions, Parameters.THETA_X, Parameters.D_X, title_sufix)\n",
    "# axes.set_ylim(-10.25, -8.25)\n",
    "axes.set_xticks(range(0, 151, 30))"
   ]
  },
  {
   "cell_type": "code",
   "execution_count": null,
   "metadata": {},
   "outputs": [],
   "source": []
  }
 ],
 "metadata": {
  "kernelspec": {
   "display_name": "Python 3",
   "language": "python",
   "name": "python3"
  },
  "language_info": {
   "codemirror_mode": {
    "name": "ipython",
    "version": 3
   },
   "file_extension": ".py",
   "mimetype": "text/x-python",
   "name": "python",
   "nbconvert_exporter": "python",
   "pygments_lexer": "ipython3",
   "version": "3.6.8"
  }
 },
 "nbformat": 4,
 "nbformat_minor": 2
}
