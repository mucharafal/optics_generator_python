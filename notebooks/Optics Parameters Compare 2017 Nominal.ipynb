{
 "cells": [
  {
   "cell_type": "code",
   "execution_count": 1,
   "metadata": {},
   "outputs": [],
   "source": [
    "import ptc_twiss.madx_configuration as twiss_configuration\n",
    "import ptc_twiss.optical_functions as twiss_optics_parameters\n",
    "import ptc_twiss.transporter as twiss_transport\n",
    "import ptc_track.madx_configuration as track_configuration\n",
    "import ptc_track.optical_functions as track_optics_parameters\n",
    "import ptc_track.transporter as track_transport\n",
    "import visualization.optics_parameter_visualisation as plotter\n",
    "import data.grid_configuration as buc\n",
    "import data.particles_generator as pg\n",
    "import os\n",
    "import matplotlib.pyplot as plt\n",
    "import seaborn as sns\n",
    "from data.parameters_names import ParametersNames as Parameters"
   ]
  },
  {
   "cell_type": "code",
   "execution_count": 2,
   "metadata": {},
   "outputs": [],
   "source": [
    "sns.set_style(\"whitegrid\")"
   ]
  },
  {
   "cell_type": "markdown",
   "metadata": {},
   "source": [
    "Change below path for path to unziped folder"
   ]
  },
  {
   "cell_type": "code",
   "execution_count": 3,
   "metadata": {},
   "outputs": [],
   "source": [
    "path_to_project = \"/home/jakub/Desktop/optic_files\"\n",
    "folder_name = \"2017_nominal\"\n",
    "script_file_name = \"ptc_twiss_script.madx\"\n",
    "xml_file_name = \"configuration_reco_beam1.xml\""
   ]
  },
  {
   "cell_type": "code",
   "execution_count": 4,
   "metadata": {},
   "outputs": [],
   "source": [
    "path_to_script = os.path.join(path_to_project, folder_name, script_file_name)\n",
    "s = 219.55\n",
    "twiss_configuration = twiss_configuration.TwissConfiguration(path_to_script, s)\n",
    "twiss_transporter = twiss_transport.get_transporter(twiss_configuration)"
   ]
  },
  {
   "cell_type": "code",
   "execution_count": 5,
   "metadata": {},
   "outputs": [],
   "source": [
    "path_to_configuration = os.path.join(path_to_project, folder_name)\n",
    "path_to_xml_file = os.path.join(path_to_project, folder_name, xml_file_name)\n",
    "item_number = 2\n",
    "track_configuration = track_configuration.TrackConfiguration(path_to_xml_file, item_number, path_to_configuration)\n",
    "track_transporter = track_transport.get_transporter(track_configuration)"
   ]
  },
  {
   "cell_type": "code",
   "execution_count": 6,
   "metadata": {},
   "outputs": [],
   "source": [
    "x_mean = 0\n",
    "sigma_x = 0\n",
    "theta_x_mean = 75e-6\n",
    "sigma_theta_x = 75e-6\n",
    "y_mean = 0\n",
    "sigma_y = 0\n",
    "theta_y_mean = 0\n",
    "sigma_theta_y = 0\n",
    "pt_mean = 0\n",
    "sigma_pt = 0\n",
    "\n",
    "x_resolution = 1\n",
    "theta_x_resolution = 11\n",
    "y_resolution = 1\n",
    "theta_y_resolution = 1\n",
    "pt_resolution = 1\n",
    "\n",
    "grid_configuration_120 = buc.GridConfiguration.from_sigma(x_mean, sigma_x, x_resolution,\n",
    "                                                       theta_x_mean, sigma_theta_x, theta_x_resolution,\n",
    "                                                       y_mean, sigma_y, y_resolution,\n",
    "                                                       theta_y_mean, sigma_theta_y, theta_y_resolution,\n",
    "                                                        pt_mean, sigma_pt, pt_resolution)\n",
    "grid_120_name = r\"$\\theta_x = 120\\mu$rad \"\n",
    "particles = pg.generate_from_range(grid_configuration_120)"
   ]
  },
  {
   "cell_type": "code",
   "execution_count": 7,
   "metadata": {},
   "outputs": [],
   "source": [
    "title_sufix = \"2017 nominal; \" + r\"$\\theta_x$=XA; $\\xi$=0\"\n",
    "transporter1 = \"ptc_twiss; madx 5.05.02\"\n",
    "transporter2 = \"track\""
   ]
  },
  {
   "cell_type": "code",
   "execution_count": 8,
   "metadata": {},
   "outputs": [
    {
     "ename": "AttributeError",
     "evalue": "'dict' object has no attribute 'get_coordinates_of'",
     "output_type": "error",
     "traceback": [
      "\u001b[0;31m---------------------------------------------------------------------------\u001b[0m",
      "\u001b[0;31mAttributeError\u001b[0m                            Traceback (most recent call last)",
      "\u001b[0;32m<ipython-input-8-5073998b4b35>\u001b[0m in \u001b[0;36m<module>\u001b[0;34m\u001b[0m\n\u001b[1;32m      4\u001b[0m }\n\u001b[1;32m      5\u001b[0m \u001b[0;34m\u001b[0m\u001b[0m\n\u001b[0;32m----> 6\u001b[0;31m \u001b[0maxes\u001b[0m \u001b[0;34m=\u001b[0m \u001b[0mplotter\u001b[0m\u001b[0;34m.\u001b[0m\u001b[0mplot_optical_functions\u001b[0m\u001b[0;34m(\u001b[0m\u001b[0mparticles\u001b[0m\u001b[0;34m,\u001b[0m \u001b[0moptical_functions\u001b[0m\u001b[0;34m,\u001b[0m \u001b[0mParameters\u001b[0m\u001b[0;34m.\u001b[0m\u001b[0mTHETA_X\u001b[0m\u001b[0;34m,\u001b[0m \u001b[0mParameters\u001b[0m\u001b[0;34m.\u001b[0m\u001b[0mD_X\u001b[0m\u001b[0;34m,\u001b[0m \u001b[0mtitle_sufix\u001b[0m\u001b[0;34m)\u001b[0m\u001b[0;34m\u001b[0m\u001b[0;34m\u001b[0m\u001b[0m\n\u001b[0m\u001b[1;32m      7\u001b[0m \u001b[0;31m# axes.set_ylim(-10.25, -8.25)\u001b[0m\u001b[0;34m\u001b[0m\u001b[0;34m\u001b[0m\u001b[0;34m\u001b[0m\u001b[0m\n\u001b[1;32m      8\u001b[0m \u001b[0maxes\u001b[0m\u001b[0;34m.\u001b[0m\u001b[0mset_xticks\u001b[0m\u001b[0;34m(\u001b[0m\u001b[0mrange\u001b[0m\u001b[0;34m(\u001b[0m\u001b[0;36m0\u001b[0m\u001b[0;34m,\u001b[0m \u001b[0;36m151\u001b[0m\u001b[0;34m,\u001b[0m \u001b[0;36m30\u001b[0m\u001b[0;34m)\u001b[0m\u001b[0;34m)\u001b[0m\u001b[0;34m\u001b[0m\u001b[0;34m\u001b[0m\u001b[0m\n",
      "\u001b[0;32m~/Desktop/optic_files/optics_generator_python/src/visualization/optics_parameter_visualisation.py\u001b[0m in \u001b[0;36mplot_optical_functions\u001b[0;34m(particles, optics_functions, vector_x_name, optic_parameter_name, title, plot_function, **kwargs)\u001b[0m\n\u001b[1;32m     20\u001b[0m     return plot_optical_functions_with_different_datasets({\"\": particles}, optics_functions,\n\u001b[1;32m     21\u001b[0m                                                           \u001b[0mvector_x_name\u001b[0m\u001b[0;34m,\u001b[0m \u001b[0moptic_parameter_name\u001b[0m\u001b[0;34m,\u001b[0m \u001b[0mtitle\u001b[0m\u001b[0;34m,\u001b[0m\u001b[0;34m\u001b[0m\u001b[0;34m\u001b[0m\u001b[0m\n\u001b[0;32m---> 22\u001b[0;31m                                                           plot_function, **kwargs)\n\u001b[0m\u001b[1;32m     23\u001b[0m \u001b[0;34m\u001b[0m\u001b[0m\n\u001b[1;32m     24\u001b[0m \u001b[0;34m\u001b[0m\u001b[0m\n",
      "\u001b[0;32m~/Desktop/optic_files/optics_generator_python/src/visualization/optics_parameter_visualisation.py\u001b[0m in \u001b[0;36mplot_optical_functions_with_different_datasets\u001b[0;34m(datasets, optics_functions_with_configurations, vector_x_name, optic_parameter_name, title, plot_function, **kwargs)\u001b[0m\n\u001b[1;32m     49\u001b[0m             \u001b[0mkey\u001b[0m \u001b[0;34m=\u001b[0m \u001b[0mdataset_name\u001b[0m \u001b[0;34m+\u001b[0m \u001b[0mtransporter_name\u001b[0m\u001b[0;34m\u001b[0m\u001b[0;34m\u001b[0m\u001b[0m\n\u001b[1;32m     50\u001b[0m             new_datasets[key] = create_dataset(optics_functions_with_configurations[transporter_name],\n\u001b[0;32m---> 51\u001b[0;31m                                                particles)\n\u001b[0m\u001b[1;32m     52\u001b[0m \u001b[0;34m\u001b[0m\u001b[0m\n\u001b[1;32m     53\u001b[0m     return visualize.plot_datasets(vector_x_name, optic_parameter_name, \"transporters\", new_datasets, title,\n",
      "\u001b[0;32m~/Desktop/optic_files/optics_generator_python/src/visualization/optics_parameter_visualisation.py\u001b[0m in \u001b[0;36mcreate_dataset\u001b[0;34m(configuration, particles_)\u001b[0m\n\u001b[1;32m     40\u001b[0m     \u001b[0;32mdef\u001b[0m \u001b[0mcreate_dataset\u001b[0m\u001b[0;34m(\u001b[0m\u001b[0mconfiguration\u001b[0m\u001b[0;34m,\u001b[0m \u001b[0mparticles_\u001b[0m\u001b[0;34m)\u001b[0m\u001b[0;34m:\u001b[0m\u001b[0;34m\u001b[0m\u001b[0;34m\u001b[0m\u001b[0m\n\u001b[1;32m     41\u001b[0m         \u001b[0moptical_function\u001b[0m\u001b[0;34m,\u001b[0m \u001b[0mtransporter\u001b[0m \u001b[0;34m=\u001b[0m \u001b[0mconfiguration\u001b[0m\u001b[0;34m\u001b[0m\u001b[0;34m\u001b[0m\u001b[0m\n\u001b[0;32m---> 42\u001b[0;31m         \u001b[0mresult_matrix\u001b[0m \u001b[0;34m=\u001b[0m \u001b[0moptical_function\u001b[0m\u001b[0;34m(\u001b[0m\u001b[0mtransporter\u001b[0m\u001b[0;34m,\u001b[0m \u001b[0mparticles_\u001b[0m\u001b[0;34m)\u001b[0m\u001b[0;34m\u001b[0m\u001b[0;34m\u001b[0m\u001b[0m\n\u001b[0m\u001b[1;32m     43\u001b[0m         \u001b[0;32mreturn\u001b[0m \u001b[0mresult_matrix\u001b[0m\u001b[0;34m\u001b[0m\u001b[0;34m\u001b[0m\u001b[0m\n\u001b[1;32m     44\u001b[0m \u001b[0;34m\u001b[0m\u001b[0m\n",
      "\u001b[0;32m~/Desktop/optic_files/optics_generator_python/src/ptc_track/optical_functions.py\u001b[0m in \u001b[0;36mcompute_d_x\u001b[0;34m(transporter, particles)\u001b[0m\n\u001b[1;32m     33\u001b[0m \u001b[0;32mdef\u001b[0m \u001b[0mcompute_d_x\u001b[0m\u001b[0;34m(\u001b[0m\u001b[0mtransporter\u001b[0m\u001b[0;34m,\u001b[0m \u001b[0mparticles\u001b[0m\u001b[0;34m)\u001b[0m\u001b[0;34m:\u001b[0m\u001b[0;34m\u001b[0m\u001b[0;34m\u001b[0m\u001b[0m\n\u001b[1;32m     34\u001b[0m     particles_with_optical_function = compute_optical_function(transporter, particles, Parameters.PT, Parameters.X,\n\u001b[0;32m---> 35\u001b[0;31m                                                                1e-5, Parameters.D_X)\n\u001b[0m\u001b[1;32m     36\u001b[0m \u001b[0;34m\u001b[0m\u001b[0m\n\u001b[1;32m     37\u001b[0m     \u001b[0;32mreturn\u001b[0m \u001b[0mparticles_with_optical_function\u001b[0m\u001b[0;34m\u001b[0m\u001b[0;34m\u001b[0m\u001b[0m\n",
      "\u001b[0;32m~/Desktop/optic_files/optics_generator_python/src/ptc_track/optical_functions.py\u001b[0m in \u001b[0;36mcompute_optical_function\u001b[0;34m(transporter, particles, delta_parameter_name, transported_parameter_name, delta_alternative_value, optical_function_name)\u001b[0m\n\u001b[1;32m     48\u001b[0m                              delta_alternative_value, optical_function_name):\n\u001b[1;32m     49\u001b[0m     optical_function = optical_function_calculator.compute_optical_function(transporter, particles, delta_parameter_name,\n\u001b[0;32m---> 50\u001b[0;31m                                                                             transported_parameter_name, delta_alternative_value)\n\u001b[0m\u001b[1;32m     51\u001b[0m     \u001b[0mparticles_with_optical_function\u001b[0m \u001b[0;34m=\u001b[0m \u001b[0mparticles\u001b[0m\u001b[0;34m.\u001b[0m\u001b[0madd_column\u001b[0m\u001b[0;34m(\u001b[0m\u001b[0moptical_function_name\u001b[0m\u001b[0;34m,\u001b[0m \u001b[0moptical_function\u001b[0m\u001b[0;34m)\u001b[0m\u001b[0;34m\u001b[0m\u001b[0;34m\u001b[0m\u001b[0m\n\u001b[1;32m     52\u001b[0m     \u001b[0;32mreturn\u001b[0m \u001b[0mparticles_with_optical_function\u001b[0m\u001b[0;34m\u001b[0m\u001b[0;34m\u001b[0m\u001b[0m\n",
      "\u001b[0;32m~/Desktop/optic_files/optics_generator_python/src/utilities/differential_quotient.py\u001b[0m in \u001b[0;36mcompute_optical_function\u001b[0;34m(universal_transporter, particles, delta_parameter_name, transported_parameter_name, delta_alternative_value)\u001b[0m\n\u001b[1;32m     13\u001b[0m     \u001b[0;34m:\u001b[0m\u001b[0;32mreturn\u001b[0m\u001b[0;34m:\u001b[0m\u001b[0;34m\u001b[0m\u001b[0;34m\u001b[0m\u001b[0m\n\u001b[1;32m     14\u001b[0m     \"\"\"\n\u001b[0;32m---> 15\u001b[0;31m     \u001b[0mx1\u001b[0m \u001b[0;34m=\u001b[0m \u001b[0muniversal_transporter\u001b[0m\u001b[0;34m(\u001b[0m\u001b[0mparticles\u001b[0m\u001b[0;34m)\u001b[0m\u001b[0;34m.\u001b[0m\u001b[0mget_coordinates_of\u001b[0m\u001b[0;34m(\u001b[0m\u001b[0mtransported_parameter_name\u001b[0m\u001b[0;34m)\u001b[0m\u001b[0;34m\u001b[0m\u001b[0;34m\u001b[0m\u001b[0m\n\u001b[0m\u001b[1;32m     16\u001b[0m     \u001b[0mdelta_x\u001b[0m \u001b[0;34m=\u001b[0m \u001b[0mcompute_delta\u001b[0m\u001b[0;34m(\u001b[0m\u001b[0mparticles\u001b[0m\u001b[0;34m,\u001b[0m \u001b[0mdelta_parameter_name\u001b[0m\u001b[0;34m,\u001b[0m \u001b[0mdelta_alternative_value\u001b[0m\u001b[0;34m)\u001b[0m\u001b[0;34m\u001b[0m\u001b[0;34m\u001b[0m\u001b[0m\n\u001b[1;32m     17\u001b[0m     \u001b[0mshifted_particles\u001b[0m \u001b[0;34m=\u001b[0m \u001b[0mparticles\u001b[0m\u001b[0;34m.\u001b[0m\u001b[0mshift_parameter\u001b[0m\u001b[0;34m(\u001b[0m\u001b[0mdelta_parameter_name\u001b[0m\u001b[0;34m,\u001b[0m \u001b[0mdelta_x\u001b[0m\u001b[0;34m)\u001b[0m\u001b[0;34m\u001b[0m\u001b[0;34m\u001b[0m\u001b[0m\n",
      "\u001b[0;31mAttributeError\u001b[0m: 'dict' object has no attribute 'get_coordinates_of'"
     ]
    }
   ],
   "source": [
    "optical_functions = {\n",
    "    transporter1: (twiss_optics_parameters.compute_d_x, twiss_configuration),\n",
    "    transporter2: (track_optics_parameters.compute_d_x, track_transporter)\n",
    "}\n",
    "\n",
    "axes = plotter.plot_optical_functions(particles, optical_functions, Parameters.THETA_X, Parameters.D_X, title_sufix)\n",
    "# axes.set_ylim(-10.25, -8.25)\n",
    "axes.set_xticks(range(0, 151, 30))"
   ]
  },
  {
   "cell_type": "code",
   "execution_count": null,
   "metadata": {},
   "outputs": [],
   "source": []
  }
 ],
 "metadata": {
  "kernelspec": {
   "display_name": "Python 2",
   "language": "python",
   "name": "python2"
  },
  "language_info": {
   "codemirror_mode": {
    "name": "ipython",
    "version": 3
   },
   "file_extension": ".py",
   "mimetype": "text/x-python",
   "name": "python",
   "nbconvert_exporter": "python",
   "pygments_lexer": "ipython3",
   "version": "3.6.8"
  }
 },
 "nbformat": 4,
 "nbformat_minor": 2
}
