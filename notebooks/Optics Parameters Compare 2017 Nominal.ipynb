{
 "cells": [
  {
   "cell_type": "code",
   "execution_count": 1,
   "metadata": {},
   "outputs": [],
   "source": [
    "import ptc_twiss.madx_configuration as twiss_configuration\n",
    "import ptc_twiss.matrix_indexes as twiss_indexes\n",
    "import ptc_twiss.optics_parameters as twiss_optics_parameters\n",
    "import ptc_track.madx_configuration as track_configuration\n",
    "import ptc_track.matrix_indexes as track_indexes\n",
    "import ptc_track.optics_parameters as track_optics_parameters\n",
    "import visualization.optics_parameter_visualisation as plotter\n",
    "import data.bunch_configuration as buc\n",
    "import os\n",
    "import matplotlib.pyplot as plt\n",
    "import seaborn as sns"
   ]
  },
  {
   "cell_type": "code",
   "execution_count": 2,
   "metadata": {},
   "outputs": [],
   "source": [
    "sns.set_style(\"whitegrid\")"
   ]
  },
  {
   "cell_type": "markdown",
   "metadata": {},
   "source": [
    "Change below path for path to unziped folder"
   ]
  },
  {
   "cell_type": "code",
   "execution_count": 3,
   "metadata": {},
   "outputs": [],
   "source": [
    "path_to_project = \"/home/rafalmucha/Pobrane/optic\"\n",
    "folder_name = \"2017_nominal\"\n",
    "script_file_name = \"ptc_twiss_script.madx\"\n",
    "xml_file_name = \"configuration_reco_beam1.xml\""
   ]
  },
  {
   "cell_type": "code",
   "execution_count": 4,
   "metadata": {},
   "outputs": [],
   "source": [
    "path_to_script = os.path.join(path_to_project, folder_name, script_file_name)\n",
    "s = 219.55\n",
    "twiss_configuration = twiss_configuration.TwissConfiguration(path_to_script, s)"
   ]
  },
  {
   "cell_type": "code",
   "execution_count": 5,
   "metadata": {},
   "outputs": [],
   "source": [
    "path_to_configuration = os.path.join(path_to_project, folder_name)\n",
    "path_to_xml_file = os.path.join(path_to_project, folder_name, xml_file_name)\n",
    "item_number = 2\n",
    "track_configuration = track_configuration.TrackConfiguration(path_to_xml_file, item_number, path_to_configuration)"
   ]
  },
  {
   "cell_type": "code",
   "execution_count": 57,
   "metadata": {},
   "outputs": [],
   "source": [
    "x_mean = 0\n",
    "sigma_x = 0\n",
    "theta_x_mean = 140e-6\n",
    "sigma_theta_x = 20e-6\n",
    "y_mean = 0\n",
    "sigma_y = 0\n",
    "theta_y_mean = 0\n",
    "sigma_theta_y = 0\n",
    "pt_mean = -0.1\n",
    "sigma_pt = 0\n",
    "\n",
    "x_resolution = 1\n",
    "theta_x_resolution = 11\n",
    "y_resolution = 1\n",
    "theta_y_resolution = 1\n",
    "pt_resolution = 1\n",
    "\n",
    "grid_configuration_120 = buc.BunchConfiguration.from_sigma(x_mean, sigma_x, x_resolution,\n",
    "                                                       theta_x_mean, sigma_theta_x, theta_x_resolution,\n",
    "                                                       y_mean, sigma_y, y_resolution,\n",
    "                                                       theta_y_mean, sigma_theta_y, theta_y_resolution,\n",
    "                                                        pt_mean, sigma_pt, pt_resolution)\n",
    "grid_120_name = r\"$\\theta_x = 120\\mu$rad \""
   ]
  },
  {
   "cell_type": "code",
   "execution_count": 58,
   "metadata": {},
   "outputs": [],
   "source": [
    "theta_x_mean = 140e-6\n",
    "grid_configuration_140 = buc.BunchConfiguration.from_sigma(x_mean, sigma_x, x_resolution,\n",
    "                                                       theta_x_mean, sigma_theta_x, theta_x_resolution,\n",
    "                                                       y_mean, sigma_y, y_resolution,\n",
    "                                                       theta_y_mean, sigma_theta_y, theta_y_resolution,\n",
    "                                                        pt_mean, sigma_pt, pt_resolution)\n",
    "grid_140_name = r\"$\\theta_x = 140\\mu$rad \""
   ]
  },
  {
   "cell_type": "code",
   "execution_count": 59,
   "metadata": {},
   "outputs": [],
   "source": [
    "theta_x_mean = 160e-6\n",
    "grid_configuration_160 = buc.BunchConfiguration.from_sigma(x_mean, sigma_x, x_resolution,\n",
    "                                                       theta_x_mean, sigma_theta_x, theta_x_resolution,\n",
    "                                                       y_mean, sigma_y, y_resolution,\n",
    "                                                       theta_y_mean, sigma_theta_y, theta_y_resolution,\n",
    "                                                        pt_mean, sigma_pt, pt_resolution)\n",
    "grid_160_name = r\"$\\theta_x = 160\\mu$rad \""
   ]
  },
  {
   "cell_type": "code",
   "execution_count": 67,
   "metadata": {},
   "outputs": [],
   "source": [
    "title_sufix = \"2017 nominal; on_x5 = 0; \" + r\"$\\xi$=-0.1\"\n",
    "transporter1 = \"ptc_twiss; madx 5.05.02\""
   ]
  },
  {
   "cell_type": "code",
   "execution_count": 68,
   "metadata": {},
   "outputs": [
    {
     "data": {
      "text/plain": [
       "(-10.25, -8.25)"
      ]
     },
     "execution_count": 68,
     "metadata": {},
     "output_type": "execute_result"
    },
    {
     "data": {
      "image/png": "[encoded data removed]",
      "text/plain": [
       "<Figure size 360x360 with 1 Axes>"
      ]
     },
     "metadata": {},
     "output_type": "display_data"
    }
   ],
   "source": [
    "optical_functions = {\n",
    "#     transporter1: (twiss_optics_parameters.compute_d_x, twiss_configuration),\n",
    "    transporter2: (track_optics_parameters.compute_d_x, track_configuration)\n",
    "}\n",
    "\n",
    "grids = {\n",
    "    grid_120_name: grid_configuration_120,\n",
    "    grid_140_name: grid_configuration_140,\n",
    "    grid_160_name: grid_configuration_160\n",
    "}\n",
    "\n",
    "\n",
    "\n",
    "axes = plotter.plot_optical_functions(grid_configuration_120, optical_functions, \"theta x\", \"D x\", title_sufix)\n",
    "axes.set_ylim(-10.25, -8.25)"
   ]
  },
  {
   "cell_type": "code",
   "execution_count": 69,
   "metadata": {},
   "outputs": [
    {
     "data": {
      "text/plain": [
       "(-5, -3)"
      ]
     },
     "execution_count": 69,
     "metadata": {},
     "output_type": "execute_result"
    },
    {
     "data": {
      "image/png": "[encoded data removed]",
      "text/plain": [
       "<Figure size 360x360 with 1 Axes>"
      ]
     },
     "metadata": {},
     "output_type": "display_data"
    }
   ],
   "source": [
    "optical_functions = {\n",
    "    transporter1: (twiss_optics_parameters.compute_v_x, twiss_configuration),\n",
    "#     transporter2: (track_optics_parameters.compute_v_x, track_configuration)\n",
    "}\n",
    "\n",
    "grids = {\n",
    "    grid_120_name: grid_configuration_120,\n",
    "    grid_140_name: grid_configuration_140,\n",
    "    grid_160_name: grid_configuration_160\n",
    "}\n",
    "\n",
    "\n",
    "\n",
    "axes = plotter.plot_optical_functions(grid_configuration_120, optical_functions, \"theta x\", \"V x\", title_sufix)\n",
    "axes.set_ylim(-5, -3)"
   ]
  },
  {
   "cell_type": "code",
   "execution_count": 76,
   "metadata": {},
   "outputs": [
    {
     "data": {
      "text/plain": [
       "(-37, -35)"
      ]
     },
     "execution_count": 76,
     "metadata": {},
     "output_type": "execute_result"
    },
    {
     "data": {
      "image/png": "[encoded data removed]",
      "text/plain": [
       "<Figure size 360x360 with 1 Axes>"
      ]
     },
     "metadata": {},
     "output_type": "display_data"
    }
   ],
   "source": [
    "optical_functions = {\n",
    "    transporter1: (twiss_optics_parameters.compute_l_x, twiss_configuration),\n",
    "#     transporter2: (track_optics_parameters.compute_l_x, track_configuration)\n",
    "}\n",
    "\n",
    "grids = {\n",
    "    grid_120_name: grid_configuration_120,\n",
    "    grid_140_name: grid_configuration_140,\n",
    "    grid_160_name: grid_configuration_160\n",
    "}\n",
    "\n",
    "\n",
    "\n",
    "axes = plotter.plot_optical_functions(grid_configuration_120, optical_functions, \"theta x\", \"L x\", title_sufix)\n",
    "axes.set_ylim(-37, -35)"
   ]
  },
  {
   "cell_type": "code",
   "execution_count": 52,
   "metadata": {},
   "outputs": [
    {
     "ename": "NameError",
     "evalue": "name 'bunch_configuration' is not defined",
     "output_type": "error",
     "traceback": [
      "\u001b[0;31m---------------------------------------------------------------------------\u001b[0m",
      "\u001b[0;31mNameError\u001b[0m                                 Traceback (most recent call last)",
      "\u001b[0;32m<ipython-input-52-87b6a8990d72>\u001b[0m in \u001b[0;36m<module>\u001b[0;34m\u001b[0m\n\u001b[1;32m      4\u001b[0m }\n\u001b[1;32m      5\u001b[0m \u001b[0;34m\u001b[0m\u001b[0m\n\u001b[0;32m----> 6\u001b[0;31m \u001b[0mplotter\u001b[0m\u001b[0;34m.\u001b[0m\u001b[0mplot_optical_functions\u001b[0m\u001b[0;34m(\u001b[0m\u001b[0mbunch_configuration\u001b[0m\u001b[0;34m,\u001b[0m \u001b[0moptical_functions\u001b[0m\u001b[0;34m,\u001b[0m \u001b[0;34m\"theta x\"\u001b[0m\u001b[0;34m,\u001b[0m \u001b[0;34m\"L y\"\u001b[0m\u001b[0;34m,\u001b[0m \u001b[0mtitle_sufix\u001b[0m\u001b[0;34m)\u001b[0m\u001b[0;34m\u001b[0m\u001b[0;34m\u001b[0m\u001b[0m\n\u001b[0m",
      "\u001b[0;31mNameError\u001b[0m: name 'bunch_configuration' is not defined"
     ]
    }
   ],
   "source": [
    "optical_functions = {\n",
    "    transporter1: (twiss_optics_parameters.compute_l_y, twiss_configuration),\n",
    "    transporter2: (track_optics_parameters.compute_l_y, track_configuration)\n",
    "}\n",
    "\n",
    "plotter.plot_optical_functions(bunch_configuration, optical_functions, \"theta x\", \"L y\", title_sufix)"
   ]
  },
  {
   "cell_type": "code",
   "execution_count": null,
   "metadata": {},
   "outputs": [],
   "source": [
    "import ptc_track.transport_using_optical_functions as transport_function\n",
    "import importlib\n",
    "importlib.reload(transport_function)"
   ]
  },
  {
   "cell_type": "code",
   "execution_count": null,
   "metadata": {},
   "outputs": [],
   "source": [
    "segments_by_function = transport_function.transport(track_configuration, bunch_configuration)"
   ]
  },
  {
   "cell_type": "code",
   "execution_count": null,
   "metadata": {},
   "outputs": [],
   "source": [
    "import ptc_track.particles_trajectory_generator as ptg\n",
    "segments_by_track = ptg.generate_from_range(track_configuration, bunch_configuration)"
   ]
  },
  {
   "cell_type": "code",
   "execution_count": null,
   "metadata": {},
   "outputs": [],
   "source": [
    "sns.scatterplot(x = segments_by_function[\"end\"].T[2], y=segments_by_function[\"end\"].T[0])\n",
    "sns.scatterplot(x = segments_by_track[\"end\"].T[7], y=segments_by_track[\"end\"].T[2])"
   ]
  },
  {
   "cell_type": "code",
   "execution_count": null,
   "metadata": {},
   "outputs": [],
   "source": [
    "segments_by_function[\"end\"]"
   ]
  },
  {
   "cell_type": "code",
   "execution_count": null,
   "metadata": {},
   "outputs": [],
   "source": [
    "x_error = segments_by_function[\"end\"].T[0] - segments_by_track[\"end\"].T[2]"
   ]
  },
  {
   "cell_type": "code",
   "execution_count": null,
   "metadata": {},
   "outputs": [],
   "source": [
    "sns.scatterplot(x = segments_by_track[\"end\"].T[7], y=x_error)"
   ]
  },
  {
   "cell_type": "code",
   "execution_count": null,
   "metadata": {},
   "outputs": [],
   "source": [
    "x_error_relative = x_error / segments_by_track[\"end\"].T[2]"
   ]
  },
  {
   "cell_type": "code",
   "execution_count": null,
   "metadata": {},
   "outputs": [],
   "source": [
    "sns.scatterplot(x = segments_by_track[\"end\"].T[7][:-4], y=x_error_relative[:-4])"
   ]
  },
  {
   "cell_type": "code",
   "execution_count": null,
   "metadata": {},
   "outputs": [],
   "source": []
  }
 ],
 "metadata": {
  "kernelspec": {
   "display_name": "Python 3",
   "language": "python",
   "name": "python3"
  },
  "language_info": {
   "codemirror_mode": {
    "name": "ipython",
    "version": 3
   },
   "file_extension": ".py",
   "mimetype": "text/x-python",
   "name": "python",
   "nbconvert_exporter": "python",
   "pygments_lexer": "ipython3",
   "version": "3.7.4"
  }
 },
 "nbformat": 4,
 "nbformat_minor": 2
}
