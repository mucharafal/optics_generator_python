{
 "cells": [
  {
   "cell_type": "code",
   "execution_count": null,
   "metadata": {
    "scrolled": true
   },
   "outputs": [],
   "source": [
    "import visualization.optics_parameter_visualisation as plotter\n",
    "import data.grid_configuration as grid_configuration_module\n",
    "import os\n",
    "import seaborn as sns\n",
    "from data.parameters_names import ParametersNames as Parameters\n",
    "from transporters.ptc_twiss.configuration import PtcTwissConfiguration\n",
    "from transporters.ptc_track.configuration import PtcTrackConfiguration\n",
    "from transporters.approximator.configuration import ApproximatorConfiguration"
   ]
  },
  {
   "cell_type": "code",
   "execution_count": null,
   "metadata": {
    "scrolled": true
   },
   "outputs": [],
   "source": [
    "sns.set_style(\"whitegrid\")"
   ]
  },
  {
   "cell_type": "code",
   "execution_count": null,
   "metadata": {
    "scrolled": true
   },
   "outputs": [],
   "source": [
    "path_to_project = \"path_to_folder_with_optics\"\n",
    "folder_name = \"2016\"\n",
    "xml_file_name = \"configuration_reconst_beam1.xml\"\n",
    "serialized_approximator_file_name = \"parametrization_6500GeV_0p4_185_reco.root\"\n",
    "approximator_name = \"ip5_to_station_220_h_2_lhcb1\""
   ]
  },
  {
   "cell_type": "code",
   "execution_count": null,
   "metadata": {
    "scrolled": true
   },
   "outputs": [],
   "source": [
    "item_number = 2\n",
    "path_to_xml_file = os.path.join(path_to_project, folder_name, xml_file_name)\n",
    "ptc_twiss_configuration = PtcTwissConfiguration.get_configuration_from_file(path_to_xml_file, item_number, True)"
   ]
  },
  {
   "cell_type": "code",
   "execution_count": null,
   "metadata": {
    "scrolled": true
   },
   "outputs": [],
   "source": [
    "ptc_track_configuration = PtcTrackConfiguration.get_track_configuration_from_xml_file(path_to_xml_file, item_number)"
   ]
  },
  {
   "cell_type": "code",
   "execution_count": null,
   "metadata": {
    "scrolled": true
   },
   "outputs": [],
   "source": [
    "path_to_approximator = os.path.join(path_to_project, folder_name, serialized_approximator_file_name)\n",
    "approximator_configuration = ApproximatorConfiguration(path_to_approximator, approximator_name)"
   ]
  },
  {
   "cell_type": "code",
   "execution_count": null,
   "metadata": {
    "scrolled": true
   },
   "outputs": [],
   "source": [
    "x_mean = 0\n",
    "sigma_x = 0\n",
    "theta_x_mean = 190e-6\n",
    "sigma_theta_x = 0\n",
    "y_mean = 0\n",
    "sigma_y = 0\n",
    "theta_y_mean = 0\n",
    "sigma_theta_y = 0\n",
    "pt_mean = -0.1\n",
    "sigma_pt = 0.1\n",
    "\n",
    "x_resolution = 1\n",
    "theta_x_resolution = 1\n",
    "y_resolution = 1\n",
    "theta_y_resolution = 1\n",
    "pt_resolution = 11\n",
    "\n",
    "grid_configuration = grid_configuration_module.CanonicalCoordinatesGridConfiguration.from_sigma(x_mean, sigma_x, x_resolution,\n",
    "                                                       theta_x_mean, sigma_theta_x, theta_x_resolution,\n",
    "                                                       y_mean, sigma_y, y_resolution,\n",
    "                                                       theta_y_mean, sigma_theta_y, theta_y_resolution,\n",
    "                                                        pt_mean, sigma_pt, pt_resolution)\n",
    "\n",
    "particles = grid_configuration.generate_grid()"
   ]
  },
  {
   "cell_type": "code",
   "execution_count": null,
   "metadata": {
    "scrolled": true
   },
   "outputs": [],
   "source": [
    "title_sufix = \"2016\"\n",
    "transporter1_name = \"ptc_twiss; madx 5.05.02\"\n",
    "transporter2_name = \"ptc_track\"\n",
    "transporter3_name = \"approximator\""
   ]
  },
  {
   "cell_type": "code",
   "execution_count": null,
   "metadata": {
    "scrolled": true
   },
   "outputs": [],
   "source": [
    "transporters = {\n",
    "    transporter1_name: ptc_twiss_configuration,\n",
    "    transporter2_name: ptc_track_configuration,\n",
    "    transporter3_name: approximator_configuration\n",
    "}\n",
    "\n",
    "axes = plotter.generate_and_plot_optical_functions(particles, transporters, Parameters.PT, Parameters.D_X, title_sufix=title_sufix)"
   ]
  },
  {
   "cell_type": "code",
   "execution_count": null,
   "metadata": {
    "scrolled": true
   },
   "outputs": [],
   "source": [
    "axes = plotter.generate_and_plot_optical_functions(particles, transporters, Parameters.PT, Parameters.D_Y, title_sufix=title_sufix)"
   ]
  },
  {
   "cell_type": "code",
   "execution_count": null,
   "metadata": {
    "scrolled": true
   },
   "outputs": [],
   "source": [
    "axes = plotter.generate_and_plot_optical_functions(particles, transporters, Parameters.PT, Parameters.L_X, title_sufix=title_sufix)"
   ]
  },
  {
   "cell_type": "code",
   "execution_count": null,
   "metadata": {
    "scrolled": true
   },
   "outputs": [],
   "source": [
    "axes = plotter.generate_and_plot_optical_functions(particles, transporters, Parameters.PT, Parameters.L_Y, title_sufix=title_sufix)"
   ]
  },
  {
   "cell_type": "code",
   "execution_count": null,
   "metadata": {
    "scrolled": true
   },
   "outputs": [],
   "source": [
    "axes = plotter.generate_and_plot_optical_functions(particles, transporters, Parameters.PT, Parameters.V_X, title_sufix=title_sufix)"
   ]
  },
  {
   "cell_type": "code",
   "execution_count": null,
   "metadata": {
    "scrolled": true
   },
   "outputs": [],
   "source": [
    "axes = plotter.generate_and_plot_optical_functions(particles, transporters, Parameters.PT, Parameters.V_Y, title_sufix=title_sufix)"
   ]
  },
  {
   "cell_type": "code",
   "execution_count": null,
   "metadata": {
    "scrolled": true
   },
   "outputs": [],
   "source": []
  }
 ],
 "metadata": {
  "kernelspec": {
   "display_name": "Python 3",
   "language": "python",
   "name": "python3"
  },
  "language_info": {
   "codemirror_mode": {
    "name": "ipython",
    "version": 3
   },
   "file_extension": ".py",
   "mimetype": "text/x-python",
   "name": "python",
   "nbconvert_exporter": "python",
   "pygments_lexer": "ipython3",
   "version": "3.7.5"
  },
  "pycharm": {
   "stem_cell": {
    "cell_type": "raw",
    "metadata": {
     "collapsed": false
    },
    "source": []
   }
  }
 },
 "nbformat": 4,
 "nbformat_minor": 2
}
